{
 "cells": [
  {
   "cell_type": "code",
   "execution_count": 8,
   "metadata": {},
   "outputs": [],
   "source": [
    "import pandas as pd\n",
    "from pandas import Series, DataFrame\n",
    "import numpy as np\n",
    "import sklearn.preprocessing\n",
    "from sklearn.preprocessing import StandardScaler, RobustScaler\n",
    "import matplotlib.pyplot as plt"
   ]
  },
  {
   "cell_type": "code",
   "execution_count": 2,
   "metadata": {},
   "outputs": [],
   "source": [
    "df=pd.DataFrame(np.random.randn(5,3),\n",
    "               columns=['c1','c2','c3'])"
   ]
  },
  {
   "cell_type": "code",
   "execution_count": 3,
   "metadata": {},
   "outputs": [
    {
     "data": {
      "text/html": [
       "<div>\n",
       "<style scoped>\n",
       "    .dataframe tbody tr th:only-of-type {\n",
       "        vertical-align: middle;\n",
       "    }\n",
       "\n",
       "    .dataframe tbody tr th {\n",
       "        vertical-align: top;\n",
       "    }\n",
       "\n",
       "    .dataframe thead th {\n",
       "        text-align: right;\n",
       "    }\n",
       "</style>\n",
       "<table border=\"1\" class=\"dataframe\">\n",
       "  <thead>\n",
       "    <tr style=\"text-align: right;\">\n",
       "      <th></th>\n",
       "      <th>c1</th>\n",
       "      <th>c2</th>\n",
       "      <th>c3</th>\n",
       "    </tr>\n",
       "  </thead>\n",
       "  <tbody>\n",
       "    <tr>\n",
       "      <th>0</th>\n",
       "      <td>-0.135866</td>\n",
       "      <td>0.163585</td>\n",
       "      <td>-1.571617</td>\n",
       "    </tr>\n",
       "    <tr>\n",
       "      <th>1</th>\n",
       "      <td>0.288336</td>\n",
       "      <td>-0.264973</td>\n",
       "      <td>-3.143145</td>\n",
       "    </tr>\n",
       "    <tr>\n",
       "      <th>2</th>\n",
       "      <td>-0.977667</td>\n",
       "      <td>0.430021</td>\n",
       "      <td>-1.099059</td>\n",
       "    </tr>\n",
       "    <tr>\n",
       "      <th>3</th>\n",
       "      <td>1.018299</td>\n",
       "      <td>0.727402</td>\n",
       "      <td>0.216412</td>\n",
       "    </tr>\n",
       "    <tr>\n",
       "      <th>4</th>\n",
       "      <td>0.191871</td>\n",
       "      <td>-0.350573</td>\n",
       "      <td>0.198597</td>\n",
       "    </tr>\n",
       "  </tbody>\n",
       "</table>\n",
       "</div>"
      ],
      "text/plain": [
       "         c1        c2        c3\n",
       "0 -0.135866  0.163585 -1.571617\n",
       "1  0.288336 -0.264973 -3.143145\n",
       "2 -0.977667  0.430021 -1.099059\n",
       "3  1.018299  0.727402  0.216412\n",
       "4  0.191871 -0.350573  0.198597"
      ]
     },
     "execution_count": 3,
     "metadata": {},
     "output_type": "execute_result"
    }
   ],
   "source": [
    "df"
   ]
  },
  {
   "cell_type": "code",
   "execution_count": 16,
   "metadata": {},
   "outputs": [
    {
     "data": {
      "text/plain": [
       "DatetimeIndex(['2019-07-03', '2019-07-04', '2019-07-05', '2019-07-10'], dtype='datetime64[ns]', freq=None)"
      ]
     },
     "execution_count": 16,
     "metadata": {},
     "output_type": "execute_result"
    }
   ],
   "source": [
    "dfdate=['07/3/2019','07/4/2019','07/5/2019','07/10/2019']\n",
    "dfdate\n",
    "myDate=pd.to_datetime(dfdate)\n",
    "myDate"
   ]
  },
  {
   "cell_type": "code",
   "execution_count": 17,
   "metadata": {},
   "outputs": [
    {
     "data": {
      "text/plain": [
       "2019-07-03     1.0\n",
       "2019-07-04     NaN\n",
       "2019-07-05     NaN\n",
       "2019-07-10    20.0\n",
       "dtype: float64"
      ]
     },
     "execution_count": 17,
     "metadata": {},
     "output_type": "execute_result"
    }
   ],
   "source": [
    "times=Series([1,np.nan, np.nan ,20], index=myDate)\n",
    "times"
   ]
  },
  {
   "cell_type": "code",
   "execution_count": 18,
   "metadata": {},
   "outputs": [
    {
     "data": {
      "text/plain": [
       "2019-07-03     1.000000\n",
       "2019-07-04     7.333333\n",
       "2019-07-05    13.666667\n",
       "2019-07-10    20.000000\n",
       "dtype: float64"
      ]
     },
     "execution_count": 18,
     "metadata": {},
     "output_type": "execute_result"
    }
   ],
   "source": [
    "#보간법(interpolate)\n",
    "ti=times.interpolate()\n",
    "ti"
   ]
  },
  {
   "cell_type": "code",
   "execution_count": 19,
   "metadata": {},
   "outputs": [
    {
     "data": {
      "text/plain": [
       "2019-07-03     1.000000\n",
       "2019-07-04     3.714286\n",
       "2019-07-05     6.428571\n",
       "2019-07-10    20.000000\n",
       "dtype: float64"
      ]
     },
     "execution_count": 19,
     "metadata": {},
     "output_type": "execute_result"
    }
   ],
   "source": [
    "times.interpolate(method=\"time\")"
   ]
  },
  {
   "cell_type": "code",
   "execution_count": 23,
   "metadata": {},
   "outputs": [
    {
     "data": {
      "text/html": [
       "<div>\n",
       "<style scoped>\n",
       "    .dataframe tbody tr th:only-of-type {\n",
       "        vertical-align: middle;\n",
       "    }\n",
       "\n",
       "    .dataframe tbody tr th {\n",
       "        vertical-align: top;\n",
       "    }\n",
       "\n",
       "    .dataframe thead th {\n",
       "        text-align: right;\n",
       "    }\n",
       "</style>\n",
       "<table border=\"1\" class=\"dataframe\">\n",
       "  <thead>\n",
       "    <tr style=\"text-align: right;\">\n",
       "      <th></th>\n",
       "      <th>c1</th>\n",
       "      <th>c2</th>\n",
       "    </tr>\n",
       "  </thead>\n",
       "  <tbody>\n",
       "    <tr>\n",
       "      <th>0</th>\n",
       "      <td>1.0</td>\n",
       "      <td>6.0</td>\n",
       "    </tr>\n",
       "    <tr>\n",
       "      <th>1</th>\n",
       "      <td>2.0</td>\n",
       "      <td>8.0</td>\n",
       "    </tr>\n",
       "    <tr>\n",
       "      <th>2</th>\n",
       "      <td>NaN</td>\n",
       "      <td>10.0</td>\n",
       "    </tr>\n",
       "    <tr>\n",
       "      <th>3</th>\n",
       "      <td>NaN</td>\n",
       "      <td>NaN</td>\n",
       "    </tr>\n",
       "    <tr>\n",
       "      <th>4</th>\n",
       "      <td>5.0</td>\n",
       "      <td>20.0</td>\n",
       "    </tr>\n",
       "  </tbody>\n",
       "</table>\n",
       "</div>"
      ],
      "text/plain": [
       "    c1    c2\n",
       "0  1.0   6.0\n",
       "1  2.0   8.0\n",
       "2  NaN  10.0\n",
       "3  NaN   NaN\n",
       "4  5.0  20.0"
      ]
     },
     "execution_count": 23,
     "metadata": {},
     "output_type": "execute_result"
    }
   ],
   "source": [
    "df=DataFrame({'c1':[1,2,np.nan,np.nan,5],\n",
    "           'c2':[6,8,10,np.nan,20]})\n",
    "df"
   ]
  },
  {
   "cell_type": "code",
   "execution_count": 24,
   "metadata": {},
   "outputs": [
    {
     "data": {
      "text/html": [
       "<div>\n",
       "<style scoped>\n",
       "    .dataframe tbody tr th:only-of-type {\n",
       "        vertical-align: middle;\n",
       "    }\n",
       "\n",
       "    .dataframe tbody tr th {\n",
       "        vertical-align: top;\n",
       "    }\n",
       "\n",
       "    .dataframe thead th {\n",
       "        text-align: right;\n",
       "    }\n",
       "</style>\n",
       "<table border=\"1\" class=\"dataframe\">\n",
       "  <thead>\n",
       "    <tr style=\"text-align: right;\">\n",
       "      <th></th>\n",
       "      <th>c1</th>\n",
       "      <th>c2</th>\n",
       "    </tr>\n",
       "  </thead>\n",
       "  <tbody>\n",
       "    <tr>\n",
       "      <th>0</th>\n",
       "      <td>1.0</td>\n",
       "      <td>6.0</td>\n",
       "    </tr>\n",
       "    <tr>\n",
       "      <th>1</th>\n",
       "      <td>2.0</td>\n",
       "      <td>8.0</td>\n",
       "    </tr>\n",
       "    <tr>\n",
       "      <th>2</th>\n",
       "      <td>3.0</td>\n",
       "      <td>10.0</td>\n",
       "    </tr>\n",
       "    <tr>\n",
       "      <th>3</th>\n",
       "      <td>4.0</td>\n",
       "      <td>15.0</td>\n",
       "    </tr>\n",
       "    <tr>\n",
       "      <th>4</th>\n",
       "      <td>5.0</td>\n",
       "      <td>20.0</td>\n",
       "    </tr>\n",
       "  </tbody>\n",
       "</table>\n",
       "</div>"
      ],
      "text/plain": [
       "    c1    c2\n",
       "0  1.0   6.0\n",
       "1  2.0   8.0\n",
       "2  3.0  10.0\n",
       "3  4.0  15.0\n",
       "4  5.0  20.0"
      ]
     },
     "execution_count": 24,
     "metadata": {},
     "output_type": "execute_result"
    }
   ],
   "source": [
    "df.interpolate(method='values')"
   ]
  },
  {
   "cell_type": "code",
   "execution_count": 25,
   "metadata": {},
   "outputs": [
    {
     "data": {
      "text/html": [
       "<div>\n",
       "<style scoped>\n",
       "    .dataframe tbody tr th:only-of-type {\n",
       "        vertical-align: middle;\n",
       "    }\n",
       "\n",
       "    .dataframe tbody tr th {\n",
       "        vertical-align: top;\n",
       "    }\n",
       "\n",
       "    .dataframe thead th {\n",
       "        text-align: right;\n",
       "    }\n",
       "</style>\n",
       "<table border=\"1\" class=\"dataframe\">\n",
       "  <thead>\n",
       "    <tr style=\"text-align: right;\">\n",
       "      <th></th>\n",
       "      <th>c1</th>\n",
       "      <th>c2</th>\n",
       "    </tr>\n",
       "  </thead>\n",
       "  <tbody>\n",
       "    <tr>\n",
       "      <th>0</th>\n",
       "      <td>1.0</td>\n",
       "      <td>6.0</td>\n",
       "    </tr>\n",
       "    <tr>\n",
       "      <th>1</th>\n",
       "      <td>2.0</td>\n",
       "      <td>8.0</td>\n",
       "    </tr>\n",
       "    <tr>\n",
       "      <th>2</th>\n",
       "      <td>3.0</td>\n",
       "      <td>10.0</td>\n",
       "    </tr>\n",
       "    <tr>\n",
       "      <th>3</th>\n",
       "      <td>NaN</td>\n",
       "      <td>15.0</td>\n",
       "    </tr>\n",
       "    <tr>\n",
       "      <th>4</th>\n",
       "      <td>5.0</td>\n",
       "      <td>20.0</td>\n",
       "    </tr>\n",
       "  </tbody>\n",
       "</table>\n",
       "</div>"
      ],
      "text/plain": [
       "    c1    c2\n",
       "0  1.0   6.0\n",
       "1  2.0   8.0\n",
       "2  3.0  10.0\n",
       "3  NaN  15.0\n",
       "4  5.0  20.0"
      ]
     },
     "execution_count": 25,
     "metadata": {},
     "output_type": "execute_result"
    }
   ],
   "source": [
    "df.interpolate(method='values', limit=1)"
   ]
  },
  {
   "cell_type": "code",
   "execution_count": 26,
   "metadata": {},
   "outputs": [
    {
     "data": {
      "text/html": [
       "<div>\n",
       "<style scoped>\n",
       "    .dataframe tbody tr th:only-of-type {\n",
       "        vertical-align: middle;\n",
       "    }\n",
       "\n",
       "    .dataframe tbody tr th {\n",
       "        vertical-align: top;\n",
       "    }\n",
       "\n",
       "    .dataframe thead th {\n",
       "        text-align: right;\n",
       "    }\n",
       "</style>\n",
       "<table border=\"1\" class=\"dataframe\">\n",
       "  <thead>\n",
       "    <tr style=\"text-align: right;\">\n",
       "      <th></th>\n",
       "      <th>c1</th>\n",
       "      <th>c2</th>\n",
       "    </tr>\n",
       "  </thead>\n",
       "  <tbody>\n",
       "    <tr>\n",
       "      <th>0</th>\n",
       "      <td>1.0</td>\n",
       "      <td>6.0</td>\n",
       "    </tr>\n",
       "    <tr>\n",
       "      <th>1</th>\n",
       "      <td>2.0</td>\n",
       "      <td>8.0</td>\n",
       "    </tr>\n",
       "    <tr>\n",
       "      <th>2</th>\n",
       "      <td>NaN</td>\n",
       "      <td>10.0</td>\n",
       "    </tr>\n",
       "    <tr>\n",
       "      <th>3</th>\n",
       "      <td>4.0</td>\n",
       "      <td>15.0</td>\n",
       "    </tr>\n",
       "    <tr>\n",
       "      <th>4</th>\n",
       "      <td>5.0</td>\n",
       "      <td>20.0</td>\n",
       "    </tr>\n",
       "  </tbody>\n",
       "</table>\n",
       "</div>"
      ],
      "text/plain": [
       "    c1    c2\n",
       "0  1.0   6.0\n",
       "1  2.0   8.0\n",
       "2  NaN  10.0\n",
       "3  4.0  15.0\n",
       "4  5.0  20.0"
      ]
     },
     "execution_count": 26,
     "metadata": {},
     "output_type": "execute_result"
    }
   ],
   "source": [
    "df.interpolate(method='values', limit=1, limit_direction='backward')"
   ]
  },
  {
   "cell_type": "code",
   "execution_count": 27,
   "metadata": {},
   "outputs": [
    {
     "data": {
      "text/plain": [
       "0    1.0\n",
       "1    2.0\n",
       "2    3.0\n",
       "3    4.0\n",
       "4    NaN\n",
       "dtype: float64"
      ]
     },
     "execution_count": 27,
     "metadata": {},
     "output_type": "execute_result"
    }
   ],
   "source": [
    "s=Series([1,2,3,4,np.nan])\n",
    "s"
   ]
  },
  {
   "cell_type": "code",
   "execution_count": 29,
   "metadata": {},
   "outputs": [
    {
     "data": {
      "text/plain": [
       "0      1.0\n",
       "1      2.0\n",
       "2    100.0\n",
       "3      4.0\n",
       "4      NaN\n",
       "dtype: float64"
      ]
     },
     "execution_count": 29,
     "metadata": {},
     "output_type": "execute_result"
    }
   ],
   "source": [
    "s.replace(np.nan, 10)\n",
    "s.replace(3,100)"
   ]
  },
  {
   "cell_type": "code",
   "execution_count": 32,
   "metadata": {},
   "outputs": [
    {
     "data": {
      "text/plain": [
       "0     10.0\n",
       "1      2.0\n",
       "2      3.0\n",
       "3      4.0\n",
       "4    999.0\n",
       "dtype: float64"
      ]
     },
     "execution_count": 32,
     "metadata": {},
     "output_type": "execute_result"
    }
   ],
   "source": [
    "s.replace([1,2,3], [5,6,7])\n",
    "s.replace({1:10, np.nan:999})"
   ]
  },
  {
   "cell_type": "code",
   "execution_count": 35,
   "metadata": {},
   "outputs": [
    {
     "name": "stdout",
     "output_type": "stream",
     "text": [
      "<class 'pandas.core.frame.DataFrame'>\n",
      "RangeIndex: 5 entries, 0 to 4\n",
      "Data columns (total 3 columns):\n",
      "k1    5 non-null object\n",
      "k2    5 non-null object\n",
      "c     5 non-null int64\n",
      "dtypes: int64(1), object(2)\n",
      "memory usage: 200.0+ bytes\n"
     ]
    }
   ],
   "source": [
    "df=pd.DataFrame({'k1':['a','b','b','c','c'],\n",
    "             'k2':['v','w','w','x','y'],\n",
    "             'c':[1,2,3,4,5]})\n",
    "df\n",
    "df.info()"
   ]
  },
  {
   "cell_type": "code",
   "execution_count": 37,
   "metadata": {
    "scrolled": true
   },
   "outputs": [
    {
     "data": {
      "text/plain": [
       "0    False\n",
       "1    False\n",
       "2     True\n",
       "3    False\n",
       "4    False\n",
       "dtype: bool"
      ]
     },
     "execution_count": 37,
     "metadata": {},
     "output_type": "execute_result"
    }
   ],
   "source": [
    "df.duplicated(['k1'])\n",
    "df.duplicated(['k1','k2'])"
   ]
  },
  {
   "cell_type": "code",
   "execution_count": 41,
   "metadata": {},
   "outputs": [
    {
     "data": {
      "text/plain": [
       "0    False\n",
       "1     True\n",
       "2     True\n",
       "3     True\n",
       "4     True\n",
       "dtype: bool"
      ]
     },
     "execution_count": 41,
     "metadata": {},
     "output_type": "execute_result"
    }
   ],
   "source": [
    "df.duplicated(['k1'])\n",
    "df.duplicated(['k1'], keep='first') #default\n",
    "df.duplicated(['k1'], keep='last')\n",
    "df.duplicated(['k1'], keep=False)"
   ]
  },
  {
   "cell_type": "code",
   "execution_count": 48,
   "metadata": {},
   "outputs": [
    {
     "data": {
      "text/html": [
       "<div>\n",
       "<style scoped>\n",
       "    .dataframe tbody tr th:only-of-type {\n",
       "        vertical-align: middle;\n",
       "    }\n",
       "\n",
       "    .dataframe tbody tr th {\n",
       "        vertical-align: top;\n",
       "    }\n",
       "\n",
       "    .dataframe thead th {\n",
       "        text-align: right;\n",
       "    }\n",
       "</style>\n",
       "<table border=\"1\" class=\"dataframe\">\n",
       "  <thead>\n",
       "    <tr style=\"text-align: right;\">\n",
       "      <th></th>\n",
       "      <th>k1</th>\n",
       "      <th>k2</th>\n",
       "      <th>c</th>\n",
       "    </tr>\n",
       "  </thead>\n",
       "  <tbody>\n",
       "    <tr>\n",
       "      <th>0</th>\n",
       "      <td>a</td>\n",
       "      <td>v</td>\n",
       "      <td>1</td>\n",
       "    </tr>\n",
       "  </tbody>\n",
       "</table>\n",
       "</div>"
      ],
      "text/plain": [
       "  k1 k2  c\n",
       "0  a  v  1"
      ]
     },
     "execution_count": 48,
     "metadata": {},
     "output_type": "execute_result"
    }
   ],
   "source": [
    "df.drop_duplicates(['k1'])\n",
    "df.drop_duplicates(['k1'],keep='first') #default\n",
    "df.drop_duplicates(['k1'],keep='last') \n",
    "df.drop_duplicates(['k1'],keep=False) \n",
    "#df"
   ]
  },
  {
   "cell_type": "code",
   "execution_count": 54,
   "metadata": {
    "scrolled": true
   },
   "outputs": [
    {
     "data": {
      "text/plain": [
       "array(['a', nan], dtype=object)"
      ]
     },
     "execution_count": 54,
     "metadata": {},
     "output_type": "execute_result"
    }
   ],
   "source": [
    "df=pd.DataFrame({\n",
    "    's':['f','m','m','f','m'],\n",
    "    'd':['a','a','a','a',np.nan],\n",
    "    'c':[1,1,3,4,4]})\n",
    "#df\n",
    "#df.info()\n",
    "df['s'].unique()\n",
    "df['d'].unique()"
   ]
  },
  {
   "cell_type": "code",
   "execution_count": 63,
   "metadata": {},
   "outputs": [
    {
     "data": {
      "text/plain": [
       "a    4\n",
       "Name: d, dtype: int64"
      ]
     },
     "execution_count": 63,
     "metadata": {},
     "output_type": "execute_result"
    }
   ],
   "source": [
    "df['s'].value_counts()\n",
    "#df:붕어빵, df['s']:자동차, value_counts():달린다\n",
    "#df.value_counts()는 말이 안됨\n",
    "#df['s'].value_counts()는 말이 됨\n",
    "\n",
    "df['d'].value_counts() #Nan은 안나옴"
   ]
  },
  {
   "cell_type": "code",
   "execution_count": 64,
   "metadata": {},
   "outputs": [
    {
     "data": {
      "text/plain": [
       "m    0.6\n",
       "f    0.4\n",
       "Name: s, dtype: float64"
      ]
     },
     "execution_count": 64,
     "metadata": {},
     "output_type": "execute_result"
    }
   ],
   "source": [
    "df['s'].value_counts(normalize=True)"
   ]
  },
  {
   "cell_type": "code",
   "execution_count": 65,
   "metadata": {},
   "outputs": [
    {
     "data": {
      "text/plain": [
       "0    1\n",
       "1    1\n",
       "2    3\n",
       "3    4\n",
       "4    4\n",
       "Name: c, dtype: int64"
      ]
     },
     "execution_count": 65,
     "metadata": {},
     "output_type": "execute_result"
    }
   ],
   "source": [
    "df['c']"
   ]
  },
  {
   "cell_type": "code",
   "execution_count": 68,
   "metadata": {},
   "outputs": [
    {
     "data": {
      "text/plain": [
       "3    1\n",
       "1    2\n",
       "4    2\n",
       "Name: c, dtype: int64"
      ]
     },
     "execution_count": 68,
     "metadata": {},
     "output_type": "execute_result"
    }
   ],
   "source": [
    "df['c'].value_counts(sort=True) #default:내림차순 정렬\n",
    "df['c'].value_counts(sort=True, ascending=False) \n",
    "df['c'].value_counts(sort=True, ascending=True) \n"
   ]
  },
  {
   "cell_type": "code",
   "execution_count": 72,
   "metadata": {},
   "outputs": [
    {
     "data": {
      "text/plain": [
       "a      4\n",
       "NaN    1\n",
       "Name: d, dtype: int64"
      ]
     },
     "execution_count": 72,
     "metadata": {},
     "output_type": "execute_result"
    }
   ],
   "source": [
    "df['d'].value_counts(dropna=True) #default\n",
    "df['d'].value_counts(dropna=False) "
   ]
  },
  {
   "cell_type": "code",
   "execution_count": null,
   "metadata": {},
   "outputs": [],
   "source": [
    "#오후 연습 문제\n",
    "#캐글->타이타닉->호칭->호칭별 건수->소트->상위 10개호칭 조사\n",
    "#나이(age)->구간화->구간별 건수 ->소트 출력"
   ]
  },
  {
   "cell_type": "code",
   "execution_count": 73,
   "metadata": {
    "scrolled": true
   },
   "outputs": [
    {
     "data": {
      "text/html": [
       "<div>\n",
       "<style scoped>\n",
       "    .dataframe tbody tr th:only-of-type {\n",
       "        vertical-align: middle;\n",
       "    }\n",
       "\n",
       "    .dataframe tbody tr th {\n",
       "        vertical-align: top;\n",
       "    }\n",
       "\n",
       "    .dataframe thead th {\n",
       "        text-align: right;\n",
       "    }\n",
       "</style>\n",
       "<table border=\"1\" class=\"dataframe\">\n",
       "  <thead>\n",
       "    <tr style=\"text-align: right;\">\n",
       "      <th></th>\n",
       "      <th>s</th>\n",
       "      <th>d</th>\n",
       "      <th>c</th>\n",
       "    </tr>\n",
       "  </thead>\n",
       "  <tbody>\n",
       "    <tr>\n",
       "      <th>0</th>\n",
       "      <td>f</td>\n",
       "      <td>a</td>\n",
       "      <td>1</td>\n",
       "    </tr>\n",
       "    <tr>\n",
       "      <th>1</th>\n",
       "      <td>m</td>\n",
       "      <td>a</td>\n",
       "      <td>1</td>\n",
       "    </tr>\n",
       "    <tr>\n",
       "      <th>2</th>\n",
       "      <td>m</td>\n",
       "      <td>a</td>\n",
       "      <td>3</td>\n",
       "    </tr>\n",
       "    <tr>\n",
       "      <th>3</th>\n",
       "      <td>f</td>\n",
       "      <td>a</td>\n",
       "      <td>4</td>\n",
       "    </tr>\n",
       "    <tr>\n",
       "      <th>4</th>\n",
       "      <td>m</td>\n",
       "      <td>NaN</td>\n",
       "      <td>4</td>\n",
       "    </tr>\n",
       "  </tbody>\n",
       "</table>\n",
       "</div>"
      ],
      "text/plain": [
       "   s    d  c\n",
       "0  f    a  1\n",
       "1  m    a  1\n",
       "2  m    a  3\n",
       "3  f    a  4\n",
       "4  m  NaN  4"
      ]
     },
     "execution_count": 73,
     "metadata": {},
     "output_type": "execute_result"
    }
   ],
   "source": [
    "df"
   ]
  },
  {
   "cell_type": "code",
   "execution_count": 77,
   "metadata": {},
   "outputs": [
    {
     "data": {
      "text/plain": [
       "(-0.001, 1.0]    2\n",
       "(1.0, 2.0]       0\n",
       "(2.0, 3.0]       1\n",
       "(3.0, 4.0]       2\n",
       "Name: c, dtype: int64"
      ]
     },
     "execution_count": 77,
     "metadata": {},
     "output_type": "execute_result"
    }
   ],
   "source": [
    "df['c'].value_counts(sort=False,bins=[0,1,2,3,4])"
   ]
  },
  {
   "cell_type": "code",
   "execution_count": 79,
   "metadata": {
    "scrolled": true
   },
   "outputs": [
    {
     "data": {
      "text/plain": [
       "(3, 4]    2\n",
       "(0, 1]    2\n",
       "(2, 3]    1\n",
       "(1, 2]    0\n",
       "Name: c, dtype: int64"
      ]
     },
     "execution_count": 79,
     "metadata": {},
     "output_type": "execute_result"
    }
   ],
   "source": [
    "res=pd.cut(df['c'], bins=[0,1,2,3,4])\n",
    "pd.value_counts(res)"
   ]
  },
  {
   "cell_type": "code",
   "execution_count": 82,
   "metadata": {},
   "outputs": [
    {
     "data": {
      "text/plain": [
       "array([[ 4,  4,  6, 19, 12],\n",
       "       [ 0,  8, 16, 12, 11],\n",
       "       [14, 11,  1, 19, 17],\n",
       "       [ 4, 11,  1,  9, 18],\n",
       "       [14,  5, 19,  1, 19],\n",
       "       [ 8,  3, 12, 11, 18]])"
      ]
     },
     "execution_count": 82,
     "metadata": {},
     "output_type": "execute_result"
    }
   ],
   "source": [
    "data=np.random.randint(20,size=(6,5))\n",
    "data"
   ]
  },
  {
   "cell_type": "code",
   "execution_count": 93,
   "metadata": {},
   "outputs": [
    {
     "name": "stdout",
     "output_type": "stream",
     "text": [
      "10.233333333333333\n",
      "[[ 4  4  6 19 12]\n",
      " [ 0  8 16 12 11]\n",
      " [14 11  1 19 17]\n",
      " [ 4 11  1  9 18]\n",
      " [14  5 19  1 19]\n",
      " [ 8  3 12 11 18]]\n",
      "[ 7.33333333  7.          9.16666667 11.83333333 15.83333333]\n",
      "==================================================\n"
     ]
    }
   ],
   "source": [
    "from numpy import *\n",
    "#1. numpy 표준화\n",
    "print(mean(data))#전체 평균\n",
    "print(data)\n",
    "#표준화 : (각 열의 데이터 - 각 열의 평균)   / 각 열의 표준편차\n",
    "#    z = (x - mean() ) / std()\n",
    "print(mean(data, axis=0))\n",
    "print(\"=\"*50)\n",
    "std_data = ( data-mean(data, axis=0) ) / std(data, axis=0)"
   ]
  },
  {
   "cell_type": "code",
   "execution_count": 94,
   "metadata": {},
   "outputs": [
    {
     "data": {
      "text/plain": [
       "array([[-0.63500064, -0.93325653, -0.45174118,  1.16046805, -1.22416648],\n",
       "       [-1.3970014 ,  0.31108551,  0.97480992,  0.02698763, -1.54351426],\n",
       "       [ 1.27000127,  1.24434203, -1.16501673,  1.16046805,  0.37257241],\n",
       "       [-0.63500064,  1.24434203, -1.16501673, -0.45878969,  0.69192018],\n",
       "       [ 1.27000127, -0.62217102,  1.40277525, -1.75419589,  1.01126796],\n",
       "       [ 0.12700013, -1.24434203,  0.40418948, -0.13493815,  0.69192018]])"
      ]
     },
     "execution_count": 94,
     "metadata": {},
     "output_type": "execute_result"
    }
   ],
   "source": [
    "std_data"
   ]
  },
  {
   "cell_type": "code",
   "execution_count": 95,
   "metadata": {},
   "outputs": [
    {
     "data": {
      "text/plain": [
       "array([ 6.47630098e-17,  3.70074342e-17,  7.40148683e-17, -1.66533454e-16,\n",
       "       -1.85037171e-16])"
      ]
     },
     "execution_count": 95,
     "metadata": {},
     "output_type": "execute_result"
    }
   ],
   "source": [
    "mean(std_data, axis=0)"
   ]
  },
  {
   "cell_type": "code",
   "execution_count": 96,
   "metadata": {},
   "outputs": [
    {
     "data": {
      "text/plain": [
       "array([1., 1., 1., 1., 1.])"
      ]
     },
     "execution_count": 96,
     "metadata": {},
     "output_type": "execute_result"
    }
   ],
   "source": [
    "std(std_data, axis=0)"
   ]
  },
  {
   "cell_type": "code",
   "execution_count": 99,
   "metadata": {},
   "outputs": [
    {
     "data": {
      "text/plain": [
       "array([[-0.63500064, -0.93325653, -0.45174118,  1.16046805, -1.22416648],\n",
       "       [-1.3970014 ,  0.31108551,  0.97480992,  0.02698763, -1.54351426],\n",
       "       [ 1.27000127,  1.24434203, -1.16501673,  1.16046805,  0.37257241],\n",
       "       [-0.63500064,  1.24434203, -1.16501673, -0.45878969,  0.69192018],\n",
       "       [ 1.27000127, -0.62217102,  1.40277525, -1.75419589,  1.01126796],\n",
       "       [ 0.12700013, -1.24434203,  0.40418948, -0.13493815,  0.69192018]])"
      ]
     },
     "execution_count": 99,
     "metadata": {},
     "output_type": "execute_result"
    }
   ],
   "source": [
    "import scipy.stats as ss\n",
    "std_data=ss.zscore(data)\n",
    "std_data"
   ]
  },
  {
   "cell_type": "code",
   "execution_count": 100,
   "metadata": {},
   "outputs": [],
   "source": [
    "from sklearn.preprocessing import StandardScaler"
   ]
  },
  {
   "cell_type": "code",
   "execution_count": 101,
   "metadata": {},
   "outputs": [
    {
     "name": "stderr",
     "output_type": "stream",
     "text": [
      "C:\\Users\\user\\Anaconda3\\lib\\site-packages\\sklearn\\utils\\validation.py:595: DataConversionWarning: Data with input dtype int32 was converted to float64 by StandardScaler.\n",
      "  warnings.warn(msg, DataConversionWarning)\n",
      "C:\\Users\\user\\Anaconda3\\lib\\site-packages\\sklearn\\utils\\validation.py:595: DataConversionWarning: Data with input dtype int32 was converted to float64 by StandardScaler.\n",
      "  warnings.warn(msg, DataConversionWarning)\n"
     ]
    },
    {
     "data": {
      "text/plain": [
       "array([[-0.63500064, -0.93325653, -0.45174118,  1.16046805, -1.22416648],\n",
       "       [-1.3970014 ,  0.31108551,  0.97480992,  0.02698763, -1.54351426],\n",
       "       [ 1.27000127,  1.24434203, -1.16501673,  1.16046805,  0.37257241],\n",
       "       [-0.63500064,  1.24434203, -1.16501673, -0.45878969,  0.69192018],\n",
       "       [ 1.27000127, -0.62217102,  1.40277525, -1.75419589,  1.01126796],\n",
       "       [ 0.12700013, -1.24434203,  0.40418948, -0.13493815,  0.69192018]])"
      ]
     },
     "execution_count": 101,
     "metadata": {},
     "output_type": "execute_result"
    }
   ],
   "source": [
    "std_data=StandardScaler().fit_transform(data)\n",
    "std_data"
   ]
  },
  {
   "cell_type": "code",
   "execution_count": 102,
   "metadata": {},
   "outputs": [],
   "source": [
    "#이상치, 특이값이 포함되어있는 데이터의 표준화\n",
    "#평균, 표준편차는 이상치의 영향을 크게 받음(민감함)\n",
    "\n",
    "#중앙값(Q2), IQR(Q3-Q1)\n",
    "#robustscaler = x-median() / IQR\n",
    "\n"
   ]
  },
  {
   "cell_type": "code",
   "execution_count": 115,
   "metadata": {},
   "outputs": [
    {
     "data": {
      "text/plain": [
       "10.147389546015"
      ]
     },
     "execution_count": 115,
     "metadata": {},
     "output_type": "execute_result"
    },
    {
     "data": {
      "image/png": "[encoded data removed]",
      "text/plain": [
       "<Figure size 432x288 with 1 Axes>"
      ]
     },
     "metadata": {
      "needs_background": "light"
     },
     "output_type": "display_data"
    }
   ],
   "source": [
    "np.random.seed(73)\n",
    "mu, sigma = 10, 3\n",
    "x=mu+sigma*np.random.randn(100)\n",
    "x\n",
    "import matplotlib.pyplot as plt\n",
    "\n",
    "plt.hist(x)\n",
    "mean(x)"
   ]
  },
  {
   "cell_type": "code",
   "execution_count": 116,
   "metadata": {},
   "outputs": [
    {
     "data": {
      "text/plain": [
       "array([11.73043915, 16.39332639, 17.320659  , 10.78998062,  5.51163806,\n",
       "        9.88979408, 11.29208736,  5.41157701,  7.80922097, 13.15394571,\n",
       "       14.85937801,  5.18495989, 10.9930286 ,  9.36714293, 10.8945301 ,\n",
       "        6.56177945, 11.72608607,  8.9082801 , 10.10919758,  8.43830804,\n",
       "        9.952707  ,  9.86247581,  8.14476643,  7.54049167, 11.52942571,\n",
       "       13.15181833, 10.43509572,  8.97743181, 13.73237532, 14.96745496,\n",
       "        9.18100947,  8.92022193,  0.07338429, 13.15509679,  9.32104691,\n",
       "        8.01247213, 12.73917563, 12.76350652, 12.71635723,  8.54749669,\n",
       "        7.85535142, 10.54716188, 11.73015021,  5.30930238, 15.6590461 ,\n",
       "        6.80288206, 10.33849318,  8.23193967, 11.93280031, 10.91541905,\n",
       "       11.85215573, 13.29726519,  8.69230361, 11.19550648, 10.01848898,\n",
       "        4.93669823, 10.0159642 , 12.36761596, 11.77181612,  6.89236123,\n",
       "       13.12230939,  8.03537406,  8.08006912, 11.32291988,  9.03981268,\n",
       "       14.20361445, 10.5615933 , 12.96978103,  9.91591744, 10.50358114,\n",
       "       11.50735657,  3.5675912 ,  8.21116157,  5.44896509,  5.5628549 ,\n",
       "       12.25802737, 12.47323302, 10.44418671,  9.02892504,  9.76647714,\n",
       "       14.55459593,  8.21246438, 11.14295348,  9.91375489, 17.8803937 ,\n",
       "       12.38888958,  9.48135079, 15.24411802,  9.54254465,  9.33075236,\n",
       "        7.18685342,  8.42851238,  6.92798126, 16.21763798,  8.87672899,\n",
       "        9.08398138,  8.61800468,  6.78583668,  7.95611752, 10.50983996])"
      ]
     },
     "execution_count": 116,
     "metadata": {},
     "output_type": "execute_result"
    }
   ],
   "source": [
    "x"
   ]
  },
  {
   "cell_type": "code",
   "execution_count": 117,
   "metadata": {},
   "outputs": [
    {
     "data": {
      "text/plain": [
       "10.147389546015"
      ]
     },
     "execution_count": 117,
     "metadata": {},
     "output_type": "execute_result"
    }
   ],
   "source": [
    "mean(x)"
   ]
  },
  {
   "cell_type": "code",
   "execution_count": 118,
   "metadata": {},
   "outputs": [
    {
     "data": {
      "text/plain": [
       "3.014695610662603"
      ]
     },
     "execution_count": 118,
     "metadata": {},
     "output_type": "execute_result"
    }
   ],
   "source": [
    "std(x)"
   ]
  },
  {
   "cell_type": "code",
   "execution_count": 121,
   "metadata": {
    "scrolled": true
   },
   "outputs": [
    {
     "data": {
      "text/plain": [
       "19.790826557586872"
      ]
     },
     "execution_count": 121,
     "metadata": {},
     "output_type": "execute_result"
    }
   ],
   "source": [
    "x[95:100]=100\n",
    "x\n",
    "mean(x)\n",
    "std(x)"
   ]
  },
  {
   "cell_type": "code",
   "execution_count": 126,
   "metadata": {},
   "outputs": [
    {
     "data": {
      "text/plain": [
       "(array([ 1.,  1.,  7.,  8., 29., 25., 14.,  6.,  4.,  0.,  0.,  0.,  0.,\n",
       "         0.,  0.,  0.,  0.,  0.,  0.,  0.,  0.,  0.,  0.,  0.,  0.,  0.,\n",
       "         0.,  0.,  0.,  0.,  0.,  0.,  0.,  0.,  0.,  0.,  0.,  0.,  0.,\n",
       "         0.,  0.,  0.,  0.,  0.,  0.,  0.,  0.,  0.,  0.,  5.]),\n",
       " array([  0,   2,   4,   6,   8,  10,  12,  14,  16,  18,  20,  22,  24,\n",
       "         26,  28,  30,  32,  34,  36,  38,  40,  42,  44,  46,  48,  50,\n",
       "         52,  54,  56,  58,  60,  62,  64,  66,  68,  70,  72,  74,  76,\n",
       "         78,  80,  82,  84,  86,  88,  90,  92,  94,  96,  98, 100]),\n",
       " <a list of 50 Patch objects>)"
      ]
     },
     "execution_count": 126,
     "metadata": {},
     "output_type": "execute_result"
    },
    {
     "data": {
      "image/png": "[encoded data removed]",
      "text/plain": [
       "<Figure size 432x288 with 1 Axes>"
      ]
     },
     "metadata": {
      "needs_background": "light"
     },
     "output_type": "display_data"
    }
   ],
   "source": [
    "#plt.hist(x)\n",
    "plt.hist(x,bins=np.arange(0,101,2))"
   ]
  },
  {
   "cell_type": "code",
   "execution_count": 137,
   "metadata": {
    "scrolled": true
   },
   "outputs": [
    {
     "name": "stdout",
     "output_type": "stream",
     "text": [
      "(100, 1)\n",
      "(100, 1)\n"
     ]
    },
    {
     "data": {
      "text/plain": [
       "array([[-0.15094936],\n",
       "       [ 0.08465915],\n",
       "       [ 0.13151584],\n",
       "       [-0.19846928],\n",
       "       [-0.46517581],\n",
       "       [-0.24395432],\n",
       "       [-0.1730986 ],\n",
       "       [-0.47023174],\n",
       "       [-0.34908248],\n",
       "       [-0.07902176],\n",
       "       [ 0.0071511 ],\n",
       "       [-0.48168235],\n",
       "       [-0.18820958],\n",
       "       [-0.27036308],\n",
       "       [-0.19318656],\n",
       "       [-0.41211378],\n",
       "       [-0.15116931],\n",
       "       [-0.29354871],\n",
       "       [-0.2328682 ],\n",
       "       [-0.31729568],\n",
       "       [-0.24077543],\n",
       "       [-0.24533467],\n",
       "       [-0.33212788],\n",
       "       [-0.36266096],\n",
       "       [-0.16110626],\n",
       "       [-0.07912926],\n",
       "       [-0.21640107],\n",
       "       [-0.29005458],\n",
       "       [-0.04979461],\n",
       "       [ 0.01261207],\n",
       "       [-0.27976812],\n",
       "       [-0.29294531],\n",
       "       [-0.7399624 ],\n",
       "       [-0.0789636 ],\n",
       "       [-0.27269224],\n",
       "       [-0.33881251],\n",
       "       [-0.09997946],\n",
       "       [-0.09875006],\n",
       "       [-0.10113244],\n",
       "       [-0.31177854],\n",
       "       [-0.34675158],\n",
       "       [-0.21073854],\n",
       "       [-0.15096396],\n",
       "       [-0.47539952],\n",
       "       [ 0.0475571 ],\n",
       "       [-0.39993123],\n",
       "       [-0.22128225],\n",
       "       [-0.32772315],\n",
       "       [-0.14072436],\n",
       "       [-0.19213107],\n",
       "       [-0.14479921],\n",
       "       [-0.07178005],\n",
       "       [-0.30446167],\n",
       "       [-0.17797868],\n",
       "       [-0.23745157],\n",
       "       [-0.49422663],\n",
       "       [-0.23757914],\n",
       "       [-0.1187538 ],\n",
       "       [-0.14885864],\n",
       "       [-0.39540999],\n",
       "       [-0.0806203 ],\n",
       "       [-0.33765531],\n",
       "       [-0.33539694],\n",
       "       [-0.17154068],\n",
       "       [-0.28690257],\n",
       "       [-0.02598362],\n",
       "       [-0.21000934],\n",
       "       [-0.08832732],\n",
       "       [-0.24263435],\n",
       "       [-0.21294061],\n",
       "       [-0.16222138],\n",
       "       [-0.5634055 ],\n",
       "       [-0.32877304],\n",
       "       [-0.46834257],\n",
       "       [-0.4625879 ],\n",
       "       [-0.12429114],\n",
       "       [-0.11341713],\n",
       "       [-0.21594172],\n",
       "       [-0.28745271],\n",
       "       [-0.25018534],\n",
       "       [-0.00824906],\n",
       "       [-0.32870721],\n",
       "       [-0.18063411],\n",
       "       [-0.24274362],\n",
       "       [ 0.15979838],\n",
       "       [-0.11767887],\n",
       "       [-0.26459233],\n",
       "       [ 0.02659142],\n",
       "       [-0.2615003 ],\n",
       "       [-0.27220184],\n",
       "       [-0.38052975],\n",
       "       [-0.31779064],\n",
       "       [-0.39361016],\n",
       "       [ 0.07578189],\n",
       "       [-0.29514294],\n",
       "       [ 4.30917567],\n",
       "       [ 4.30917567],\n",
       "       [ 4.30917567],\n",
       "       [ 4.30917567],\n",
       "       [ 4.30917567]])"
      ]
     },
     "execution_count": 137,
     "metadata": {},
     "output_type": "execute_result"
    }
   ],
   "source": [
    "print(np.shape(x))\n",
    "x=x.reshape(-1,1) #-1:니가 알아서 계산해(난 하기 싫어)\n",
    "#dl: -1 => None\n",
    "print(np.shape(x))\n",
    "std_x=StandardScaler().fit_transform(x)\n",
    "std_x"
   ]
  },
  {
   "cell_type": "code",
   "execution_count": 138,
   "metadata": {},
   "outputs": [
    {
     "data": {
      "text/plain": [
       "5.329070518200751e-17"
      ]
     },
     "execution_count": 138,
     "metadata": {},
     "output_type": "execute_result"
    }
   ],
   "source": [
    "mean(std_x)"
   ]
  },
  {
   "cell_type": "code",
   "execution_count": 139,
   "metadata": {},
   "outputs": [
    {
     "data": {
      "text/plain": [
       "1.0"
      ]
     },
     "execution_count": 139,
     "metadata": {},
     "output_type": "execute_result"
    }
   ],
   "source": [
    "std(std_x)"
   ]
  },
  {
   "cell_type": "code",
   "execution_count": 140,
   "metadata": {},
   "outputs": [
    {
     "data": {
      "text/plain": [
       "(array([48., 47.,  0.,  0.,  0.,  0.,  0.,  0.,  0.,  5.]),\n",
       " array([-0.7399624 , -0.23504859,  0.26986522,  0.77477902,  1.27969283,\n",
       "         1.78460664,  2.28952044,  2.79443425,  3.29934806,  3.80426186,\n",
       "         4.30917567]),\n",
       " <a list of 10 Patch objects>)"
      ]
     },
     "execution_count": 140,
     "metadata": {},
     "output_type": "execute_result"
    },
    {
     "data": {
      "image/png": "[encoded data removed]",
      "text/plain": [
       "<Figure size 432x288 with 1 Axes>"
      ]
     },
     "metadata": {
      "needs_background": "light"
     },
     "output_type": "display_data"
    }
   ],
   "source": [
    "plt.hist(std_x)"
   ]
  },
  {
   "cell_type": "code",
   "execution_count": 147,
   "metadata": {},
   "outputs": [
    {
     "data": {
      "text/plain": [
       "(array([ 0.,  1.,  9., 45., 32.,  8.,  0.,  0.,  0.]),\n",
       " array([-1.00000000e+00, -8.00000000e-01, -6.00000000e-01, -4.00000000e-01,\n",
       "        -2.00000000e-01, -2.22044605e-16,  2.00000000e-01,  4.00000000e-01,\n",
       "         6.00000000e-01,  8.00000000e-01]),\n",
       " <a list of 9 Patch objects>)"
      ]
     },
     "execution_count": 147,
     "metadata": {},
     "output_type": "execute_result"
    },
    {
     "data": {
      "image/png": "[encoded data removed]",
      "text/plain": [
       "<Figure size 432x288 with 1 Axes>"
      ]
     },
     "metadata": {
      "needs_background": "light"
     },
     "output_type": "display_data"
    }
   ],
   "source": [
    "std_o=std_x[std_x<4]\n",
    "plt.hist(std_o, bins=np.arange(-1, 1, 0.2))"
   ]
  },
  {
   "cell_type": "code",
   "execution_count": 154,
   "metadata": {},
   "outputs": [],
   "source": [
    "#import numpy as np\n",
    "#np.mean(x)\n",
    "mean(x)#14.7\n",
    "median(x)#10.3\n",
    "Q1=percentile(x, 25) #q1:8.43\n",
    "Q3=percentile(x, 75) #q3:12.53\n",
    "IQR=Q3-Q1"
   ]
  },
  {
   "cell_type": "code",
   "execution_count": 157,
   "metadata": {},
   "outputs": [
    {
     "data": {
      "text/plain": [
       "0.0"
      ]
     },
     "execution_count": 157,
     "metadata": {},
     "output_type": "execute_result"
    }
   ],
   "source": [
    "rbs_x=RobustScaler().fit_transform(x) \n",
    "#robustscaler = x-median() / IQR\n",
    "rbs_x\n",
    "median(rbs_x)"
   ]
  },
  {
   "cell_type": "code",
   "execution_count": 158,
   "metadata": {},
   "outputs": [
    {
     "data": {
      "text/plain": [
       "1.0568310264435923"
      ]
     },
     "execution_count": 158,
     "metadata": {},
     "output_type": "execute_result"
    }
   ],
   "source": [
    "mean(rbs_x)"
   ]
  },
  {
   "cell_type": "code",
   "execution_count": 159,
   "metadata": {},
   "outputs": [
    {
     "data": {
      "text/plain": [
       "4.829204078863935"
      ]
     },
     "execution_count": 159,
     "metadata": {},
     "output_type": "execute_result"
    }
   ],
   "source": [
    "std(rbs_x)"
   ]
  },
  {
   "cell_type": "code",
   "execution_count": 160,
   "metadata": {},
   "outputs": [
    {
     "data": {
      "text/plain": [
       "(array([48., 47.,  0.,  0.,  0.,  0.,  0.,  0.,  0.,  5.]),\n",
       " array([-2.5165984 , -0.07826658,  2.36006523,  4.79839704,  7.23672886,\n",
       "         9.67506067, 12.11339248, 14.5517243 , 16.99005611, 19.42838793,\n",
       "        21.86671974]),\n",
       " <a list of 10 Patch objects>)"
      ]
     },
     "execution_count": 160,
     "metadata": {},
     "output_type": "execute_result"
    },
    {
     "data": {
      "image/png": "[encoded data removed]",
      "text/plain": [
       "<Figure size 432x288 with 1 Axes>"
      ]
     },
     "metadata": {
      "needs_background": "light"
     },
     "output_type": "display_data"
    }
   ],
   "source": [
    "plt.hist(rbs_x)"
   ]
  },
  {
   "cell_type": "code",
   "execution_count": 163,
   "metadata": {},
   "outputs": [
    {
     "data": {
      "text/plain": [
       "(array([ 0.,  0.,  1.,  0.,  0.,  0.,  1.,  0.,  5.,  2.,  4.,  4., 11.,\n",
       "        12., 10., 11., 10.,  7.,  6.,  2.,  4.,  1.,  2.,  1.,  1.,  0.,\n",
       "         0.,  0.,  0.]),\n",
       " array([-3.00000000e+00, -2.80000000e+00, -2.60000000e+00, -2.40000000e+00,\n",
       "        -2.20000000e+00, -2.00000000e+00, -1.80000000e+00, -1.60000000e+00,\n",
       "        -1.40000000e+00, -1.20000000e+00, -1.00000000e+00, -8.00000000e-01,\n",
       "        -6.00000000e-01, -4.00000000e-01, -2.00000000e-01,  2.66453526e-15,\n",
       "         2.00000000e-01,  4.00000000e-01,  6.00000000e-01,  8.00000000e-01,\n",
       "         1.00000000e+00,  1.20000000e+00,  1.40000000e+00,  1.60000000e+00,\n",
       "         1.80000000e+00,  2.00000000e+00,  2.20000000e+00,  2.40000000e+00,\n",
       "         2.60000000e+00,  2.80000000e+00]),\n",
       " <a list of 29 Patch objects>)"
      ]
     },
     "execution_count": 163,
     "metadata": {},
     "output_type": "execute_result"
    },
    {
     "data": {
      "image/png": "[encoded data removed]",
      "text/plain": [
       "<Figure size 432x288 with 1 Axes>"
      ]
     },
     "metadata": {
      "needs_background": "light"
     },
     "output_type": "display_data"
    }
   ],
   "source": [
    "rbs_o=rbs_x[rbs_x<5]\n",
    "plt.hist(rbs_o, bins=np.arange(-3,3,0.2))"
   ]
  },
  {
   "cell_type": "code",
   "execution_count": 164,
   "metadata": {},
   "outputs": [],
   "source": [
    "#정규화 :(각 열의 요소값 - 각 열의 최소값) / (각 열의 최대값 - 각 열의 최소값)\n",
    "#0~1 사이의 범위(딥러닝)\n",
    "#연습문제 : 관심 회사->주식데이터 다운로드(1개월)->표준화/정규화\n",
    "from sklearn.preprocessing import MinMaxScaler"
   ]
  },
  {
   "cell_type": "code",
   "execution_count": 168,
   "metadata": {},
   "outputs": [],
   "source": [
    "x=np.array([\n",
    "         [9, -9, 2],\n",
    "         [5, 0, 1],\n",
    "         [1, 10, 4],\n",
    "         [4, 7, -2]])"
   ]
  },
  {
   "cell_type": "code",
   "execution_count": 173,
   "metadata": {},
   "outputs": [
    {
     "data": {
      "text/plain": [
       "array([ 9, 10,  4])"
      ]
     },
     "execution_count": 173,
     "metadata": {},
     "output_type": "execute_result"
    }
   ],
   "source": [
    "x.min(axis=0) #  [ 1, -9, -2]\n",
    "x.max(axis=0)"
   ]
  },
  {
   "cell_type": "code",
   "execution_count": 175,
   "metadata": {},
   "outputs": [
    {
     "data": {
      "text/plain": [
       "array([[1.        , 0.        , 0.66666667],\n",
       "       [0.5       , 0.47368421, 0.5       ],\n",
       "       [0.        , 1.        , 1.        ],\n",
       "       [0.375     , 0.84210526, 0.        ]])"
      ]
     },
     "execution_count": 175,
     "metadata": {},
     "output_type": "execute_result"
    }
   ],
   "source": [
    "(x-x.min(axis=0))  / (x.max(axis=0) - x.min(axis=0))"
   ]
  },
  {
   "cell_type": "code",
   "execution_count": 176,
   "metadata": {},
   "outputs": [
    {
     "name": "stderr",
     "output_type": "stream",
     "text": [
      "C:\\Users\\user\\Anaconda3\\lib\\site-packages\\sklearn\\utils\\validation.py:595: DataConversionWarning: Data with input dtype int32 was converted to float64 by MinMaxScaler.\n",
      "  warnings.warn(msg, DataConversionWarning)\n"
     ]
    },
    {
     "data": {
      "text/plain": [
       "array([[1.        , 0.        , 0.66666667],\n",
       "       [0.5       , 0.47368421, 0.5       ],\n",
       "       [0.        , 1.        , 1.        ],\n",
       "       [0.375     , 0.84210526, 0.        ]])"
      ]
     },
     "execution_count": 176,
     "metadata": {},
     "output_type": "execute_result"
    }
   ],
   "source": [
    "x_minmax=MinMaxScaler().fit_transform(x)\n",
    "x_minmax"
   ]
  },
  {
   "cell_type": "code",
   "execution_count": 177,
   "metadata": {},
   "outputs": [],
   "source": [
    "from sklearn.preprocessing import minmax_scale"
   ]
  },
  {
   "cell_type": "code",
   "execution_count": 178,
   "metadata": {},
   "outputs": [
    {
     "name": "stderr",
     "output_type": "stream",
     "text": [
      "C:\\Users\\user\\Anaconda3\\lib\\site-packages\\sklearn\\utils\\validation.py:595: DataConversionWarning: Data with input dtype int32 was converted to float64.\n",
      "  warnings.warn(msg, DataConversionWarning)\n"
     ]
    },
    {
     "data": {
      "text/plain": [
       "array([[1.        , 0.        , 0.66666667],\n",
       "       [0.5       , 0.47368421, 0.5       ],\n",
       "       [0.        , 1.        , 1.        ],\n",
       "       [0.375     , 0.84210526, 0.        ]])"
      ]
     },
     "execution_count": 178,
     "metadata": {},
     "output_type": "execute_result"
    }
   ],
   "source": [
    "minmax_scale(x, axis=0)"
   ]
  },
  {
   "cell_type": "code",
   "execution_count": 179,
   "metadata": {},
   "outputs": [],
   "source": [
    "#연습문제 : 이항변수화 변환(타이타닉)\n",
    "#연속형 변수 값 -> 0 또는 1(2 가지)\n",
    "from sklearn.preprocessing import Binarizer"
   ]
  },
  {
   "cell_type": "code",
   "execution_count": 180,
   "metadata": {},
   "outputs": [],
   "source": [
    "x=np.array([[5, -3, 2],\n",
    "         [7,-1,0],\n",
    "         [0,9,5]])"
   ]
  },
  {
   "cell_type": "code",
   "execution_count": 181,
   "metadata": {},
   "outputs": [
    {
     "data": {
      "text/plain": [
       "Binarizer(copy=True, threshold=0.0)"
      ]
     },
     "execution_count": 181,
     "metadata": {},
     "output_type": "execute_result"
    }
   ],
   "source": [
    "#3을 기준(threshold)\n",
    "Binarizer().fit(x) #threshold=0.0"
   ]
  },
  {
   "cell_type": "code",
   "execution_count": 186,
   "metadata": {},
   "outputs": [
    {
     "data": {
      "text/plain": [
       "array([[1, 0, 0],\n",
       "       [1, 0, 0],\n",
       "       [0, 1, 1]])"
      ]
     },
     "execution_count": 186,
     "metadata": {},
     "output_type": "execute_result"
    }
   ],
   "source": [
    "bnr=Binarizer(2).fit(x) #2이하->0, 2초과->1\n",
    "bnr.transform(x)"
   ]
  },
  {
   "cell_type": "code",
   "execution_count": 187,
   "metadata": {},
   "outputs": [
    {
     "data": {
      "text/plain": [
       "array([[ 5, -3,  2],\n",
       "       [ 7, -1,  0],\n",
       "       [ 0,  9,  5]])"
      ]
     },
     "execution_count": 187,
     "metadata": {},
     "output_type": "execute_result"
    }
   ],
   "source": [
    "x"
   ]
  },
  {
   "cell_type": "code",
   "execution_count": null,
   "metadata": {},
   "outputs": [],
   "source": []
  }
 ],
 "metadata": {
  "kernelspec": {
   "display_name": "Python 3",
   "language": "python",
   "name": "python3"
  },
  "language_info": {
   "codemirror_mode": {
    "name": "ipython",
    "version": 3
   },
   "file_extension": ".py",
   "mimetype": "text/x-python",
   "name": "python",
   "nbconvert_exporter": "python",
   "pygments_lexer": "ipython3",
   "version": "3.7.3"
  }
 },
 "nbformat": 4,
 "nbformat_minor": 2
}
