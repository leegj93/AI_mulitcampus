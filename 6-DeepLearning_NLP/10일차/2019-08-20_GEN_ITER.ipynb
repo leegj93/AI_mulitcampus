{
 "cells": [
  {
   "cell_type": "markdown",
   "metadata": {},
   "source": [
    "1. 이터레이터(iterator)\n",
    "-데이터를 차례대로 꺼낼 수 있도록 해주는 객체\n",
    "for i in range(100):\n",
    "2. 반복 가능한 객체(iterable):리스트,셋,딕셔너리,문자열..."
   ]
  },
  {
   "cell_type": "code",
   "execution_count": 3,
   "metadata": {},
   "outputs": [],
   "source": [
    "dir([1,2,3])\n",
    "it=[1,2,3].__iter__()"
   ]
  },
  {
   "cell_type": "code",
   "execution_count": 4,
   "metadata": {},
   "outputs": [
    {
     "data": {
      "text/plain": [
       "1"
      ]
     },
     "execution_count": 4,
     "metadata": {},
     "output_type": "execute_result"
    }
   ],
   "source": [
    "it.__next__()"
   ]
  },
  {
   "cell_type": "code",
   "execution_count": 5,
   "metadata": {},
   "outputs": [
    {
     "data": {
      "text/plain": [
       "2"
      ]
     },
     "execution_count": 5,
     "metadata": {},
     "output_type": "execute_result"
    }
   ],
   "source": [
    "it.__next__()"
   ]
  },
  {
   "cell_type": "code",
   "execution_count": 6,
   "metadata": {},
   "outputs": [
    {
     "data": {
      "text/plain": [
       "3"
      ]
     },
     "execution_count": 6,
     "metadata": {},
     "output_type": "execute_result"
    }
   ],
   "source": [
    "it.__next__()"
   ]
  },
  {
   "cell_type": "code",
   "execution_count": 7,
   "metadata": {},
   "outputs": [
    {
     "data": {
      "text/plain": [
       "0"
      ]
     },
     "execution_count": 7,
     "metadata": {},
     "output_type": "execute_result"
    }
   ],
   "source": [
    "it=range(3).__iter__()\n",
    "it.__next__()\n",
    "#for i in range(3):"
   ]
  },
  {
   "cell_type": "code",
   "execution_count": 10,
   "metadata": {},
   "outputs": [
    {
     "name": "stdout",
     "output_type": "stream",
     "text": [
      "0\n",
      "1\n",
      "2\n"
     ]
    }
   ],
   "source": [
    "# class 이터레이터명:\n",
    "#     def __iter__(self):\n",
    "#         코드\n",
    "#     def __next__(self):\n",
    "#         코드\n",
    "        \n",
    "\n",
    "class Counter:\n",
    "    def __init__(self, stop):#0번,1번,2번 붕어빵 만드는게 목표\n",
    "        self.cur=0  #현재 붕어빵 번호\n",
    "        self.stop=stop #붕어빵 굽기 종료 시점\n",
    "    def __iter__(self):\n",
    "        return self \n",
    "    def __next__(self):\n",
    "        if self.cur<self.stop:\n",
    "            r=self.cur\n",
    "            self.cur+=1\n",
    "            return r\n",
    "        else:\n",
    "            raise StopIteration        \n",
    "#붕어빵기계(클래스), 붕어빵(객체)\n",
    "for i in Counter(3):#붕어빵기계(붕어빵3마리)\n",
    "    print(i) #0 1 2"
   ]
  },
  {
   "cell_type": "code",
   "execution_count": 14,
   "metadata": {},
   "outputs": [
    {
     "data": {
      "text/plain": [
       "2"
      ]
     },
     "execution_count": 14,
     "metadata": {},
     "output_type": "execute_result"
    }
   ],
   "source": [
    "a,_,c=Counter(3)\n",
    "c"
   ]
  },
  {
   "cell_type": "markdown",
   "metadata": {},
   "source": [
    "2. 제너레이터 : 이터레이터를 생성해주는 함수\n",
    "- yield 키워드 사용하여 생성."
   ]
  },
  {
   "cell_type": "code",
   "execution_count": 16,
   "metadata": {},
   "outputs": [
    {
     "name": "stdout",
     "output_type": "stream",
     "text": [
      "1\n",
      "2\n",
      "3\n"
     ]
    }
   ],
   "source": [
    "def num_gen(): #제너레이터\n",
    "    yield 1\n",
    "    yield 2\n",
    "    yield 3   \n",
    "for i in num_gen():\n",
    "    print(i) #1 2 3 출력\n",
    "    "
   ]
  },
  {
   "cell_type": "code",
   "execution_count": 20,
   "metadata": {},
   "outputs": [
    {
     "data": {
      "text/plain": [
       "3"
      ]
     },
     "execution_count": 20,
     "metadata": {},
     "output_type": "execute_result"
    }
   ],
   "source": [
    "# 변수=next(제너레이터 객체)\n",
    "g=num_gen()\n",
    "next(g)\n",
    "next(g)\n",
    "next(g)"
   ]
  },
  {
   "cell_type": "code",
   "execution_count": 21,
   "metadata": {},
   "outputs": [],
   "source": [
    "def myGen():\n",
    "    i=0\n",
    "    while True:\n",
    "        i+=1\n",
    "        yield i"
   ]
  },
  {
   "cell_type": "code",
   "execution_count": 22,
   "metadata": {},
   "outputs": [
    {
     "name": "stdout",
     "output_type": "stream",
     "text": [
      "1\n",
      "2\n",
      "3\n",
      "4\n",
      "5\n",
      "6\n"
     ]
    }
   ],
   "source": [
    "for i in myGen():\n",
    "    print(i)\n",
    "    if i>5:\n",
    "        break"
   ]
  },
  {
   "cell_type": "code",
   "execution_count": null,
   "metadata": {},
   "outputs": [],
   "source": [
    "1.문제 정의\n",
    "-다중 분류, 입력:도형이미지, 출력:각 도형 확률\n",
    "2.데이터 수집(데이터부족->데이터생성)\n",
    "-케라스는 ImageDataGenerator사용해서 데이터 증식,이미지파일 학습\n",
    "3. 모델 생성\n",
    "4. 학습\n",
    "5. 평가"
   ]
  },
  {
   "cell_type": "code",
   "execution_count": 25,
   "metadata": {},
   "outputs": [],
   "source": [
    "import numpy as np\n",
    "from keras.models import Sequential\n",
    "from keras.layers import *\n",
    "from keras.layers.convolutional import *\n",
    "from keras.preprocessing.image import ImageDataGenerator"
   ]
  },
  {
   "cell_type": "code",
   "execution_count": 36,
   "metadata": {},
   "outputs": [],
   "source": [
    "#https://keras.io/preprocessing/image/#imagedatagenerator-methods\n",
    "train_datagen=ImageDataGenerator(rescale=1./255)\n",
    "test_datagen=ImageDataGenerator(rescale=1./255)"
   ]
  },
  {
   "cell_type": "code",
   "execution_count": 37,
   "metadata": {},
   "outputs": [
    {
     "name": "stdout",
     "output_type": "stream",
     "text": [
      "Found 45 images belonging to 3 classes.\n",
      "Found 15 images belonging to 3 classes.\n"
     ]
    }
   ],
   "source": [
    "train_gen=train_datagen.flow_from_directory(\n",
    "'hand/train',\n",
    "target_size=(24,24),\n",
    "class_mode='categorical',\n",
    "batch_size=3\n",
    ")\n",
    "\n",
    "test_gen=test_datagen.flow_from_directory(\n",
    "'hand/test',\n",
    "target_size=(24,24),\n",
    "class_mode='categorical',\n",
    "batch_size=3\n",
    ")\n",
    "\n"
   ]
  },
  {
   "cell_type": "code",
   "execution_count": 34,
   "metadata": {},
   "outputs": [
    {
     "name": "stdout",
     "output_type": "stream",
     "text": [
      "[[[[1. 1. 1.]\n",
      "   [1. 1. 1.]\n",
      "   [1. 1. 1.]\n",
      "   ...\n",
      "   [1. 1. 1.]\n",
      "   [1. 1. 1.]\n",
      "   [1. 1. 1.]]\n",
      "\n",
      "  [[1. 1. 1.]\n",
      "   [1. 1. 1.]\n",
      "   [1. 1. 1.]\n",
      "   ...\n",
      "   [1. 1. 1.]\n",
      "   [1. 1. 1.]\n",
      "   [1. 1. 1.]]\n",
      "\n",
      "  [[1. 1. 1.]\n",
      "   [1. 1. 1.]\n",
      "   [1. 1. 1.]\n",
      "   ...\n",
      "   [1. 1. 1.]\n",
      "   [1. 1. 1.]\n",
      "   [1. 1. 1.]]\n",
      "\n",
      "  ...\n",
      "\n",
      "  [[1. 1. 1.]\n",
      "   [1. 1. 1.]\n",
      "   [1. 1. 1.]\n",
      "   ...\n",
      "   [1. 1. 1.]\n",
      "   [1. 1. 1.]\n",
      "   [1. 1. 1.]]\n",
      "\n",
      "  [[1. 1. 1.]\n",
      "   [1. 1. 1.]\n",
      "   [1. 1. 1.]\n",
      "   ...\n",
      "   [1. 1. 1.]\n",
      "   [1. 1. 1.]\n",
      "   [1. 1. 1.]]\n",
      "\n",
      "  [[1. 1. 1.]\n",
      "   [1. 1. 1.]\n",
      "   [1. 1. 1.]\n",
      "   ...\n",
      "   [1. 1. 1.]\n",
      "   [1. 1. 1.]\n",
      "   [1. 1. 1.]]]\n",
      "\n",
      "\n",
      " [[[1. 1. 1.]\n",
      "   [1. 1. 1.]\n",
      "   [1. 1. 1.]\n",
      "   ...\n",
      "   [1. 1. 1.]\n",
      "   [1. 1. 1.]\n",
      "   [1. 1. 1.]]\n",
      "\n",
      "  [[1. 1. 1.]\n",
      "   [1. 1. 1.]\n",
      "   [1. 1. 1.]\n",
      "   ...\n",
      "   [1. 1. 1.]\n",
      "   [1. 1. 1.]\n",
      "   [1. 1. 1.]]\n",
      "\n",
      "  [[1. 1. 1.]\n",
      "   [1. 1. 1.]\n",
      "   [1. 1. 1.]\n",
      "   ...\n",
      "   [1. 1. 1.]\n",
      "   [1. 1. 1.]\n",
      "   [1. 1. 1.]]\n",
      "\n",
      "  ...\n",
      "\n",
      "  [[1. 1. 1.]\n",
      "   [1. 1. 1.]\n",
      "   [1. 1. 1.]\n",
      "   ...\n",
      "   [1. 1. 1.]\n",
      "   [1. 1. 1.]\n",
      "   [1. 1. 1.]]\n",
      "\n",
      "  [[1. 1. 1.]\n",
      "   [1. 1. 1.]\n",
      "   [1. 1. 1.]\n",
      "   ...\n",
      "   [1. 1. 1.]\n",
      "   [1. 1. 1.]\n",
      "   [1. 1. 1.]]\n",
      "\n",
      "  [[1. 1. 1.]\n",
      "   [1. 1. 1.]\n",
      "   [1. 1. 1.]\n",
      "   ...\n",
      "   [1. 1. 1.]\n",
      "   [1. 1. 1.]\n",
      "   [1. 1. 1.]]]\n",
      "\n",
      "\n",
      " [[[1. 1. 1.]\n",
      "   [1. 1. 1.]\n",
      "   [1. 1. 1.]\n",
      "   ...\n",
      "   [1. 1. 1.]\n",
      "   [1. 1. 1.]\n",
      "   [1. 1. 1.]]\n",
      "\n",
      "  [[1. 1. 1.]\n",
      "   [1. 1. 1.]\n",
      "   [1. 1. 1.]\n",
      "   ...\n",
      "   [1. 1. 1.]\n",
      "   [1. 1. 1.]\n",
      "   [1. 1. 1.]]\n",
      "\n",
      "  [[1. 1. 1.]\n",
      "   [1. 1. 1.]\n",
      "   [1. 1. 1.]\n",
      "   ...\n",
      "   [1. 1. 1.]\n",
      "   [1. 1. 1.]\n",
      "   [1. 1. 1.]]\n",
      "\n",
      "  ...\n",
      "\n",
      "  [[1. 1. 1.]\n",
      "   [1. 1. 1.]\n",
      "   [1. 1. 1.]\n",
      "   ...\n",
      "   [1. 1. 1.]\n",
      "   [1. 1. 1.]\n",
      "   [1. 1. 1.]]\n",
      "\n",
      "  [[1. 1. 1.]\n",
      "   [1. 1. 1.]\n",
      "   [1. 1. 1.]\n",
      "   ...\n",
      "   [1. 1. 1.]\n",
      "   [1. 1. 1.]\n",
      "   [1. 1. 1.]]\n",
      "\n",
      "  [[1. 1. 1.]\n",
      "   [1. 1. 1.]\n",
      "   [1. 1. 1.]\n",
      "   ...\n",
      "   [1. 1. 1.]\n",
      "   [1. 1. 1.]\n",
      "   [1. 1. 1.]]]]\n",
      "==================================================\n",
      "[[0. 0. 1.]\n",
      " [1. 0. 0.]\n",
      " [0. 0. 1.]]\n",
      "==================================================\n",
      "(3, 24, 24, 3)\n",
      "==================================================\n",
      "(3, 3)\n"
     ]
    }
   ],
   "source": [
    "type(train_gen)\n",
    "for x, y in train_gen:\n",
    "    print(x)\n",
    "    print(\"=\"*50)\n",
    "    print(y)\n",
    "    print(\"=\"*50)\n",
    "    print(x.shape)\n",
    "    print(\"=\"*50)\n",
    "    print(y.shape)\n",
    "    break"
   ]
  },
  {
   "cell_type": "markdown",
   "metadata": {},
   "source": [
    "#모델 생성\n",
    "1. conv layer:입력(24,24), 채널(3), 필터(3,3), 필터개수(32), 활성화(relu)\n",
    "2. pooling : 크기(2,2)\n",
    "3. flatten\n",
    "4. dense : 출력(128), 활성화(relu)\n",
    "5. dense : 출력(3), 활성화(softmax)"
   ]
  },
  {
   "cell_type": "code",
   "execution_count": 45,
   "metadata": {},
   "outputs": [
    {
     "name": "stdout",
     "output_type": "stream",
     "text": [
      "_________________________________________________________________\n",
      "Layer (type)                 Output Shape              Param #   \n",
      "=================================================================\n",
      "conv2d_12 (Conv2D)           (None, 22, 22, 32)        896       \n",
      "_________________________________________________________________\n",
      "conv2d_13 (Conv2D)           (None, 20, 20, 64)        18496     \n",
      "_________________________________________________________________\n",
      "max_pooling2d_4 (MaxPooling2 (None, 10, 10, 64)        0         \n",
      "_________________________________________________________________\n",
      "flatten_3 (Flatten)          (None, 6400)              0         \n",
      "_________________________________________________________________\n",
      "dense_2 (Dense)              (None, 128)               819328    \n",
      "_________________________________________________________________\n",
      "dense_3 (Dense)              (None, 3)                 387       \n",
      "=================================================================\n",
      "Total params: 839,107\n",
      "Trainable params: 839,107\n",
      "Non-trainable params: 0\n",
      "_________________________________________________________________\n"
     ]
    }
   ],
   "source": [
    "model=Sequential()\n",
    "model.add(Conv2D(32, kernel_size=(3,3),\n",
    "                activation='relu',\n",
    "                input_shape=(24,24,3)))\n",
    "model.add(Conv2D(64,(3,3),activation='relu'))\n",
    "model.add(MaxPooling2D(pool_size=(2,2)))\n",
    "model.add(Flatten())\n",
    "model.add(Dense(128, activation='relu'))\n",
    "model.add(Dense(3, activation='softmax'))\n",
    "model.summary()"
   ]
  },
  {
   "cell_type": "code",
   "execution_count": 46,
   "metadata": {},
   "outputs": [
    {
     "name": "stderr",
     "output_type": "stream",
     "text": [
      "W0820 11:55:46.035514  4628 deprecation_wrapper.py:119] From C:\\Users\\user\\Anaconda3\\lib\\site-packages\\keras\\optimizers.py:790: The name tf.train.Optimizer is deprecated. Please use tf.compat.v1.train.Optimizer instead.\n",
      "\n",
      "W0820 11:55:46.056457  4628 deprecation_wrapper.py:119] From C:\\Users\\user\\Anaconda3\\lib\\site-packages\\keras\\backend\\tensorflow_backend.py:3295: The name tf.log is deprecated. Please use tf.math.log instead.\n",
      "\n"
     ]
    }
   ],
   "source": [
    "model.compile(loss='categorical_crossentropy',\n",
    "             optimizer='adam',\n",
    "             metrics=['accuracy'])"
   ]
  },
  {
   "cell_type": "code",
   "execution_count": 47,
   "metadata": {},
   "outputs": [],
   "source": [
    "#fit : 케라스 모델 학습 함수\n",
    "#fit_generator:제너레이터로 생성된 데이터를 학습 함수"
   ]
  },
  {
   "cell_type": "code",
   "execution_count": 50,
   "metadata": {},
   "outputs": [
    {
     "name": "stderr",
     "output_type": "stream",
     "text": [
      "W0820 12:04:48.219012  4628 deprecation.py:323] From C:\\Users\\user\\Anaconda3\\lib\\site-packages\\tensorflow\\python\\ops\\math_grad.py:1250: add_dispatch_support.<locals>.wrapper (from tensorflow.python.ops.array_ops) is deprecated and will be removed in a future version.\n",
      "Instructions for updating:\n",
      "Use tf.where in 2.0, which has the same broadcast rule as np.where\n",
      "W0820 12:04:48.288825  4628 deprecation_wrapper.py:119] From C:\\Users\\user\\Anaconda3\\lib\\site-packages\\keras\\backend\\tensorflow_backend.py:986: The name tf.assign_add is deprecated. Please use tf.compat.v1.assign_add instead.\n",
      "\n"
     ]
    },
    {
     "name": "stdout",
     "output_type": "stream",
     "text": [
      "Epoch 1/100\n",
      "15/15 [==============================] - 1s 47ms/step - loss: 0.9590 - acc: 0.6222 - val_loss: 0.5904 - val_acc: 0.6667\n",
      "Epoch 2/100\n",
      "15/15 [==============================] - 0s 18ms/step - loss: 0.2679 - acc: 0.8667 - val_loss: 0.1845 - val_acc: 1.0000\n",
      "Epoch 3/100\n",
      "15/15 [==============================] - 0s 21ms/step - loss: 0.0605 - acc: 0.9778 - val_loss: 0.0345 - val_acc: 1.0000\n",
      "Epoch 4/100\n",
      "15/15 [==============================] - 0s 20ms/step - loss: 0.0242 - acc: 1.0000 - val_loss: 0.0273 - val_acc: 1.0000\n",
      "Epoch 5/100\n",
      "15/15 [==============================] - 0s 19ms/step - loss: 0.0023 - acc: 1.0000 - val_loss: 0.0114 - val_acc: 1.0000\n",
      "Epoch 6/100\n",
      "15/15 [==============================] - 0s 21ms/step - loss: 0.0023 - acc: 1.0000 - val_loss: 0.0086 - val_acc: 1.0000\n",
      "Epoch 7/100\n",
      "15/15 [==============================] - 0s 21ms/step - loss: 7.4997e-04 - acc: 1.0000 - val_loss: 0.0094 - val_acc: 1.0000\n",
      "Epoch 8/100\n",
      "15/15 [==============================] - 0s 21ms/step - loss: 5.5570e-04 - acc: 1.0000 - val_loss: 0.0099 - val_acc: 1.0000\n",
      "Epoch 9/100\n",
      "15/15 [==============================] - 0s 25ms/step - loss: 4.5388e-04 - acc: 1.0000 - val_loss: 0.0092 - val_acc: 1.0000\n",
      "Epoch 10/100\n",
      "15/15 [==============================] - 0s 21ms/step - loss: 3.7688e-04 - acc: 1.0000 - val_loss: 0.0089 - val_acc: 1.0000\n",
      "Epoch 11/100\n",
      "15/15 [==============================] - 0s 20ms/step - loss: 3.1644e-04 - acc: 1.0000 - val_loss: 0.0086 - val_acc: 1.0000\n",
      "Epoch 12/100\n",
      "15/15 [==============================] - 0s 19ms/step - loss: 2.7376e-04 - acc: 1.0000 - val_loss: 0.0083 - val_acc: 1.0000\n",
      "Epoch 13/100\n",
      "15/15 [==============================] - 0s 21ms/step - loss: 2.4252e-04 - acc: 1.0000 - val_loss: 0.0081 - val_acc: 1.0000\n",
      "Epoch 14/100\n",
      "15/15 [==============================] - 0s 20ms/step - loss: 2.1248e-04 - acc: 1.0000 - val_loss: 0.0080 - val_acc: 1.0000\n",
      "Epoch 15/100\n",
      "15/15 [==============================] - 0s 20ms/step - loss: 1.8808e-04 - acc: 1.0000 - val_loss: 0.0078 - val_acc: 1.0000\n",
      "Epoch 16/100\n",
      "15/15 [==============================] - 0s 18ms/step - loss: 1.6897e-04 - acc: 1.0000 - val_loss: 0.0079 - val_acc: 1.0000\n",
      "Epoch 17/100\n",
      "15/15 [==============================] - 0s 19ms/step - loss: 1.5112e-04 - acc: 1.0000 - val_loss: 0.0077 - val_acc: 1.0000\n",
      "Epoch 18/100\n",
      "15/15 [==============================] - 0s 20ms/step - loss: 1.3517e-04 - acc: 1.0000 - val_loss: 0.0075 - val_acc: 1.0000\n",
      "Epoch 19/100\n",
      "15/15 [==============================] - 0s 19ms/step - loss: 1.2217e-04 - acc: 1.0000 - val_loss: 0.0077 - val_acc: 1.0000\n",
      "Epoch 20/100\n",
      "15/15 [==============================] - 0s 20ms/step - loss: 1.0932e-04 - acc: 1.0000 - val_loss: 0.0079 - val_acc: 1.0000\n",
      "Epoch 21/100\n",
      "15/15 [==============================] - 0s 20ms/step - loss: 9.9937e-05 - acc: 1.0000 - val_loss: 0.0080 - val_acc: 1.0000\n",
      "Epoch 22/100\n",
      "15/15 [==============================] - 0s 19ms/step - loss: 8.9404e-05 - acc: 1.0000 - val_loss: 0.0082 - val_acc: 1.0000\n",
      "Epoch 23/100\n",
      "15/15 [==============================] - 0s 20ms/step - loss: 8.1066e-05 - acc: 1.0000 - val_loss: 0.0083 - val_acc: 1.0000\n",
      "Epoch 24/100\n",
      "15/15 [==============================] - 0s 20ms/step - loss: 7.4601e-05 - acc: 1.0000 - val_loss: 0.0084 - val_acc: 1.0000\n",
      "Epoch 25/100\n",
      "15/15 [==============================] - 0s 17ms/step - loss: 6.6882e-05 - acc: 1.0000 - val_loss: 0.0089 - val_acc: 1.0000\n",
      "Epoch 26/100\n",
      "15/15 [==============================] - 0s 18ms/step - loss: 6.1122e-05 - acc: 1.0000 - val_loss: 0.0089 - val_acc: 1.0000\n",
      "Epoch 27/100\n",
      "15/15 [==============================] - 0s 19ms/step - loss: 5.5650e-05 - acc: 1.0000 - val_loss: 0.0091 - val_acc: 1.0000\n",
      "Epoch 28/100\n",
      "15/15 [==============================] - 0s 18ms/step - loss: 5.0685e-05 - acc: 1.0000 - val_loss: 0.0095 - val_acc: 1.0000\n",
      "Epoch 29/100\n",
      "15/15 [==============================] - 0s 19ms/step - loss: 4.5835e-05 - acc: 1.0000 - val_loss: 0.0097 - val_acc: 1.0000\n",
      "Epoch 30/100\n",
      "15/15 [==============================] - ETA: 0s - loss: 3.7057e-05 - acc: 1.000 - 0s 20ms/step - loss: 4.2246e-05 - acc: 1.0000 - val_loss: 0.0103 - val_acc: 1.0000\n",
      "Epoch 31/100\n",
      "15/15 [==============================] - 0s 22ms/step - loss: 3.9203e-05 - acc: 1.0000 - val_loss: 0.0102 - val_acc: 1.0000\n",
      "Epoch 32/100\n",
      "15/15 [==============================] - 0s 22ms/step - loss: 3.5120e-05 - acc: 1.0000 - val_loss: 0.0106 - val_acc: 1.0000\n",
      "Epoch 33/100\n",
      "15/15 [==============================] - 0s 22ms/step - loss: 3.1808e-05 - acc: 1.0000 - val_loss: 0.0110 - val_acc: 1.0000\n",
      "Epoch 34/100\n",
      "15/15 [==============================] - 0s 22ms/step - loss: 2.9140e-05 - acc: 1.0000 - val_loss: 0.0116 - val_acc: 1.0000\n",
      "Epoch 35/100\n",
      "15/15 [==============================] - 0s 20ms/step - loss: 2.6870e-05 - acc: 1.0000 - val_loss: 0.0120 - val_acc: 1.0000\n",
      "Epoch 36/100\n",
      "15/15 [==============================] - 0s 19ms/step - loss: 2.4907e-05 - acc: 1.0000 - val_loss: 0.0121 - val_acc: 1.0000\n",
      "Epoch 37/100\n",
      "15/15 [==============================] - 0s 19ms/step - loss: 2.2838e-05 - acc: 1.0000 - val_loss: 0.0128 - val_acc: 1.0000\n",
      "Epoch 38/100\n",
      "15/15 [==============================] - 0s 22ms/step - loss: 2.1436e-05 - acc: 1.0000 - val_loss: 0.0128 - val_acc: 1.0000\n",
      "Epoch 39/100\n",
      "15/15 [==============================] - 0s 22ms/step - loss: 1.9713e-05 - acc: 1.0000 - val_loss: 0.0132 - val_acc: 1.0000\n",
      "Epoch 40/100\n",
      "15/15 [==============================] - 0s 22ms/step - loss: 1.8033e-05 - acc: 1.0000 - val_loss: 0.0139 - val_acc: 1.0000\n",
      "Epoch 41/100\n",
      "15/15 [==============================] - 0s 21ms/step - loss: 1.6796e-05 - acc: 1.0000 - val_loss: 0.0141 - val_acc: 1.0000\n",
      "Epoch 42/100\n",
      "15/15 [==============================] - 0s 22ms/step - loss: 1.5577e-05 - acc: 1.0000 - val_loss: 0.0146 - val_acc: 1.0000\n",
      "Epoch 43/100\n",
      "15/15 [==============================] - 0s 20ms/step - loss: 1.4672e-05 - acc: 1.0000 - val_loss: 0.0149 - val_acc: 1.0000\n",
      "Epoch 44/100\n",
      "15/15 [==============================] - 0s 21ms/step - loss: 1.3672e-05 - acc: 1.0000 - val_loss: 0.0148 - val_acc: 1.0000\n",
      "Epoch 45/100\n",
      "15/15 [==============================] - 0s 23ms/step - loss: 1.2839e-05 - acc: 1.0000 - val_loss: 0.0154 - val_acc: 1.0000\n",
      "Epoch 46/100\n",
      "15/15 [==============================] - 0s 22ms/step - loss: 1.1928e-05 - acc: 1.0000 - val_loss: 0.0157 - val_acc: 1.0000\n",
      "Epoch 47/100\n",
      "15/15 [==============================] - 0s 21ms/step - loss: 1.1291e-05 - acc: 1.0000 - val_loss: 0.0157 - val_acc: 1.0000\n",
      "Epoch 48/100\n",
      "15/15 [==============================] - 0s 20ms/step - loss: 1.0616e-05 - acc: 1.0000 - val_loss: 0.0162 - val_acc: 1.0000\n",
      "Epoch 49/100\n",
      "15/15 [==============================] - 0s 20ms/step - loss: 1.0014e-05 - acc: 1.0000 - val_loss: 0.0161 - val_acc: 1.0000\n",
      "Epoch 50/100\n",
      "15/15 [==============================] - 0s 19ms/step - loss: 9.5171e-06 - acc: 1.0000 - val_loss: 0.0163 - val_acc: 1.0000\n",
      "Epoch 51/100\n",
      "15/15 [==============================] - 0s 21ms/step - loss: 8.8892e-06 - acc: 1.0000 - val_loss: 0.0165 - val_acc: 1.0000\n",
      "Epoch 52/100\n",
      "15/15 [==============================] - 0s 20ms/step - loss: 8.4203e-06 - acc: 1.0000 - val_loss: 0.0169 - val_acc: 1.0000\n",
      "Epoch 53/100\n",
      "15/15 [==============================] - 0s 18ms/step - loss: 7.9620e-06 - acc: 1.0000 - val_loss: 0.0173 - val_acc: 1.0000\n",
      "Epoch 54/100\n",
      "15/15 [==============================] - 0s 19ms/step - loss: 7.5924e-06 - acc: 1.0000 - val_loss: 0.0175 - val_acc: 1.0000\n",
      "Epoch 55/100\n",
      "15/15 [==============================] - 0s 19ms/step - loss: 7.2282e-06 - acc: 1.0000 - val_loss: 0.0179 - val_acc: 1.0000\n",
      "Epoch 56/100\n",
      "15/15 [==============================] - 0s 19ms/step - loss: 6.8136e-06 - acc: 1.0000 - val_loss: 0.0182 - val_acc: 1.0000\n",
      "Epoch 57/100\n",
      "15/15 [==============================] - 0s 19ms/step - loss: 6.5248e-06 - acc: 1.0000 - val_loss: 0.0182 - val_acc: 1.0000\n",
      "Epoch 58/100\n",
      "15/15 [==============================] - 0s 23ms/step - loss: 6.2268e-06 - acc: 1.0000 - val_loss: 0.0188 - val_acc: 1.0000\n",
      "Epoch 59/100\n",
      "15/15 [==============================] - 0s 22ms/step - loss: 5.9208e-06 - acc: 1.0000 - val_loss: 0.0192 - val_acc: 1.0000\n",
      "Epoch 60/100\n",
      "15/15 [==============================] - 0s 19ms/step - loss: 5.6307e-06 - acc: 1.0000 - val_loss: 0.0196 - val_acc: 1.0000\n"
     ]
    },
    {
     "name": "stdout",
     "output_type": "stream",
     "text": [
      "Epoch 61/100\n",
      "15/15 [==============================] - 0s 21ms/step - loss: 5.3459e-06 - acc: 1.0000 - val_loss: 0.0195 - val_acc: 1.0000\n",
      "Epoch 62/100\n",
      "15/15 [==============================] - 0s 20ms/step - loss: 5.1486e-06 - acc: 1.0000 - val_loss: 0.0195 - val_acc: 1.0000\n",
      "Epoch 63/100\n",
      "15/15 [==============================] - 0s 20ms/step - loss: 4.9009e-06 - acc: 1.0000 - val_loss: 0.0200 - val_acc: 1.0000\n",
      "Epoch 64/100\n",
      "15/15 [==============================] - 0s 18ms/step - loss: 4.7168e-06 - acc: 1.0000 - val_loss: 0.0203 - val_acc: 1.0000\n",
      "Epoch 65/100\n",
      "15/15 [==============================] - 0s 19ms/step - loss: 4.4916e-06 - acc: 1.0000 - val_loss: 0.0210 - val_acc: 1.0000\n",
      "Epoch 66/100\n",
      "15/15 [==============================] - 0s 19ms/step - loss: 4.3048e-06 - acc: 1.0000 - val_loss: 0.0213 - val_acc: 1.0000\n",
      "Epoch 67/100\n",
      "15/15 [==============================] - 0s 19ms/step - loss: 4.1379e-06 - acc: 1.0000 - val_loss: 0.0216 - val_acc: 1.0000\n",
      "Epoch 68/100\n",
      "15/15 [==============================] - 0s 18ms/step - loss: 3.9618e-06 - acc: 1.0000 - val_loss: 0.0220 - val_acc: 1.0000\n",
      "Epoch 69/100\n",
      "15/15 [==============================] - 0s 18ms/step - loss: 3.8068e-06 - acc: 1.0000 - val_loss: 0.0223 - val_acc: 1.0000\n",
      "Epoch 70/100\n",
      "15/15 [==============================] - 0s 18ms/step - loss: 3.6492e-06 - acc: 1.0000 - val_loss: 0.0225 - val_acc: 1.0000\n",
      "Epoch 71/100\n",
      "15/15 [==============================] - 0s 18ms/step - loss: 3.5286e-06 - acc: 1.0000 - val_loss: 0.0229 - val_acc: 1.0000\n",
      "Epoch 72/100\n",
      "15/15 [==============================] - 0s 20ms/step - loss: 3.3763e-06 - acc: 1.0000 - val_loss: 0.0235 - val_acc: 1.0000\n",
      "Epoch 73/100\n",
      "15/15 [==============================] - 0s 19ms/step - loss: 3.2438e-06 - acc: 1.0000 - val_loss: 0.0237 - val_acc: 1.0000\n",
      "Epoch 74/100\n",
      "15/15 [==============================] - 0s 18ms/step - loss: 3.1273e-06 - acc: 1.0000 - val_loss: 0.0238 - val_acc: 1.0000\n",
      "Epoch 75/100\n",
      "15/15 [==============================] - 0s 18ms/step - loss: 3.0306e-06 - acc: 1.0000 - val_loss: 0.0239 - val_acc: 1.0000\n",
      "Epoch 76/100\n",
      "15/15 [==============================] - 0s 18ms/step - loss: 2.9100e-06 - acc: 1.0000 - val_loss: 0.0242 - val_acc: 1.0000\n",
      "Epoch 77/100\n",
      "15/15 [==============================] - 0s 19ms/step - loss: 2.8120e-06 - acc: 1.0000 - val_loss: 0.0249 - val_acc: 1.0000\n",
      "Epoch 78/100\n",
      "15/15 [==============================] - 0s 22ms/step - loss: 2.7034e-06 - acc: 1.0000 - val_loss: 0.0249 - val_acc: 1.0000\n",
      "Epoch 79/100\n",
      "15/15 [==============================] - 0s 22ms/step - loss: 2.6279e-06 - acc: 1.0000 - val_loss: 0.0249 - val_acc: 1.0000\n",
      "Epoch 80/100\n",
      "15/15 [==============================] - 0s 20ms/step - loss: 2.5286e-06 - acc: 1.0000 - val_loss: 0.0254 - val_acc: 1.0000\n",
      "Epoch 81/100\n",
      "15/15 [==============================] - 0s 22ms/step - loss: 2.4504e-06 - acc: 1.0000 - val_loss: 0.0259 - val_acc: 1.0000\n",
      "Epoch 82/100\n",
      "15/15 [==============================] - 0s 19ms/step - loss: 2.3617e-06 - acc: 1.0000 - val_loss: 0.0261 - val_acc: 1.0000\n",
      "Epoch 83/100\n",
      "15/15 [==============================] - 0s 20ms/step - loss: 2.2796e-06 - acc: 1.0000 - val_loss: 0.0264 - val_acc: 1.0000\n",
      "Epoch 84/100\n",
      "15/15 [==============================] - 0s 20ms/step - loss: 2.2226e-06 - acc: 1.0000 - val_loss: 0.0266 - val_acc: 1.0000\n",
      "Epoch 85/100\n",
      "15/15 [==============================] - 0s 18ms/step - loss: 2.1392e-06 - acc: 1.0000 - val_loss: 0.0268 - val_acc: 1.0000\n",
      "Epoch 86/100\n",
      "15/15 [==============================] - 0s 17ms/step - loss: 2.0743e-06 - acc: 1.0000 - val_loss: 0.0272 - val_acc: 1.0000\n",
      "Epoch 87/100\n",
      "15/15 [==============================] - 0s 18ms/step - loss: 2.0133e-06 - acc: 1.0000 - val_loss: 0.0275 - val_acc: 1.0000\n",
      "Epoch 88/100\n",
      "15/15 [==============================] - 0s 19ms/step - loss: 1.9431e-06 - acc: 1.0000 - val_loss: 0.0276 - val_acc: 1.0000\n",
      "Epoch 89/100\n",
      "15/15 [==============================] - 0s 17ms/step - loss: 1.8941e-06 - acc: 1.0000 - val_loss: 0.0279 - val_acc: 1.0000\n",
      "Epoch 90/100\n",
      "15/15 [==============================] - 0s 19ms/step - loss: 1.8305e-06 - acc: 1.0000 - val_loss: 0.0286 - val_acc: 1.0000\n",
      "Epoch 91/100\n",
      "15/15 [==============================] - 0s 17ms/step - loss: 1.7670e-06 - acc: 1.0000 - val_loss: 0.0290 - val_acc: 1.0000\n",
      "Epoch 92/100\n",
      "15/15 [==============================] - 0s 18ms/step - loss: 1.7352e-06 - acc: 1.0000 - val_loss: 0.0293 - val_acc: 1.0000\n",
      "Epoch 93/100\n",
      "15/15 [==============================] - 0s 18ms/step - loss: 1.6809e-06 - acc: 1.0000 - val_loss: 0.0295 - val_acc: 1.0000\n",
      "Epoch 94/100\n",
      "15/15 [==============================] - 0s 19ms/step - loss: 1.6292e-06 - acc: 1.0000 - val_loss: 0.0297 - val_acc: 1.0000\n",
      "Epoch 95/100\n",
      "15/15 [==============================] - 0s 20ms/step - loss: 1.5762e-06 - acc: 1.0000 - val_loss: 0.0300 - val_acc: 1.0000\n",
      "Epoch 96/100\n",
      "15/15 [==============================] - 0s 19ms/step - loss: 1.5444e-06 - acc: 1.0000 - val_loss: 0.0304 - val_acc: 1.0000\n",
      "Epoch 97/100\n",
      "15/15 [==============================] - 0s 18ms/step - loss: 1.4981e-06 - acc: 1.0000 - val_loss: 0.0305 - val_acc: 1.0000\n",
      "Epoch 98/100\n",
      "15/15 [==============================] - 0s 18ms/step - loss: 1.4583e-06 - acc: 1.0000 - val_loss: 0.0309 - val_acc: 1.0000\n",
      "Epoch 99/100\n",
      "15/15 [==============================] - 0s 19ms/step - loss: 1.4133e-06 - acc: 1.0000 - val_loss: 0.0311 - val_acc: 1.0000\n",
      "Epoch 100/100\n",
      "15/15 [==============================] - 0s 19ms/step - loss: 1.3868e-06 - acc: 1.0000 - val_loss: 0.0318 - val_acc: 1.0000\n"
     ]
    },
    {
     "data": {
      "text/plain": [
       "<keras.callbacks.History at 0x19fc7a38908>"
      ]
     },
     "execution_count": 50,
     "metadata": {},
     "output_type": "execute_result"
    }
   ],
   "source": [
    "model.fit_generator(\n",
    "train_gen,\n",
    "steps_per_epoch=15,  #1에폭:45개, 배치:3 이므로 15=45/3\n",
    "epochs=100,\n",
    "validation_data=test_gen,\n",
    "validation_steps=5\n",
    ")"
   ]
  },
  {
   "cell_type": "code",
   "execution_count": 55,
   "metadata": {},
   "outputs": [
    {
     "name": "stdout",
     "output_type": "stream",
     "text": [
      "acc: 100.00%\n"
     ]
    }
   ],
   "source": [
    "#모델 평가 : evalute_generator\n",
    "scores=model.evaluate_generator(test_gen, steps=5)\n",
    "print(\"%s: %.2f%%\" % (model.metrics_names[1], scores[1]*100))"
   ]
  },
  {
   "cell_type": "code",
   "execution_count": 57,
   "metadata": {},
   "outputs": [
    {
     "name": "stdout",
     "output_type": "stream",
     "text": [
      "{'circle': 0, 'rectangle': 1, 'triangle': 2}\n",
      "[[1.000 0.000 0.000]\n",
      " [0.000 0.000 1.000]\n",
      " [0.000 1.000 0.000]\n",
      " [0.000 1.000 0.000]\n",
      " [0.000 0.000 1.000]\n",
      " [1.000 0.000 0.000]\n",
      " [0.000 1.000 0.000]\n",
      " [1.000 0.000 0.000]\n",
      " [0.997 0.000 0.003]\n",
      " [0.000 0.000 1.000]\n",
      " [0.000 0.000 1.000]\n",
      " [0.000 0.000 1.000]\n",
      " [1.000 0.000 0.000]\n",
      " [1.000 0.000 0.000]\n",
      " [0.000 1.000 0.000]]\n"
     ]
    }
   ],
   "source": [
    "#예측 결과를 클래스 벡터로 표현\n",
    "output=model.predict_generator(test_gen,steps=5)\n",
    "np.set_printoptions(\n",
    "    formatter={'float': lambda x: \"{0:0.3f}\".\n",
    "               format(x)})\n",
    "print(test_gen.class_indices)\n",
    "print(output)"
   ]
  },
  {
   "cell_type": "code",
   "execution_count": 60,
   "metadata": {},
   "outputs": [
    {
     "ename": "SyntaxError",
     "evalue": "invalid syntax (<ipython-input-60-e3b915524919>, line 1)",
     "output_type": "error",
     "traceback": [
      "\u001b[1;36m  File \u001b[1;32m\"<ipython-input-60-e3b915524919>\"\u001b[1;36m, line \u001b[1;32m1\u001b[0m\n\u001b[1;33m    from keras.preprocessing.image\u001b[0m\n\u001b[1;37m                                   ^\u001b[0m\n\u001b[1;31mSyntaxError\u001b[0m\u001b[1;31m:\u001b[0m invalid syntax\n"
     ]
    }
   ],
   "source": [
    "from keras.preprocessing.image \n",
    "import ImageDataGenerator, array_to_img, img_to_array, load_img\n",
    "#from keras.preprocessing import image"
   ]
  },
  {
   "cell_type": "code",
   "execution_count": 83,
   "metadata": {},
   "outputs": [],
   "source": [
    "data_aug_gen=ImageDataGenerator(\n",
    "rescale=1./255,\n",
    "rotation_range=90,\n",
    "    width_shift_range=1,\n",
    "    height_shift_range=90,\n",
    "    zoom_range=[0.2,3.0],#원본이미지80%~120%크기\n",
    "    fill_mode='nearest',\n",
    "    vertical_flip=True,\n",
    "    shear_range=0.1\n",
    ")"
   ]
  },
  {
   "cell_type": "code",
   "execution_count": 88,
   "metadata": {
    "scrolled": true
   },
   "outputs": [],
   "source": [
    "# img=load_img('dog.6415.jpg')\n",
    "# img"
   ]
  },
  {
   "cell_type": "code",
   "execution_count": 85,
   "metadata": {},
   "outputs": [
    {
     "data": {
      "text/plain": [
       "(1, 396, 345, 3)"
      ]
     },
     "execution_count": 85,
     "metadata": {},
     "output_type": "execute_result"
    }
   ],
   "source": [
    "x=img_to_array(img)\n",
    "#p.shape(img)#(24, 24, 3)\n",
    "x=x.reshape((1,)+x.shape)\n",
    "np.shape(x) #(1, 24, 24, 3)"
   ]
  },
  {
   "cell_type": "code",
   "execution_count": 86,
   "metadata": {},
   "outputs": [],
   "source": [
    "#가짜 이미지 50개 생성"
   ]
  },
  {
   "cell_type": "code",
   "execution_count": 87,
   "metadata": {},
   "outputs": [],
   "source": [
    "i=0\n",
    "for data in data_aug_gen.flow(x, batch_size=1, \n",
    "                           save_to_dir='hand',\n",
    "                           save_format='jpg', \n",
    "                           save_prefix='sample'):\n",
    "    i+=1\n",
    "    if i>50:\n",
    "        break"
   ]
  },
  {
   "cell_type": "code",
   "execution_count": null,
   "metadata": {},
   "outputs": [],
   "source": []
  },
  {
   "cell_type": "code",
   "execution_count": null,
   "metadata": {},
   "outputs": [],
   "source": []
  },
  {
   "cell_type": "code",
   "execution_count": null,
   "metadata": {},
   "outputs": [],
   "source": []
  },
  {
   "cell_type": "code",
   "execution_count": null,
   "metadata": {},
   "outputs": [],
   "source": []
  }
 ],
 "metadata": {
  "kernelspec": {
   "display_name": "Python 3",
   "language": "python",
   "name": "python3"
  },
  "language_info": {
   "codemirror_mode": {
    "name": "ipython",
    "version": 3
   },
   "file_extension": ".py",
   "mimetype": "text/x-python",
   "name": "python",
   "nbconvert_exporter": "python",
   "pygments_lexer": "ipython3",
   "version": "3.7.3"
  }
 },
 "nbformat": 4,
 "nbformat_minor": 2
}
