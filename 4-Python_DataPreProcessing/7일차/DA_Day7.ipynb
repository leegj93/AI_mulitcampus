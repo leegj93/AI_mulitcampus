{
 "cells": [
  {
   "cell_type": "code",
   "execution_count": 13,
   "metadata": {},
   "outputs": [],
   "source": [
    "import numpy as np\n",
    "import pandas as pd"
   ]
  },
  {
   "cell_type": "code",
   "execution_count": 21,
   "metadata": {},
   "outputs": [
    {
     "data": {
      "text/plain": [
       "'asrth'"
      ]
     },
     "execution_count": 21,
     "metadata": {},
     "output_type": "execute_result"
    }
   ],
   "source": [
    "word='grail'\n",
    "sent='a scratch'\n",
    "word[0]\n",
    "word[0:3]\n",
    "sent[-1]\n",
    "sent[0:-8]\n",
    "sent[-9:-8]\n",
    "word[:3]\n",
    "sent[:]\n",
    "sent[::2]"
   ]
  },
  {
   "cell_type": "code",
   "execution_count": 24,
   "metadata": {},
   "outputs": [
    {
     "name": "stdout",
     "output_type": "stream",
     "text": [
      "Some digits of pi:3.14\n",
      "Some digits of e: 2.72\n"
     ]
    }
   ],
   "source": [
    "a=\"world\"\n",
    "s=\"hello {}\"\n",
    "s.format(a)\n",
    "print(\"Some digits of pi:{}\".format(3.14))\n",
    "print(\"Some digits of %(cont)s: %(value).2f\" % {'cont':'e', 'value':2.718})"
   ]
  },
  {
   "cell_type": "code",
   "execution_count": 28,
   "metadata": {},
   "outputs": [],
   "source": [
    "data=\"\"\"\n",
    "kim 990102-1234567\n",
    "lee 970102-2234567\n",
    "\"\"\""
   ]
  },
  {
   "cell_type": "code",
   "execution_count": 29,
   "metadata": {},
   "outputs": [
    {
     "data": {
      "text/plain": [
       "'\\nkim 990102-*******\\nlee 970102-*******\\n'"
      ]
     },
     "execution_count": 29,
     "metadata": {},
     "output_type": "execute_result"
    }
   ],
   "source": [
    "import re\n",
    "pat=re.compile(\"(\\d{6})[-]\\d{7}\")\n",
    "pat.sub(\"\\g<1>-*******\", data)"
   ]
  },
  {
   "cell_type": "code",
   "execution_count": 44,
   "metadata": {},
   "outputs": [
    {
     "name": "stdout",
     "output_type": "stream",
     "text": [
      "매치됨\n",
      "hi de7ep\n"
     ]
    }
   ],
   "source": [
    "pat=re.compile('[ a-z6-8]+')\n",
    "res=pat.match(\"hi de7ep\")\n",
    "if res: #res에 객체가 저장되었다면\n",
    "    print(\"매치됨\")\n",
    "    print(res.group())\n",
    "else: #None = 매치되지 않았다면(객체가 저장되지 않았다면)\n",
    "    print(\"매치안됨\")"
   ]
  },
  {
   "cell_type": "code",
   "execution_count": 45,
   "metadata": {},
   "outputs": [],
   "source": [
    "pat=re.compile('[a-z]+')"
   ]
  },
  {
   "cell_type": "code",
   "execution_count": 47,
   "metadata": {},
   "outputs": [
    {
     "name": "stdout",
     "output_type": "stream",
     "text": [
      "None\n"
     ]
    }
   ],
   "source": [
    "res=pat.match(\"3 test\")\n",
    "print(res)"
   ]
  },
  {
   "cell_type": "code",
   "execution_count": 48,
   "metadata": {},
   "outputs": [
    {
     "name": "stdout",
     "output_type": "stream",
     "text": [
      "<re.Match object; span=(2, 6), match='test'>\n"
     ]
    }
   ],
   "source": [
    "res=pat.search(\"3 test\")\n",
    "print(res)"
   ]
  },
  {
   "cell_type": "code",
   "execution_count": 52,
   "metadata": {},
   "outputs": [
    {
     "data": {
      "text/plain": [
       "['life', 'is', 'too', 'short']"
      ]
     },
     "execution_count": 52,
     "metadata": {},
     "output_type": "execute_result"
    }
   ],
   "source": [
    "pat.findall(\"7 life is too short\")"
   ]
  },
  {
   "cell_type": "code",
   "execution_count": 53,
   "metadata": {},
   "outputs": [
    {
     "data": {
      "text/plain": [
       "<re.Match object; span=(2, 6), match='life'>"
      ]
     },
     "execution_count": 53,
     "metadata": {},
     "output_type": "execute_result"
    }
   ],
   "source": [
    "pat.search(\"7 life is too short\")"
   ]
  },
  {
   "cell_type": "code",
   "execution_count": 54,
   "metadata": {},
   "outputs": [],
   "source": [
    "pat.match(\"7 life is too short\")"
   ]
  },
  {
   "cell_type": "code",
   "execution_count": 56,
   "metadata": {},
   "outputs": [
    {
     "name": "stdout",
     "output_type": "stream",
     "text": [
      "<callable_iterator object at 0x0000021D09D21828>\n",
      "<re.Match object; span=(2, 6), match='life'>\n",
      "<re.Match object; span=(7, 9), match='is'>\n",
      "<re.Match object; span=(10, 12), match='to'>\n",
      "<re.Match object; span=(13, 18), match='short'>\n"
     ]
    }
   ],
   "source": [
    "res=pat.finditer(\"7 life is to short\")\n",
    "print(res)\n",
    "for i in res:\n",
    "    print(i)"
   ]
  },
  {
   "cell_type": "code",
   "execution_count": 61,
   "metadata": {},
   "outputs": [
    {
     "data": {
      "text/plain": [
       "(0, 5)"
      ]
     },
     "execution_count": 61,
     "metadata": {},
     "output_type": "execute_result"
    }
   ],
   "source": [
    "res=pat.match('hello')\n",
    "res\n",
    "res.group()\n",
    "res.start()\n",
    "res.end()\n",
    "res.span()"
   ]
  },
  {
   "cell_type": "code",
   "execution_count": 63,
   "metadata": {},
   "outputs": [
    {
     "data": {
      "text/plain": [
       "<re.Match object; span=(0, 4), match='test'>"
      ]
     },
     "execution_count": 63,
     "metadata": {},
     "output_type": "execute_result"
    }
   ],
   "source": [
    "pat=re.compile('[a-z]+')\n",
    "res=pat.match(\"test\")\n",
    "res"
   ]
  },
  {
   "cell_type": "code",
   "execution_count": 65,
   "metadata": {},
   "outputs": [
    {
     "data": {
      "text/plain": [
       "<re.Match object; span=(0, 4), match='test'>"
      ]
     },
     "execution_count": 65,
     "metadata": {},
     "output_type": "execute_result"
    }
   ],
   "source": [
    "res=re.match('[a-z]+',\"test\")\n",
    "res"
   ]
  },
  {
   "cell_type": "code",
   "execution_count": 70,
   "metadata": {},
   "outputs": [
    {
     "name": "stdout",
     "output_type": "stream",
     "text": [
      "<re.Match object; span=(0, 1), match='c'>\n"
     ]
    }
   ],
   "source": [
    "p=re.compile('[abcd]')\n",
    "res=p.match('c')\n",
    "print(res)"
   ]
  },
  {
   "cell_type": "code",
   "execution_count": 81,
   "metadata": {},
   "outputs": [
    {
     "name": "stdout",
     "output_type": "stream",
     "text": [
      "<re.Match object; span=(0, 5), match='hello'>\n"
     ]
    }
   ],
   "source": [
    "p=re.compile('hello|hi') #hello 또는 hi 인 경우에 매치\n",
    "res=p.match('hello')\n",
    "print(res)"
   ]
  },
  {
   "cell_type": "code",
   "execution_count": 94,
   "metadata": {},
   "outputs": [
    {
     "name": "stdout",
     "output_type": "stream",
     "text": [
      "<re.Match object; span=(0, 4), match='Life'>\n"
     ]
    }
   ],
   "source": [
    "pat=re.compile('^Life')\n",
    "res=pat.search('Life is too short')\n",
    "print(res)"
   ]
  },
  {
   "cell_type": "code",
   "execution_count": 96,
   "metadata": {},
   "outputs": [
    {
     "name": "stdout",
     "output_type": "stream",
     "text": [
      "None\n"
     ]
    }
   ],
   "source": [
    "pat=re.compile('short$') #문자열 끝이 short 단어 끝남\n",
    "res=pat.search('Life is too short Life')\n",
    "print(res)"
   ]
  },
  {
   "cell_type": "code",
   "execution_count": 98,
   "metadata": {},
   "outputs": [
    {
     "name": "stdout",
     "output_type": "stream",
     "text": [
      "<re.Match object; span=(0, 3), match='ABC'>\n"
     ]
    }
   ],
   "source": [
    "#그룹: ( )\n",
    "p=re.compile('ABC')\n",
    "res=p.match('ABCABCABC DEF')\n",
    "print(res)"
   ]
  },
  {
   "cell_type": "code",
   "execution_count": 99,
   "metadata": {},
   "outputs": [
    {
     "name": "stdout",
     "output_type": "stream",
     "text": [
      "<re.Match object; span=(0, 3), match='ABC'>\n"
     ]
    }
   ],
   "source": [
    "p=re.compile('ABC')\n",
    "res=p.search('ABCABCABC DEF')\n",
    "print(res)"
   ]
  },
  {
   "cell_type": "code",
   "execution_count": 101,
   "metadata": {},
   "outputs": [
    {
     "name": "stdout",
     "output_type": "stream",
     "text": [
      "['ABC', 'ABC', 'ABC']\n"
     ]
    }
   ],
   "source": [
    "p=re.compile('ABC')\n",
    "res=p.findall('ABCABCABC DEF')\n",
    "print(res)"
   ]
  },
  {
   "cell_type": "code",
   "execution_count": 113,
   "metadata": {},
   "outputs": [
    {
     "name": "stdout",
     "output_type": "stream",
     "text": [
      "<re.Match object; span=(0, 9), match='ABCABCABC'>\n"
     ]
    }
   ],
   "source": [
    "p=re.compile('(ABC)+')#ABC가 여러번 반복\n",
    "res=p.search('ABCABCABC DEF')\n",
    "print(res)"
   ]
  },
  {
   "cell_type": "code",
   "execution_count": 140,
   "metadata": {},
   "outputs": [
    {
     "name": "stdout",
     "output_type": "stream",
     "text": [
      "<re.Match object; span=(0, 17), match='kim 010-1234-5678'>\n",
      "kim 010-1234-5678\n",
      "kim 010-1234-5678\n",
      "kim\n",
      "010-1234-5678\n",
      "1234\n"
     ]
    }
   ],
   "source": [
    "pat=re.compile(\"(\\w+)\\s+(\\d+[-](\\d+)[-]\\d+)\")\n",
    "res=pat.search(\"kim 010-1234-5678\")\n",
    "print(res)\n",
    "print(res.group())#매치된 전체 문자열\n",
    "print(res.group(0))#매치된 전체 문자열\n",
    "print(res.group(1))#매치된 1번째 그룹 문자열\n",
    "print(res.group(2))#매치된 2번째 그룹 문자열\n",
    "print(res.group(3))#매치된 3번째 그룹 문자열\n",
    "\n",
    "# 이름+ \" \"+전화번호\n",
    "# kim 010-1234-5678 (o)\n",
    "# 010-1234-5678     (x)\n",
    "# 010-1234-5678 lee (x)\n",
    "# kim010-1234-5678  (x)"
   ]
  },
  {
   "cell_type": "code",
   "execution_count": 155,
   "metadata": {},
   "outputs": [
    {
     "name": "stdout",
     "output_type": "stream",
     "text": [
      "<re.Match object; span=(0, 1), match='b'>\n",
      "<re.Match object; span=(0, 3), match='aab'>\n",
      "<re.Match object; span=(0, 3), match='aab'>\n",
      "<re.Match object; span=(0, 1), match='K'>\n",
      "<re.Match object; span=(0, 1), match='K'>\n",
      "<re.Match object; span=(0, 2), match='K9'>\n"
     ]
    }
   ],
   "source": [
    "re.match('[0-9]*', '1234')\n",
    "re.match('[0-9]+', '1234')\n",
    "re.match('[0-9]+', 'abcd')\n",
    "print(re.match('a*b', 'b'))\n",
    "print(re.match('a*b', 'aab'))\n",
    "print(re.match('a+b', 'aab'))\n",
    "print(re.match('K?', 'K'))\n",
    "print(re.match('K?', 'K9'))\n",
    "print(re.match('K.', 'K99'))"
   ]
  },
  {
   "cell_type": "code",
   "execution_count": 170,
   "metadata": {},
   "outputs": [
    {
     "name": "stdout",
     "output_type": "stream",
     "text": [
      "None\n",
      "<re.Match object; span=(0, 3), match='kkk'>\n",
      "<re.Match object; span=(0, 6), match='hihihi'>\n",
      "<re.Match object; span=(0, 2), match='hi'>\n",
      "<re.Match object; span=(0, 3), match='010'>\n",
      "<re.Match object; span=(0, 2), match='01'>\n"
     ]
    }
   ],
   "source": [
    "print(re.match('k{3}', 'kkabc'))\n",
    "print(re.match('k{3}', 'kkkabc'))\n",
    "print(re.match('(hi){3}', 'hihihihikkkabc'))\n",
    "print(re.match('(hi)', 'hihihihikkkabc'))\n",
    "print(re.match('[0-9]{3}', '010-123-4567'))\n",
    "print(re.match('[0-9]{1,3}', '01-123-4567'))"
   ]
  },
  {
   "cell_type": "code",
   "execution_count": 179,
   "metadata": {},
   "outputs": [
    {
     "name": "stdout",
     "output_type": "stream",
     "text": [
      "<re.Match object; span=(0, 8), match='Hello123'>\n",
      "<re.Match object; span=(0, 3), match='딥러닝'>\n",
      "<re.Match object; span=(0, 2), match='he'>\n",
      "None\n",
      "<re.Match object; span=(0, 3), match='HEL'>\n",
      "None\n"
     ]
    }
   ],
   "source": [
    "print(re.match('[a-zA-Z0-9]+',\"Hello123\"))\n",
    "print(re.match('[가-힣]+',\"딥러닝\"))  #'딥러닝'\n",
    "print(re.match('[^A-Z]+', 'heLlo'))#[^A-Z]+ 는 대문자를 제외\n",
    "print(re.match('^[A-Z]+', 'heLlo'))#대문자로 시작하는\n",
    "print(re.match('^[A-Z]+', 'HELlo'))\n",
    "\n",
    "\n"
   ]
  },
  {
   "cell_type": "code",
   "execution_count": 188,
   "metadata": {},
   "outputs": [
    {
     "name": "stdout",
     "output_type": "stream",
     "text": [
      "<re.Match object; span=(3, 4), match='7'>\n",
      "<re.Match object; span=(3, 7), match='7564'>\n",
      "None\n",
      "<re.Match object; span=(4, 6), match='**'>\n"
     ]
    }
   ],
   "source": [
    "print(re.search('[0-9]+$', 'dlf7'))\n",
    "print(re.search('[0-9]+$', 'dlf7564'))\n",
    "print(re.search('[0-9]+$', 'dlf7564abd'))\n",
    "\n",
    "print(re.search(\"[*]+\",\"100 ** 2\")) # *이 1개 이상 있는지 판단\n",
    "#메타문자:정규표현식에 사용되는 특별한 의미의 특수문자\n",
    "#*, (, ), [, ], {, } ...등"
   ]
  },
  {
   "cell_type": "code",
   "execution_count": 201,
   "metadata": {
    "scrolled": true
   },
   "outputs": [
    {
     "name": "stdout",
     "output_type": "stream",
     "text": [
      "<re.Match object; span=(0, 6), match='10 200'>\n",
      "<re.Match object; span=(0, 6), match='10 200'>\n",
      "<re.Match object; span=(0, 6), match='10 200'>\n",
      "<re.Match object; span=(0, 6), match='10 200'>\n"
     ]
    },
    {
     "data": {
      "text/plain": [
       "('10', '200')"
      ]
     },
     "execution_count": 201,
     "metadata": {},
     "output_type": "execute_result"
    }
   ],
   "source": [
    "#\"숫자 숫자\"\n",
    "print(re.match('[0-9 ]+', \"10 200\"))\n",
    "print(re.match('[0-9]+ [0-9]+', \"10 200\"))\n",
    "print(re.match('[0-9]+\\s[0-9]+', \"10 200\"))\n",
    "\n",
    "print(re.match('([0-9]+) ([0-9]+)', \"10 200\"))\n",
    "res=re.match('([0-9]+) ([0-9]+)', \"011 1234\")\n",
    "#res.group(2)\n",
    "res.groups()"
   ]
  },
  {
   "cell_type": "code",
   "execution_count": 207,
   "metadata": {},
   "outputs": [
    {
     "data": {
      "text/plain": [
       "'010'"
      ]
     },
     "execution_count": 207,
     "metadata": {},
     "output_type": "execute_result"
    }
   ],
   "source": [
    "res=re.match('(?P<ln>[0-9]+) (?P<sn>[0-9]+) (?P<tn>[0-9]+)', \"010 1234 5678\")\n",
    "res.group(3)\n",
    "res.group('ln')"
   ]
  },
  {
   "cell_type": "code",
   "execution_count": 208,
   "metadata": {},
   "outputs": [
    {
     "data": {
      "text/plain": [
       "['1', '2', '3', '4', '5', '67']"
      ]
     },
     "execution_count": 208,
     "metadata": {},
     "output_type": "execute_result"
    }
   ],
   "source": [
    "\"1 2 abc 3 abc 4 5 abc 67\" #1,2,3,4,5,67 추출(길이 1이상 모든 숫자)\n",
    "re.findall(\"[0-9]+\",\"1 2 abc 3 abc 4 5 abc 67\")    "
   ]
  },
  {
   "cell_type": "code",
   "execution_count": 217,
   "metadata": {},
   "outputs": [
    {
     "name": "stdout",
     "output_type": "stream",
     "text": [
      "<re.Match object; span=(0, 11), match='hello.world'>\n",
      "<re.Match object; span=(0, 5), match='hello'>\n",
      "<re.Match object; span=(0, 5), match='hello'>\n"
     ]
    }
   ],
   "source": [
    "# hello.world (o)\n",
    "# hello.1234 (x)\n",
    "# hello (o)\n",
    "#문자열.문자열\n",
    "#문자열\n",
    "#문자열.\n",
    "print(re.match())\n",
    "print(re.match())\n",
    "print(re.match())\n",
    "#re.match(, \"hello.1234\")\n",
    "#re.match(, \"hello\")\n"
   ]
  },
  {
   "cell_type": "code",
   "execution_count": 231,
   "metadata": {},
   "outputs": [
    {
     "name": "stdout",
     "output_type": "stream",
     "text": [
      "<re.Match object; span=(0, 11), match='hello.world'>\n",
      "<re.Match object; span=(0, 5), match='hello'>\n",
      "<re.Match object; span=(0, 5), match='hello'>\n"
     ]
    }
   ],
   "source": [
    "print(re.match('\\w+[.]?[a-zA-Z]+',\"hello.world\"))\n",
    "print(re.match('\\w+[.]?[a-zA-Z]+',\"hello.123\"))\n",
    "print(re.match('\\w+[.]?[a-zA-Z]+',\"hello\"))\n"
   ]
  },
  {
   "cell_type": "code",
   "execution_count": 228,
   "metadata": {},
   "outputs": [
    {
     "name": "stdout",
     "output_type": "stream",
     "text": [
      "<re.Match object; span=(0, 11), match='hello.world'>\n",
      "None\n",
      "<re.Match object; span=(0, 5), match='hello'>\n",
      "<re.Match object; span=(0, 6), match='hello.'>\n"
     ]
    }
   ],
   "source": [
    "print(re.match(\"[a-zA-Z]+[.]*[a-zA-Z]*$\", \"hello.world\"))\n",
    "print(re.match(\"[a-zA-Z]+[.]*[a-zA-Z]*$\", \"hello.123\"))\n",
    "print(re.match(\"[a-zA-Z]+[.]*[a-zA-Z]*$\", \"hello\"))\n",
    "print(re.match(\"[a-zA-Z]+[.]*[a-zA-Z]*$\", \"hello.\"))"
   ]
  },
  {
   "cell_type": "code",
   "execution_count": 245,
   "metadata": {
    "scrolled": true
   },
   "outputs": [
    {
     "data": {
      "text/plain": [
       "'sdfjlksdf sfd'"
      ]
     },
     "execution_count": 245,
     "metadata": {},
     "output_type": "execute_result"
    }
   ],
   "source": [
    "\"asfd\".capitalize()\n",
    "\"asfd asfd\".count('f')\n",
    "\"asfd asfd\".startswith(\"as\")\n",
    "\"asfd asfd\".endswith(\"fd\")\n",
    "\"asfd asfd\".find(\"s\")\n",
    "\"asdfdf asfd\".index(\"asfd\")\n",
    "\"asdfdf asfd\".isalpha()\n",
    "\"asdfdfasfd\".isalpha()\n",
    "\"222\".isdecimal()\n",
    "\"I am 23\".isalnum()\n",
    "\"Iam23\".isalnum()\n",
    "\" sdfjlksdf sfd \".strip()"
   ]
  },
  {
   "cell_type": "code",
   "execution_count": 250,
   "metadata": {},
   "outputs": [],
   "source": [
    "df=pd.DataFrame({'a':[1,2,3], 'b':[2,3,4]})\n",
    "df\n",
    "def mysq(x):\n",
    "    return x**2\n",
    "def myexp(x,n):\n",
    "    return x**n"
   ]
  },
  {
   "cell_type": "code",
   "execution_count": 253,
   "metadata": {},
   "outputs": [
    {
     "data": {
      "text/plain": [
       "0     8\n",
       "1    27\n",
       "2    64\n",
       "Name: b, dtype: int64"
      ]
     },
     "execution_count": 253,
     "metadata": {},
     "output_type": "execute_result"
    }
   ],
   "source": [
    "res=df['a'].apply(mysq)\n",
    "res\n",
    "df['b'].apply(myexp, n=3)"
   ]
  },
  {
   "cell_type": "code",
   "execution_count": 256,
   "metadata": {},
   "outputs": [],
   "source": [
    "df\n",
    "def prn(x):\n",
    "    print(x)"
   ]
  },
  {
   "cell_type": "code",
   "execution_count": 259,
   "metadata": {},
   "outputs": [
    {
     "name": "stdout",
     "output_type": "stream",
     "text": [
      "0    1\n",
      "1    2\n",
      "2    3\n",
      "Name: a, dtype: int64\n",
      "0    2\n",
      "1    3\n",
      "2    4\n",
      "Name: b, dtype: int64\n"
     ]
    },
    {
     "data": {
      "text/plain": [
       "a    None\n",
       "b    None\n",
       "dtype: object"
      ]
     },
     "execution_count": 259,
     "metadata": {},
     "output_type": "execute_result"
    }
   ],
   "source": [
    "df.apply(prn, axis=0)"
   ]
  },
  {
   "cell_type": "code",
   "execution_count": 260,
   "metadata": {},
   "outputs": [],
   "source": [
    "import seaborn as sns\n",
    "titanic=sns.load_dataset(\"titanic\")"
   ]
  },
  {
   "cell_type": "code",
   "execution_count": 261,
   "metadata": {},
   "outputs": [
    {
     "name": "stdout",
     "output_type": "stream",
     "text": [
      "<class 'pandas.core.frame.DataFrame'>\n",
      "RangeIndex: 891 entries, 0 to 890\n",
      "Data columns (total 15 columns):\n",
      "survived       891 non-null int64\n",
      "pclass         891 non-null int64\n",
      "sex            891 non-null object\n",
      "age            714 non-null float64\n",
      "sibsp          891 non-null int64\n",
      "parch          891 non-null int64\n",
      "fare           891 non-null float64\n",
      "embarked       889 non-null object\n",
      "class          891 non-null category\n",
      "who            891 non-null object\n",
      "adult_male     891 non-null bool\n",
      "deck           203 non-null category\n",
      "embark_town    889 non-null object\n",
      "alive          891 non-null object\n",
      "alone          891 non-null bool\n",
      "dtypes: bool(2), category(2), float64(2), int64(4), object(5)\n",
      "memory usage: 80.6+ KB\n"
     ]
    }
   ],
   "source": [
    "titanic.info()"
   ]
  },
  {
   "cell_type": "code",
   "execution_count": 288,
   "metadata": {},
   "outputs": [],
   "source": [
    "#각 컬럼 단위로 결측값의 개수를 출력\n",
    "def count_missing(data):\n",
    "    null_data=pd.isnull(data)\n",
    "    null_count=np.sum(null_data)\n",
    "    return null_count #결측값의 개수 리턴\n",
    "\n",
    "#각 컬럼 단위로 결측값의 비율 출력\n",
    "def prop_missing(data):\n",
    "    #print(data)\n",
    "    n=count_missing(data)    \n",
    "    return n/data.size\n",
    "    "
   ]
  },
  {
   "cell_type": "code",
   "execution_count": 285,
   "metadata": {},
   "outputs": [
    {
     "data": {
      "text/plain": [
       "survived         0\n",
       "pclass           0\n",
       "sex              0\n",
       "age            177\n",
       "sibsp            0\n",
       "parch            0\n",
       "fare             0\n",
       "embarked         2\n",
       "class            0\n",
       "who              0\n",
       "adult_male       0\n",
       "deck           688\n",
       "embark_town      2\n",
       "alive            0\n",
       "alone            0\n",
       "dtype: int64"
      ]
     },
     "execution_count": 285,
     "metadata": {},
     "output_type": "execute_result"
    }
   ],
   "source": [
    "cmis_col=titanic.apply(count_missing)\n",
    "cmis_col"
   ]
  },
  {
   "cell_type": "code",
   "execution_count": 286,
   "metadata": {},
   "outputs": [
    {
     "name": "stdout",
     "output_type": "stream",
     "text": [
      "<class 'pandas.core.frame.DataFrame'>\n",
      "RangeIndex: 891 entries, 0 to 890\n",
      "Data columns (total 15 columns):\n",
      "survived       891 non-null int64\n",
      "pclass         891 non-null int64\n",
      "sex            891 non-null object\n",
      "age            714 non-null float64\n",
      "sibsp          891 non-null int64\n",
      "parch          891 non-null int64\n",
      "fare           891 non-null float64\n",
      "embarked       889 non-null object\n",
      "class          891 non-null category\n",
      "who            891 non-null object\n",
      "adult_male     891 non-null bool\n",
      "deck           203 non-null category\n",
      "embark_town    889 non-null object\n",
      "alive          891 non-null object\n",
      "alone          891 non-null bool\n",
      "dtypes: bool(2), category(2), float64(2), int64(4), object(5)\n",
      "memory usage: 80.6+ KB\n"
     ]
    }
   ],
   "source": [
    "titanic.info()"
   ]
  },
  {
   "cell_type": "code",
   "execution_count": 287,
   "metadata": {},
   "outputs": [
    {
     "name": "stdout",
     "output_type": "stream",
     "text": [
      "891\n",
      "891\n",
      "891\n",
      "891\n",
      "891\n",
      "891\n",
      "891\n",
      "891\n",
      "891\n",
      "891\n",
      "891\n",
      "891\n",
      "891\n",
      "891\n",
      "891\n",
      "survived       None\n",
      "pclass         None\n",
      "sex            None\n",
      "age            None\n",
      "sibsp          None\n",
      "parch          None\n",
      "fare           None\n",
      "embarked       None\n",
      "class          None\n",
      "who            None\n",
      "adult_male     None\n",
      "deck           None\n",
      "embark_town    None\n",
      "alive          None\n",
      "alone          None\n",
      "dtype: object\n"
     ]
    }
   ],
   "source": [
    "print(titanic.apply(prop_missing))"
   ]
  },
  {
   "cell_type": "code",
   "execution_count": 290,
   "metadata": {},
   "outputs": [
    {
     "data": {
      "text/html": [
       "<div>\n",
       "<style scoped>\n",
       "    .dataframe tbody tr th:only-of-type {\n",
       "        vertical-align: middle;\n",
       "    }\n",
       "\n",
       "    .dataframe tbody tr th {\n",
       "        vertical-align: top;\n",
       "    }\n",
       "\n",
       "    .dataframe thead th {\n",
       "        text-align: right;\n",
       "    }\n",
       "</style>\n",
       "<table border=\"1\" class=\"dataframe\">\n",
       "  <thead>\n",
       "    <tr style=\"text-align: right;\">\n",
       "      <th></th>\n",
       "      <th>survived</th>\n",
       "      <th>pclass</th>\n",
       "      <th>sex</th>\n",
       "      <th>age</th>\n",
       "      <th>sibsp</th>\n",
       "      <th>parch</th>\n",
       "      <th>fare</th>\n",
       "      <th>embarked</th>\n",
       "      <th>class</th>\n",
       "      <th>who</th>\n",
       "      <th>adult_male</th>\n",
       "      <th>deck</th>\n",
       "      <th>embark_town</th>\n",
       "      <th>alive</th>\n",
       "      <th>alone</th>\n",
       "    </tr>\n",
       "  </thead>\n",
       "  <tbody>\n",
       "    <tr>\n",
       "      <th>0</th>\n",
       "      <td>0</td>\n",
       "      <td>3</td>\n",
       "      <td>male</td>\n",
       "      <td>22.0</td>\n",
       "      <td>1</td>\n",
       "      <td>0</td>\n",
       "      <td>7.2500</td>\n",
       "      <td>S</td>\n",
       "      <td>Third</td>\n",
       "      <td>man</td>\n",
       "      <td>True</td>\n",
       "      <td>NaN</td>\n",
       "      <td>Southampton</td>\n",
       "      <td>no</td>\n",
       "      <td>False</td>\n",
       "    </tr>\n",
       "    <tr>\n",
       "      <th>1</th>\n",
       "      <td>1</td>\n",
       "      <td>1</td>\n",
       "      <td>female</td>\n",
       "      <td>38.0</td>\n",
       "      <td>1</td>\n",
       "      <td>0</td>\n",
       "      <td>71.2833</td>\n",
       "      <td>C</td>\n",
       "      <td>First</td>\n",
       "      <td>woman</td>\n",
       "      <td>False</td>\n",
       "      <td>C</td>\n",
       "      <td>Cherbourg</td>\n",
       "      <td>yes</td>\n",
       "      <td>False</td>\n",
       "    </tr>\n",
       "    <tr>\n",
       "      <th>2</th>\n",
       "      <td>1</td>\n",
       "      <td>3</td>\n",
       "      <td>female</td>\n",
       "      <td>26.0</td>\n",
       "      <td>0</td>\n",
       "      <td>0</td>\n",
       "      <td>7.9250</td>\n",
       "      <td>S</td>\n",
       "      <td>Third</td>\n",
       "      <td>woman</td>\n",
       "      <td>False</td>\n",
       "      <td>NaN</td>\n",
       "      <td>Southampton</td>\n",
       "      <td>yes</td>\n",
       "      <td>True</td>\n",
       "    </tr>\n",
       "    <tr>\n",
       "      <th>3</th>\n",
       "      <td>1</td>\n",
       "      <td>1</td>\n",
       "      <td>female</td>\n",
       "      <td>35.0</td>\n",
       "      <td>1</td>\n",
       "      <td>0</td>\n",
       "      <td>53.1000</td>\n",
       "      <td>S</td>\n",
       "      <td>First</td>\n",
       "      <td>woman</td>\n",
       "      <td>False</td>\n",
       "      <td>C</td>\n",
       "      <td>Southampton</td>\n",
       "      <td>yes</td>\n",
       "      <td>False</td>\n",
       "    </tr>\n",
       "    <tr>\n",
       "      <th>4</th>\n",
       "      <td>0</td>\n",
       "      <td>3</td>\n",
       "      <td>male</td>\n",
       "      <td>35.0</td>\n",
       "      <td>0</td>\n",
       "      <td>0</td>\n",
       "      <td>8.0500</td>\n",
       "      <td>S</td>\n",
       "      <td>Third</td>\n",
       "      <td>man</td>\n",
       "      <td>True</td>\n",
       "      <td>NaN</td>\n",
       "      <td>Southampton</td>\n",
       "      <td>no</td>\n",
       "      <td>True</td>\n",
       "    </tr>\n",
       "  </tbody>\n",
       "</table>\n",
       "</div>"
      ],
      "text/plain": [
       "   survived  pclass     sex   age  sibsp  parch     fare embarked  class  \\\n",
       "0         0       3    male  22.0      1      0   7.2500        S  Third   \n",
       "1         1       1  female  38.0      1      0  71.2833        C  First   \n",
       "2         1       3  female  26.0      0      0   7.9250        S  Third   \n",
       "3         1       1  female  35.0      1      0  53.1000        S  First   \n",
       "4         0       3    male  35.0      0      0   8.0500        S  Third   \n",
       "\n",
       "     who  adult_male deck  embark_town alive  alone  \n",
       "0    man        True  NaN  Southampton    no  False  \n",
       "1  woman       False    C    Cherbourg   yes  False  \n",
       "2  woman       False  NaN  Southampton   yes   True  \n",
       "3  woman       False    C  Southampton   yes  False  \n",
       "4    man        True  NaN  Southampton    no   True  "
      ]
     },
     "execution_count": 290,
     "metadata": {},
     "output_type": "execute_result"
    }
   ],
   "source": [
    "titanic.head()"
   ]
  },
  {
   "cell_type": "code",
   "execution_count": 295,
   "metadata": {},
   "outputs": [
    {
     "name": "stdout",
     "output_type": "stream",
     "text": [
      "0      1\n",
      "1      0\n",
      "2      1\n",
      "3      0\n",
      "4      1\n",
      "5      2\n",
      "6      0\n",
      "7      1\n",
      "8      1\n",
      "9      1\n",
      "10     0\n",
      "11     0\n",
      "12     1\n",
      "13     1\n",
      "14     1\n",
      "15     1\n",
      "16     1\n",
      "17     2\n",
      "18     1\n",
      "19     2\n",
      "20     1\n",
      "21     0\n",
      "22     1\n",
      "23     0\n",
      "24     1\n",
      "25     1\n",
      "26     2\n",
      "27     0\n",
      "28     2\n",
      "29     2\n",
      "      ..\n",
      "861    1\n",
      "862    0\n",
      "863    2\n",
      "864    1\n",
      "865    1\n",
      "866    1\n",
      "867    0\n",
      "868    2\n",
      "869    1\n",
      "870    1\n",
      "871    0\n",
      "872    0\n",
      "873    1\n",
      "874    1\n",
      "875    1\n",
      "876    1\n",
      "877    1\n",
      "878    2\n",
      "879    0\n",
      "880    1\n",
      "881    1\n",
      "882    1\n",
      "883    1\n",
      "884    1\n",
      "885    1\n",
      "886    1\n",
      "887    0\n",
      "888    2\n",
      "889    0\n",
      "890    1\n",
      "Length: 891, dtype: int64\n",
      "   survived  pclass     sex   age  sibsp  parch     fare embarked  class  \\\n",
      "0         0       3    male  22.0      1      0   7.2500        S  Third   \n",
      "1         1       1  female  38.0      1      0  71.2833        C  First   \n",
      "2         1       3  female  26.0      0      0   7.9250        S  Third   \n",
      "3         1       1  female  35.0      1      0  53.1000        S  First   \n",
      "4         0       3    male  35.0      0      0   8.0500        S  Third   \n",
      "\n",
      "     who  adult_male deck  embark_town alive  alone num_missing  \n",
      "0    man        True  NaN  Southampton    no  False        None  \n",
      "1  woman       False    C    Cherbourg   yes  False        None  \n",
      "2  woman       False  NaN  Southampton   yes   True        None  \n",
      "3  woman       False    C  Southampton   yes  False        None  \n",
      "4    man        True  NaN  Southampton    no   True        None  \n"
     ]
    }
   ],
   "source": [
    "titanic['num_missing']=print(titanic.apply(count_missing, axis=1))\n",
    "#print(titanic.apply(prop_missing, axis=1))\n",
    "print(titanic.head())"
   ]
  },
  {
   "cell_type": "code",
   "execution_count": 300,
   "metadata": {},
   "outputs": [
    {
     "data": {
      "text/plain": [
       "array([1952, 1957, 1962, 1967, 1972, 1977, 1982, 1987, 1992, 1997, 2002,\n",
       "       2007], dtype=int64)"
      ]
     },
     "execution_count": 300,
     "metadata": {},
     "output_type": "execute_result"
    }
   ],
   "source": [
    "df=pd.read_csv(\"data/gapminder.tsv\",sep=\"\\t\")\n",
    "df\n",
    "df.groupby('year').lifeExp.mean()\n",
    "df.year.unique()"
   ]
  },
  {
   "cell_type": "code",
   "execution_count": 307,
   "metadata": {},
   "outputs": [],
   "source": [
    "#1952년 데이터 출력\n",
    "y1952=df[df.year==1952]\n",
    "y1952\n",
    "y1952_mean=y1952.lifeExp.mean()"
   ]
  },
  {
   "cell_type": "code",
   "execution_count": 320,
   "metadata": {},
   "outputs": [],
   "source": [
    "#df.groupby('year').lifeExp.mean()\n",
    "df.groupby('year').lifeExp.agg(np.mean)\n",
    "df.groupby('year').lifeExp.agg(np.max)\n",
    "df.groupby('year').lifeExp.agg(np.size)\n",
    "def myMean(v):\n",
    "    n=len(v)\n",
    "    sum=0\n",
    "    for val in v:\n",
    "        sum+=val\n",
    "    return sum/n"
   ]
  },
  {
   "cell_type": "code",
   "execution_count": 321,
   "metadata": {},
   "outputs": [
    {
     "data": {
      "text/plain": [
       "year\n",
       "1952    49.057620\n",
       "1957    51.507401\n",
       "1962    53.609249\n",
       "1967    55.678290\n",
       "1972    57.647386\n",
       "1977    59.570157\n",
       "1982    61.533197\n",
       "1987    63.212613\n",
       "1992    64.160338\n",
       "1997    65.014676\n",
       "2002    65.694923\n",
       "2007    67.007423\n",
       "Name: lifeExp, dtype: float64"
      ]
     },
     "execution_count": 321,
     "metadata": {},
     "output_type": "execute_result"
    }
   ],
   "source": [
    "df.groupby('year').lifeExp.agg(myMean)"
   ]
  },
  {
   "cell_type": "code",
   "execution_count": 323,
   "metadata": {},
   "outputs": [],
   "source": [
    "gm=df.lifeExp.mean() #59"
   ]
  },
  {
   "cell_type": "code",
   "execution_count": null,
   "metadata": {},
   "outputs": [],
   "source": [
    "#1952 -10\n",
    "#1957 -8\n",
    "#...\n",
    "#2007 8"
   ]
  },
  {
   "cell_type": "code",
   "execution_count": 337,
   "metadata": {},
   "outputs": [],
   "source": [
    "def mean_diff(data, v):\n",
    "    n=len(data)\n",
    "    sum=0\n",
    "    for value in data:\n",
    "        sum+=value\n",
    "    mymean=sum/n\n",
    "    return mymean-v"
   ]
  },
  {
   "cell_type": "code",
   "execution_count": 338,
   "metadata": {},
   "outputs": [
    {
     "name": "stdout",
     "output_type": "stream",
     "text": [
      "year\n",
      "1952   -10.416820\n",
      "1957    -7.967038\n",
      "1962    -5.865190\n",
      "1967    -3.796150\n",
      "1972    -1.827053\n",
      "1977     0.095718\n",
      "1982     2.058758\n",
      "1987     3.738173\n",
      "1992     4.685899\n",
      "1997     5.540237\n",
      "2002     6.220483\n",
      "2007     7.532983\n",
      "Name: lifeExp, dtype: float64\n"
     ]
    }
   ],
   "source": [
    "print(df.groupby('year').lifeExp.agg(mean_diff,v=gm))"
   ]
  },
  {
   "cell_type": "code",
   "execution_count": 342,
   "metadata": {},
   "outputs": [
    {
     "data": {
      "text/html": [
       "<div>\n",
       "<style scoped>\n",
       "    .dataframe tbody tr th:only-of-type {\n",
       "        vertical-align: middle;\n",
       "    }\n",
       "\n",
       "    .dataframe tbody tr th {\n",
       "        vertical-align: top;\n",
       "    }\n",
       "\n",
       "    .dataframe thead th {\n",
       "        text-align: right;\n",
       "    }\n",
       "</style>\n",
       "<table border=\"1\" class=\"dataframe\">\n",
       "  <thead>\n",
       "    <tr style=\"text-align: right;\">\n",
       "      <th></th>\n",
       "      <th>std</th>\n",
       "      <th>mean</th>\n",
       "      <th>count_nonzero</th>\n",
       "    </tr>\n",
       "    <tr>\n",
       "      <th>year</th>\n",
       "      <th></th>\n",
       "      <th></th>\n",
       "      <th></th>\n",
       "    </tr>\n",
       "  </thead>\n",
       "  <tbody>\n",
       "    <tr>\n",
       "      <th>1952</th>\n",
       "      <td>12.225956</td>\n",
       "      <td>49.057620</td>\n",
       "      <td>142.0</td>\n",
       "    </tr>\n",
       "    <tr>\n",
       "      <th>1957</th>\n",
       "      <td>12.231286</td>\n",
       "      <td>51.507401</td>\n",
       "      <td>142.0</td>\n",
       "    </tr>\n",
       "    <tr>\n",
       "      <th>1962</th>\n",
       "      <td>12.097245</td>\n",
       "      <td>53.609249</td>\n",
       "      <td>142.0</td>\n",
       "    </tr>\n",
       "    <tr>\n",
       "      <th>1967</th>\n",
       "      <td>11.718858</td>\n",
       "      <td>55.678290</td>\n",
       "      <td>142.0</td>\n",
       "    </tr>\n",
       "    <tr>\n",
       "      <th>1972</th>\n",
       "      <td>11.381953</td>\n",
       "      <td>57.647386</td>\n",
       "      <td>142.0</td>\n",
       "    </tr>\n",
       "    <tr>\n",
       "      <th>1977</th>\n",
       "      <td>11.227229</td>\n",
       "      <td>59.570157</td>\n",
       "      <td>142.0</td>\n",
       "    </tr>\n",
       "    <tr>\n",
       "      <th>1982</th>\n",
       "      <td>10.770618</td>\n",
       "      <td>61.533197</td>\n",
       "      <td>142.0</td>\n",
       "    </tr>\n",
       "    <tr>\n",
       "      <th>1987</th>\n",
       "      <td>10.556285</td>\n",
       "      <td>63.212613</td>\n",
       "      <td>142.0</td>\n",
       "    </tr>\n",
       "    <tr>\n",
       "      <th>1992</th>\n",
       "      <td>11.227380</td>\n",
       "      <td>64.160338</td>\n",
       "      <td>142.0</td>\n",
       "    </tr>\n",
       "    <tr>\n",
       "      <th>1997</th>\n",
       "      <td>11.559439</td>\n",
       "      <td>65.014676</td>\n",
       "      <td>142.0</td>\n",
       "    </tr>\n",
       "    <tr>\n",
       "      <th>2002</th>\n",
       "      <td>12.279823</td>\n",
       "      <td>65.694923</td>\n",
       "      <td>142.0</td>\n",
       "    </tr>\n",
       "    <tr>\n",
       "      <th>2007</th>\n",
       "      <td>12.073021</td>\n",
       "      <td>67.007423</td>\n",
       "      <td>142.0</td>\n",
       "    </tr>\n",
       "  </tbody>\n",
       "</table>\n",
       "</div>"
      ],
      "text/plain": [
       "            std       mean  count_nonzero\n",
       "year                                     \n",
       "1952  12.225956  49.057620          142.0\n",
       "1957  12.231286  51.507401          142.0\n",
       "1962  12.097245  53.609249          142.0\n",
       "1967  11.718858  55.678290          142.0\n",
       "1972  11.381953  57.647386          142.0\n",
       "1977  11.227229  59.570157          142.0\n",
       "1982  10.770618  61.533197          142.0\n",
       "1987  10.556285  63.212613          142.0\n",
       "1992  11.227380  64.160338          142.0\n",
       "1997  11.559439  65.014676          142.0\n",
       "2002  12.279823  65.694923          142.0\n",
       "2007  12.073021  67.007423          142.0"
      ]
     },
     "execution_count": 342,
     "metadata": {},
     "output_type": "execute_result"
    }
   ],
   "source": [
    "df.groupby('year').lifeExp.agg([np.std,np.mean,np.count_nonzero])\n"
   ]
  },
  {
   "cell_type": "code",
   "execution_count": 343,
   "metadata": {},
   "outputs": [
    {
     "name": "stderr",
     "output_type": "stream",
     "text": [
      "C:\\Users\\user\\Anaconda3\\lib\\site-packages\\ipykernel_launcher.py:1: FutureWarning: using a dict on a Series for aggregation\n",
      "is deprecated and will be removed in a future version\n",
      "  \"\"\"Entry point for launching an IPython kernel.\n"
     ]
    },
    {
     "data": {
      "text/html": [
       "<div>\n",
       "<style scoped>\n",
       "    .dataframe tbody tr th:only-of-type {\n",
       "        vertical-align: middle;\n",
       "    }\n",
       "\n",
       "    .dataframe tbody tr th {\n",
       "        vertical-align: top;\n",
       "    }\n",
       "\n",
       "    .dataframe thead th {\n",
       "        text-align: right;\n",
       "    }\n",
       "</style>\n",
       "<table border=\"1\" class=\"dataframe\">\n",
       "  <thead>\n",
       "    <tr style=\"text-align: right;\">\n",
       "      <th></th>\n",
       "      <th>lifeExp</th>\n",
       "      <th>gdp</th>\n",
       "    </tr>\n",
       "    <tr>\n",
       "      <th>year</th>\n",
       "      <th></th>\n",
       "      <th></th>\n",
       "    </tr>\n",
       "  </thead>\n",
       "  <tbody>\n",
       "    <tr>\n",
       "      <th>1952</th>\n",
       "      <td>12.225956</td>\n",
       "      <td>45.1355</td>\n",
       "    </tr>\n",
       "    <tr>\n",
       "      <th>1957</th>\n",
       "      <td>12.231286</td>\n",
       "      <td>48.3605</td>\n",
       "    </tr>\n",
       "    <tr>\n",
       "      <th>1962</th>\n",
       "      <td>12.097245</td>\n",
       "      <td>50.8810</td>\n",
       "    </tr>\n",
       "    <tr>\n",
       "      <th>1967</th>\n",
       "      <td>11.718858</td>\n",
       "      <td>53.8250</td>\n",
       "    </tr>\n",
       "    <tr>\n",
       "      <th>1972</th>\n",
       "      <td>11.381953</td>\n",
       "      <td>56.5300</td>\n",
       "    </tr>\n",
       "    <tr>\n",
       "      <th>1977</th>\n",
       "      <td>11.227229</td>\n",
       "      <td>59.6720</td>\n",
       "    </tr>\n",
       "    <tr>\n",
       "      <th>1982</th>\n",
       "      <td>10.770618</td>\n",
       "      <td>62.4415</td>\n",
       "    </tr>\n",
       "    <tr>\n",
       "      <th>1987</th>\n",
       "      <td>10.556285</td>\n",
       "      <td>65.8340</td>\n",
       "    </tr>\n",
       "    <tr>\n",
       "      <th>1992</th>\n",
       "      <td>11.227380</td>\n",
       "      <td>67.7030</td>\n",
       "    </tr>\n",
       "    <tr>\n",
       "      <th>1997</th>\n",
       "      <td>11.559439</td>\n",
       "      <td>69.3940</td>\n",
       "    </tr>\n",
       "    <tr>\n",
       "      <th>2002</th>\n",
       "      <td>12.279823</td>\n",
       "      <td>70.8255</td>\n",
       "    </tr>\n",
       "    <tr>\n",
       "      <th>2007</th>\n",
       "      <td>12.073021</td>\n",
       "      <td>71.9355</td>\n",
       "    </tr>\n",
       "  </tbody>\n",
       "</table>\n",
       "</div>"
      ],
      "text/plain": [
       "        lifeExp      gdp\n",
       "year                    \n",
       "1952  12.225956  45.1355\n",
       "1957  12.231286  48.3605\n",
       "1962  12.097245  50.8810\n",
       "1967  11.718858  53.8250\n",
       "1972  11.381953  56.5300\n",
       "1977  11.227229  59.6720\n",
       "1982  10.770618  62.4415\n",
       "1987  10.556285  65.8340\n",
       "1992  11.227380  67.7030\n",
       "1997  11.559439  69.3940\n",
       "2002  12.279823  70.8255\n",
       "2007  12.073021  71.9355"
      ]
     },
     "execution_count": 343,
     "metadata": {},
     "output_type": "execute_result"
    }
   ],
   "source": [
    "df.groupby('year').lifeExp.agg({'lifeExp':'std', 'gdp':'median'})"
   ]
  },
  {
   "cell_type": "code",
   "execution_count": 351,
   "metadata": {},
   "outputs": [],
   "source": [
    "def zscore(x):\n",
    "    return (x-x.mean()) / x.std()"
   ]
  },
  {
   "cell_type": "code",
   "execution_count": 352,
   "metadata": {},
   "outputs": [
    {
     "data": {
      "text/plain": [
       "0      -1.656854\n",
       "1      -1.731249\n",
       "2      -1.786543\n",
       "3      -1.848157\n",
       "4      -1.894173\n",
       "5      -1.882224\n",
       "6      -2.012809\n",
       "7      -2.121069\n",
       "8      -2.002813\n",
       "9      -2.011488\n",
       "10     -1.919077\n",
       "11     -1.919936\n",
       "12      0.504859\n",
       "13      0.635469\n",
       "14      0.926719\n",
       "15      0.899551\n",
       "16      0.882328\n",
       "17      0.833673\n",
       "18      0.825097\n",
       "19      0.832432\n",
       "20      0.660943\n",
       "21      0.686480\n",
       "22      0.810767\n",
       "23      0.779886\n",
       "24     -0.489174\n",
       "25     -0.476025\n",
       "26     -0.438633\n",
       "27     -0.364480\n",
       "28     -0.274943\n",
       "29     -0.138606\n",
       "          ...   \n",
       "1674   -1.153155\n",
       "1675   -0.974833\n",
       "1676   -0.762541\n",
       "1677   -0.605105\n",
       "1678   -0.438681\n",
       "1679   -0.356947\n",
       "1680   -0.574157\n",
       "1681   -0.607491\n",
       "1682   -0.627106\n",
       "1683   -0.675005\n",
       "1684   -0.662486\n",
       "1685   -0.728956\n",
       "1686   -0.901731\n",
       "1687   -1.173861\n",
       "1688   -1.608598\n",
       "1689   -2.143415\n",
       "1690   -2.158168\n",
       "1691   -2.039541\n",
       "1692   -0.049617\n",
       "1693   -0.084897\n",
       "1694   -0.103433\n",
       "1695   -0.143639\n",
       "1696   -0.176805\n",
       "1697   -0.168889\n",
       "1698   -0.108647\n",
       "1699   -0.081621\n",
       "1700   -0.336974\n",
       "1701   -1.574962\n",
       "1702   -2.093346\n",
       "1703   -1.948180\n",
       "Name: lifeExp, Length: 1704, dtype: float64"
      ]
     },
     "execution_count": 352,
     "metadata": {},
     "output_type": "execute_result"
    }
   ],
   "source": [
    "df.groupby('year').lifeExp.transform(zscore)"
   ]
  },
  {
   "cell_type": "code",
   "execution_count": 356,
   "metadata": {
    "scrolled": true
   },
   "outputs": [
    {
     "name": "stdout",
     "output_type": "stream",
     "text": [
      "<class 'pandas.core.frame.DataFrame'>\n",
      "RangeIndex: 2000 entries, 0 to 1999\n",
      "Data columns (total 3 columns):\n",
      "name      2000 non-null object\n",
      "sex       2000 non-null object\n",
      "births    2000 non-null int64\n",
      "dtypes: int64(1), object(2)\n",
      "memory usage: 47.0+ KB\n"
     ]
    }
   ],
   "source": [
    "names1880=pd.read_csv(\"data/babynames/yob1880.txt\", \n",
    "                     names=['name', 'sex', 'births'])\n",
    "names1880\n",
    "names1880.shape\n",
    "names1880.info()"
   ]
  },
  {
   "cell_type": "code",
   "execution_count": 357,
   "metadata": {},
   "outputs": [
    {
     "data": {
      "text/plain": [
       "sex\n",
       "F     90993\n",
       "M    110493\n",
       "Name: births, dtype: int64"
      ]
     },
     "execution_count": 357,
     "metadata": {},
     "output_type": "execute_result"
    }
   ],
   "source": [
    "names1880.groupby('sex').births.sum()"
   ]
  },
  {
   "cell_type": "code",
   "execution_count": 366,
   "metadata": {
    "scrolled": false
   },
   "outputs": [
    {
     "data": {
      "text/plain": [
       "(1690784, 4)"
      ]
     },
     "execution_count": 366,
     "metadata": {},
     "output_type": "execute_result"
    }
   ],
   "source": [
    "years=range(1880, 2011)\n",
    "pieces=[]\n",
    "for year in years:\n",
    "    path=\"data/babynames/yob%d.txt\" % year\n",
    "    frame=pd.read_csv(path, names=['name', 'sex', 'births'])\n",
    "    frame['year']=year\n",
    "    pieces.append(frame)\n",
    "names=pd.concat(pieces, ignore_index=True)\n",
    "names.shape\n",
    "#len(pieces) #[frame,   ,   , ]\n",
    "    "
   ]
  },
  {
   "cell_type": "code",
   "execution_count": 371,
   "metadata": {},
   "outputs": [],
   "source": [
    "total_births=names.pivot_table('births', index='year', \n",
    "                  columns='sex', aggfunc=sum)\n",
    "#연도와 성별로 데이터를 재구성\n",
    "#각 연도별 성별에 따른 데이터의 개수(신생아 수)\n",
    "# sex            F            M\n",
    "# year\n",
    "# 1880         xxxx         xxxxx\n"
   ]
  },
  {
   "cell_type": "code",
   "execution_count": 373,
   "metadata": {},
   "outputs": [
    {
     "data": {
      "text/plain": [
       "<matplotlib.axes._subplots.AxesSubplot at 0x21d12ac2f98>"
      ]
     },
     "execution_count": 373,
     "metadata": {},
     "output_type": "execute_result"
    },
    {
     "data": {
      "image/png": "[encoded data removed]",
      "text/plain": [
       "<Figure size 432x288 with 1 Axes>"
      ]
     },
     "metadata": {
      "needs_background": "light"
     },
     "output_type": "display_data"
    }
   ],
   "source": [
    "total_births.plot()"
   ]
  },
  {
   "cell_type": "code",
   "execution_count": null,
   "metadata": {},
   "outputs": [],
   "source": []
  },
  {
   "cell_type": "code",
   "execution_count": null,
   "metadata": {},
   "outputs": [],
   "source": []
  },
  {
   "cell_type": "code",
   "execution_count": null,
   "metadata": {},
   "outputs": [],
   "source": []
  },
  {
   "cell_type": "code",
   "execution_count": null,
   "metadata": {},
   "outputs": [],
   "source": []
  },
  {
   "cell_type": "code",
   "execution_count": null,
   "metadata": {},
   "outputs": [],
   "source": []
  },
  {
   "cell_type": "code",
   "execution_count": null,
   "metadata": {},
   "outputs": [],
   "source": []
  },
  {
   "cell_type": "code",
   "execution_count": null,
   "metadata": {},
   "outputs": [],
   "source": []
  },
  {
   "cell_type": "code",
   "execution_count": null,
   "metadata": {},
   "outputs": [],
   "source": []
  }
 ],
 "metadata": {
  "kernelspec": {
   "display_name": "Python 3",
   "language": "python",
   "name": "python3"
  },
  "language_info": {
   "codemirror_mode": {
    "name": "ipython",
    "version": 3
   },
   "file_extension": ".py",
   "mimetype": "text/x-python",
   "name": "python",
   "nbconvert_exporter": "python",
   "pygments_lexer": "ipython3",
   "version": "3.7.3"
  }
 },
 "nbformat": 4,
 "nbformat_minor": 2
}
