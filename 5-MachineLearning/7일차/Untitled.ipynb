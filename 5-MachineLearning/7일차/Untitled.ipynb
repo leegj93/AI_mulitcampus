{
 "cells": [
  {
   "cell_type": "code",
   "execution_count": 1,
   "metadata": {},
   "outputs": [],
   "source": [
    "import pandas as pd # for using dataframe"
   ]
  },
  {
   "cell_type": "markdown",
   "metadata": {},
   "source": [
    "[예측 절차]\n",
    "\n",
    "1. 데이터 프레임 생성\n",
    "2. 예측해야할 데이터들 선정(데이터 프레임에서 np.nan인 값들 추출)\n",
    "3. 유사도 정의\n",
    "4. 예측하기"
   ]
  },
  {
   "cell_type": "code",
   "execution_count": 2,
   "metadata": {},
   "outputs": [],
   "source": [
    "critics = {\n",
    "    '조용필': {\n",
    "        '택시운전사': 2.5,\n",
    "        '겨울왕국': 3.5,\n",
    "        '리빙라스베가스': 3.0,\n",
    "        '넘버3': 3.5,\n",
    "        '사랑과전쟁': 2.5,\n",
    "        '세계대전': 3.0,\n",
    "    },\n",
    "    'BTS': {\n",
    "        '택시운전사': 1.0,\n",
    "        '겨울왕국': 4.5,\n",
    "        '리빙라스베가스': 0.5,\n",
    "        '넘버3': 1.5,\n",
    "        '사랑과전쟁': 4.5,\n",
    "        '세계대전': 5.0,\n",
    "    },\n",
    "    '강감찬': {\n",
    "        '택시운전사': 3.0,\n",
    "        '겨울왕국': 3.5,\n",
    "        '리빙라스베가스': 1.5,\n",
    "        '넘버3': 5.0,\n",
    "        '세계대전': 3.0,\n",
    "        '사랑과전쟁': 3.5,\n",
    "    },\n",
    "    '을지문덕': {\n",
    "        '택시운전사': 2.5,\n",
    "        '겨울왕국': 3.0,\n",
    "        '넘버3': 3.5,\n",
    "        '세계대전': 4.0,\n",
    "    },\n",
    "    '김유신': {\n",
    "        '겨울왕국': 3.5,\n",
    "        '리빙라스베가스': 3.0,\n",
    "        '세계대전': 4.5,\n",
    "        '넘버3': 4.0,\n",
    "        '사랑과전쟁': 2.5,\n",
    "    },\n",
    "    '유성룡': {\n",
    "        '택시운전사': 3.0,\n",
    "        '겨울왕국': 4.0,\n",
    "        '리빙라스베가스': 2.0,\n",
    "        '넘버3': 3.0,\n",
    "        '세계대전': 3.5,\n",
    "        '사랑과전쟁': 2.0,\n",
    "    },\n",
    "    '이황': {\n",
    "        '택시운전사': 3.0,\n",
    "        '겨울왕국': 4.0,\n",
    "        '세계대전': 3.0,\n",
    "        '넘버3': 5.0,\n",
    "        '사랑과전쟁': 3.5,\n",
    "    },\n",
    "    '이이': {'겨울왕국': 4.5, '사랑과전쟁': 1.0,\n",
    "             '넘버3': 4.0},\n",
    "}"
   ]
  },
  {
   "cell_type": "code",
   "execution_count": 3,
   "metadata": {},
   "outputs": [],
   "source": [
    "# 1. 데이터 프레임 생성\n",
    "df = pd.DataFrame(critics)"
   ]
  },
  {
   "cell_type": "code",
   "execution_count": 4,
   "metadata": {},
   "outputs": [
    {
     "data": {
      "text/html": [
       "<div>\n",
       "<style scoped>\n",
       "    .dataframe tbody tr th:only-of-type {\n",
       "        vertical-align: middle;\n",
       "    }\n",
       "\n",
       "    .dataframe tbody tr th {\n",
       "        vertical-align: top;\n",
       "    }\n",
       "\n",
       "    .dataframe thead th {\n",
       "        text-align: right;\n",
       "    }\n",
       "</style>\n",
       "<table border=\"1\" class=\"dataframe\">\n",
       "  <thead>\n",
       "    <tr style=\"text-align: right;\">\n",
       "      <th></th>\n",
       "      <th>조용필</th>\n",
       "      <th>BTS</th>\n",
       "      <th>강감찬</th>\n",
       "      <th>을지문덕</th>\n",
       "      <th>김유신</th>\n",
       "      <th>유성룡</th>\n",
       "      <th>이황</th>\n",
       "      <th>이이</th>\n",
       "    </tr>\n",
       "  </thead>\n",
       "  <tbody>\n",
       "    <tr>\n",
       "      <th>겨울왕국</th>\n",
       "      <td>3.5</td>\n",
       "      <td>4.5</td>\n",
       "      <td>3.5</td>\n",
       "      <td>3.0</td>\n",
       "      <td>3.5</td>\n",
       "      <td>4.0</td>\n",
       "      <td>4.0</td>\n",
       "      <td>4.5</td>\n",
       "    </tr>\n",
       "    <tr>\n",
       "      <th>넘버3</th>\n",
       "      <td>3.5</td>\n",
       "      <td>1.5</td>\n",
       "      <td>5.0</td>\n",
       "      <td>3.5</td>\n",
       "      <td>4.0</td>\n",
       "      <td>3.0</td>\n",
       "      <td>5.0</td>\n",
       "      <td>4.0</td>\n",
       "    </tr>\n",
       "    <tr>\n",
       "      <th>리빙라스베가스</th>\n",
       "      <td>3.0</td>\n",
       "      <td>0.5</td>\n",
       "      <td>1.5</td>\n",
       "      <td>NaN</td>\n",
       "      <td>3.0</td>\n",
       "      <td>2.0</td>\n",
       "      <td>NaN</td>\n",
       "      <td>NaN</td>\n",
       "    </tr>\n",
       "    <tr>\n",
       "      <th>사랑과전쟁</th>\n",
       "      <td>2.5</td>\n",
       "      <td>4.5</td>\n",
       "      <td>3.5</td>\n",
       "      <td>NaN</td>\n",
       "      <td>2.5</td>\n",
       "      <td>2.0</td>\n",
       "      <td>3.5</td>\n",
       "      <td>1.0</td>\n",
       "    </tr>\n",
       "    <tr>\n",
       "      <th>세계대전</th>\n",
       "      <td>3.0</td>\n",
       "      <td>5.0</td>\n",
       "      <td>3.0</td>\n",
       "      <td>4.0</td>\n",
       "      <td>4.5</td>\n",
       "      <td>3.5</td>\n",
       "      <td>3.0</td>\n",
       "      <td>NaN</td>\n",
       "    </tr>\n",
       "    <tr>\n",
       "      <th>택시운전사</th>\n",
       "      <td>2.5</td>\n",
       "      <td>1.0</td>\n",
       "      <td>3.0</td>\n",
       "      <td>2.5</td>\n",
       "      <td>NaN</td>\n",
       "      <td>3.0</td>\n",
       "      <td>3.0</td>\n",
       "      <td>NaN</td>\n",
       "    </tr>\n",
       "  </tbody>\n",
       "</table>\n",
       "</div>"
      ],
      "text/plain": [
       "         조용필  BTS  강감찬  을지문덕  김유신  유성룡   이황   이이\n",
       "겨울왕국     3.5  4.5  3.5   3.0  3.5  4.0  4.0  4.5\n",
       "넘버3      3.5  1.5  5.0   3.5  4.0  3.0  5.0  4.0\n",
       "리빙라스베가스  3.0  0.5  1.5   NaN  3.0  2.0  NaN  NaN\n",
       "사랑과전쟁    2.5  4.5  3.5   NaN  2.5  2.0  3.5  1.0\n",
       "세계대전     3.0  5.0  3.0   4.0  4.5  3.5  3.0  NaN\n",
       "택시운전사    2.5  1.0  3.0   2.5  NaN  3.0  3.0  NaN"
      ]
     },
     "execution_count": 4,
     "metadata": {},
     "output_type": "execute_result"
    }
   ],
   "source": [
    "df"
   ]
  },
  {
   "cell_type": "code",
   "execution_count": 5,
   "metadata": {},
   "outputs": [],
   "source": [
    "# 2. 예측해야할 데이터들 선정(데이터 프레임에서 np.nan인 값들 추출)\n",
    "lstNone = [] # 행, 열 기준\n",
    "for col in df.columns:\n",
    "    for row in df.index:\n",
    "        if df.loc[row, col].__str__() == 'nan':\n",
    "            lstNone.append((row, col))"
   ]
  },
  {
   "cell_type": "code",
   "execution_count": 6,
   "metadata": {},
   "outputs": [
    {
     "data": {
      "text/plain": [
       "[('리빙라스베가스', '을지문덕'),\n",
       " ('사랑과전쟁', '을지문덕'),\n",
       " ('택시운전사', '김유신'),\n",
       " ('리빙라스베가스', '이황'),\n",
       " ('리빙라스베가스', '이이'),\n",
       " ('세계대전', '이이'),\n",
       " ('택시운전사', '이이')]"
      ]
     },
     "execution_count": 6,
     "metadata": {},
     "output_type": "execute_result"
    }
   ],
   "source": [
    "lstNone"
   ]
  },
  {
   "cell_type": "code",
   "execution_count": 7,
   "metadata": {},
   "outputs": [],
   "source": [
    "# 3. 유사도 정의\n",
    "def sim_distance(df,user1, user2):\n",
    "    \"\"\"\n",
    "    입력\n",
    "      df: 영화에 대한 데이터 프레임, 행인덱스는 영화, 열인덱스는 사람으로 되어 있음\n",
    "      user1: 첫 번째 사람(str 타입)\n",
    "      user2: 두 번째 사람(str 타입)\n",
    "    출력\n",
    "      유클리디안 거리 기반으로 유사도 측정값을 반환\n",
    "    \"\"\"\n",
    "    s = df[user1] - df[user2]\n",
    "    s.dropna(inplace=True)\n",
    "    ans = s.apply(lambda x:x**2).sum()\n",
    "    return 1/(1+ans**0.5)"
   ]
  },
  {
   "cell_type": "code",
   "execution_count": 8,
   "metadata": {},
   "outputs": [],
   "source": [
    "# 4. 예측하기\n",
    "def predict(df, row, col):\n",
    "    \"\"\"\n",
    "    입력:\n",
    "      df: 영화에 대한 데이터 프레임, 행인덱스는 영화, 열인덱스는 사람으로 되어 있음\n",
    "      row: 예측하려는 영화 평점의 행 인덱스(영화)\n",
    "      col: 예측하려는 영화 평점의 열 인덱스(사람)\n",
    "    출력:\n",
    "      sum(col과 각 사람과의 유사도*각 사람의 영화 평점)/sum(col과 각 사람과의 유사도)\n",
    "    \"\"\"\n",
    "    pred = 0\n",
    "    simLst = []\n",
    "    for i_col in df.columns:\n",
    "        if (col == i_col) or (df.loc[row, i_col].__str__() == 'nan'):\n",
    "            continue\n",
    "        sim = sim_distance(df, col, i_col)\n",
    "        rate = df.loc[row, i_col]\n",
    "        pred += sim*rate\n",
    "        simLst.append(sim)\n",
    "    ans = pred/sum(simLst)\n",
    "    return ans"
   ]
  },
  {
   "cell_type": "code",
   "execution_count": 11,
   "metadata": {},
   "outputs": [],
   "source": [
    "ans = {}\n",
    "for cur in lstNone:\n",
    "    ans[cur] = predict(df, cur[0], cur[1])"
   ]
  },
  {
   "cell_type": "code",
   "execution_count": 12,
   "metadata": {},
   "outputs": [
    {
     "data": {
      "text/plain": [
       "{('리빙라스베가스', '을지문덕'): 2.2323640321235456,\n",
       " ('사랑과전쟁', '을지문덕'): 2.6297516115569564,\n",
       " ('택시운전사', '김유신'): 2.5907639312248794,\n",
       " ('리빙라스베가스', '이황'): 2.03440847815843,\n",
       " ('리빙라스베가스', '이이'): 2.1888145663244445,\n",
       " ('세계대전', '이이'): 3.6796317295600414,\n",
       " ('택시운전사', '이이'): 2.597239917149355}"
      ]
     },
     "execution_count": 12,
     "metadata": {},
     "output_type": "execute_result"
    }
   ],
   "source": [
    "ans"
   ]
  },
  {
   "cell_type": "code",
   "execution_count": 20,
   "metadata": {},
   "outputs": [],
   "source": [
    "d = {}\n",
    "for i in ans:\n",
    "    if d.get(i[1]):\n",
    "        if ans[i] > d[i[1]][1]:\n",
    "            d[i[1]] = i[0], ans[i]\n",
    "    else:\n",
    "        d[i[1]] = i[0], ans[i]"
   ]
  },
  {
   "cell_type": "code",
   "execution_count": 21,
   "metadata": {},
   "outputs": [
    {
     "data": {
      "text/plain": [
       "{'을지문덕': ('사랑과전쟁', 2.6297516115569564),\n",
       " '김유신': ('택시운전사', 2.5907639312248794),\n",
       " '이황': ('리빙라스베가스', 2.03440847815843),\n",
       " '이이': ('세계대전', 3.6796317295600414)}"
      ]
     },
     "execution_count": 21,
     "metadata": {},
     "output_type": "execute_result"
    }
   ],
   "source": [
    "d"
   ]
  },
  {
   "cell_type": "code",
   "execution_count": null,
   "metadata": {},
   "outputs": [],
   "source": []
  }
 ],
 "metadata": {
  "kernelspec": {
   "display_name": "Python 3",
   "language": "python",
   "name": "python3"
  },
  "language_info": {
   "codemirror_mode": {
    "name": "ipython",
    "version": 3
   },
   "file_extension": ".py",
   "mimetype": "text/x-python",
   "name": "python",
   "nbconvert_exporter": "python",
   "pygments_lexer": "ipython3",
   "version": "3.7.3"
  }
 },
 "nbformat": 4,
 "nbformat_minor": 2
}
