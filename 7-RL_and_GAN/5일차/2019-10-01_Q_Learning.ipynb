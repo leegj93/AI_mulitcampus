{
 "cells": [
  {
   "cell_type": "code",
   "execution_count": 1,
   "metadata": {},
   "outputs": [],
   "source": [
    "import gym\n",
    "import numpy as np\n",
    "import matplotlib.pyplot as plt"
   ]
  },
  {
   "cell_type": "code",
   "execution_count": 2,
   "metadata": {},
   "outputs": [],
   "source": [
    "env=gym.make('FrozenLake-v0')"
   ]
  },
  {
   "cell_type": "code",
   "execution_count": 7,
   "metadata": {},
   "outputs": [],
   "source": [
    "Q=np.zeros([env.observation_space.n,env.action_space.n])"
   ]
  },
  {
   "cell_type": "code",
   "execution_count": 8,
   "metadata": {},
   "outputs": [],
   "source": [
    "learning_rate=.85\n",
    "dis=.99 #gamma\n",
    "num_episodes=2000"
   ]
  },
  {
   "cell_type": "code",
   "execution_count": 12,
   "metadata": {},
   "outputs": [
    {
     "name": "stdout",
     "output_type": "stream",
     "text": [
      "0.676\n",
      "[[5.72598096e-01 2.06126779e-02 1.96876375e-02 3.08805337e-02]\n",
      " [1.52517687e-02 4.24025184e-04 4.38978769e-03 7.76732660e-01]\n",
      " [7.71479060e-03 6.27198328e-01 1.97851800e-03 1.82894794e-02]\n",
      " [3.71846248e-04 2.33338990e-03 2.13299374e-03 4.23357980e-01]\n",
      " [6.16336168e-01 2.38122686e-03 4.43331744e-03 4.41048594e-04]\n",
      " [0.00000000e+00 0.00000000e+00 0.00000000e+00 0.00000000e+00]\n",
      " [5.84032645e-02 8.30432928e-06 1.64067688e-04 2.86846018e-06]\n",
      " [0.00000000e+00 0.00000000e+00 0.00000000e+00 0.00000000e+00]\n",
      " [5.93418896e-05 5.67171341e-06 3.28096567e-03 4.10243087e-01]\n",
      " [1.19977201e-02 7.90324590e-01 0.00000000e+00 1.35559594e-02]\n",
      " [9.69529865e-01 2.56416710e-04 5.53296016e-04 0.00000000e+00]\n",
      " [0.00000000e+00 0.00000000e+00 0.00000000e+00 0.00000000e+00]\n",
      " [0.00000000e+00 0.00000000e+00 0.00000000e+00 0.00000000e+00]\n",
      " [0.00000000e+00 0.00000000e+00 8.84167468e-01 1.07291250e-01]\n",
      " [0.00000000e+00 9.99498034e-01 0.00000000e+00 0.00000000e+00]\n",
      " [0.00000000e+00 0.00000000e+00 0.00000000e+00 0.00000000e+00]]\n"
     ]
    },
    {
     "data": {
      "image/png": "[encoded data removed]",
      "text/plain": [
       "<Figure size 432x288 with 1 Axes>"
      ]
     },
     "metadata": {
      "needs_background": "light"
     },
     "output_type": "display_data"
    }
   ],
   "source": [
    "#a    b    c\n",
    "#0.5 0.7 0.3\n",
    "#0.1 0.0 0.7\n",
    "\n",
    "rList=[]\n",
    "for i in range(num_episodes):\n",
    "    state=env.reset()\n",
    "    rAll=0\n",
    "    done=False\n",
    "    while not done:\n",
    "        action=np.argmax(Q[state,:]+np.random.randn(1,env.action_space.n)/(i+1))\n",
    "        new_state, reward, done, _ =env.step(action)\n",
    "        Q[state,action]=(1-learning_rate)*Q[state,action]+learning_rate*(reward+dis*np.max(Q[new_state,:]))\n",
    "        rAll+=reward\n",
    "        state=new_state\n",
    "    rList.append(rAll)\n",
    "print(sum(rList)/num_episodes)        \n",
    "print(Q)\n",
    "plt.bar(range(len(rList)), rList, color='green')\n",
    "plt.show()\n",
    "        \n",
    "        \n",
    "        "
   ]
  },
  {
   "cell_type": "code",
   "execution_count": null,
   "metadata": {},
   "outputs": [],
   "source": []
  },
  {
   "cell_type": "code",
   "execution_count": 11,
   "metadata": {},
   "outputs": [
    {
     "data": {
      "text/plain": [
       "array([[ 0.38323178, -0.83246146, -1.03562412,  0.21742197]])"
      ]
     },
     "execution_count": 11,
     "metadata": {},
     "output_type": "execute_result"
    }
   ],
   "source": [
    "#np.random.randn(1,env.action_space.n)"
   ]
  },
  {
   "cell_type": "code",
   "execution_count": null,
   "metadata": {},
   "outputs": [],
   "source": []
  },
  {
   "cell_type": "code",
   "execution_count": 13,
   "metadata": {},
   "outputs": [],
   "source": [
    "import tensorflow as tf\n",
    "import tensorflow.contrib.slim as slim #tf-slim\n",
    "import numpy as np"
   ]
  },
  {
   "cell_type": "code",
   "execution_count": null,
   "metadata": {},
   "outputs": [],
   "source": [
    "#손잡이:4개, 밴딧(슬롯머신):3대\n",
    "#각각의 밴딧은 각각의 손잡이에 대해 서로 다른 성공 확률을 가지고 있음\n",
    "#최고의 결과를 얻어내기 위한 동작\n",
    "\n",
    "#에이전트가 슬롯머신에 대해 가장 자주 양의 보상을\n",
    "#주는 손잡이를 항상 선택하도록 하는 방법을 학습\n"
   ]
  },
  {
   "cell_type": "code",
   "execution_count": 42,
   "metadata": {},
   "outputs": [],
   "source": [
    "class contextual_bandit():#밴딧 클래스\n",
    "    def __init__(self): #태어나는 아기(객체)\n",
    "        self.state=0    #슬롯머신 상태,아기의 몸무게(속성)\n",
    "        self.bandits=np.array([[0.2,0,-0.1,-5],[0.1,-5,1,0.25],[-5,5,5,5]]) #슬롯머신(밴딧) 3대\n",
    "        self.num_bandits=self.bandits.shape[0]\n",
    "        self.num_actions=self.bandits.shape[1]\n",
    "    def getBandit(self):\n",
    "        self.state=np.random.randint(0,len(self.bandits))\n",
    "        return self.state\n",
    "    def pullArm(self, action):#action:레버(4개의 레버중에서 당긴 레버의 번호)\n",
    "        bandit=self.bandits[self.state, action]\n",
    "        result=np.random.randn(1)\n",
    "        if result>bandit:\n",
    "            return 1\n",
    "        else:\n",
    "            return -1"
   ]
  },
  {
   "cell_type": "code",
   "execution_count": 43,
   "metadata": {},
   "outputs": [],
   "source": [
    "class agent(): #에이전트\n",
    "    def __init__(self, lr, s_size, a_size):\n",
    "        #에이전트 초기화\n",
    "        self.state_in=tf.placeholder(shape=[1], dtype=tf.int32)\n",
    "        state_in_OH=slim.one_hot_encoding(self.state_in, s_size)\n",
    "        output=slim.fully_connected(state_in_OH, a_size, biases_initializer=None, activation_fn=tf.nn.sigmoid, weights_initializer=tf.ones_initializer())\n",
    "        self.output=tf.reshape(output,[-1])\n",
    "        self.chosen_action=tf.argmax(self.output,0)\n",
    "        \n",
    "        self.reward_holder=tf.placeholder(shape=[1], dtype=tf.float32)\n",
    "        self.action_holder=tf.placeholder(shape=[1], dtype=tf.int32)\n",
    "        self.responsible_weight=tf.slice(self.output,self.action_holder, [1])\n",
    "        self.loss=-(tf.log(self.responsible_weight)*self.reward_holder)\n",
    "        optimizer=tf.train.GradientDescentOptimizer(learning_rate=lr)\n",
    "        self.update=optimizer.minimize(self.loss)    "
   ]
  },
  {
   "cell_type": "code",
   "execution_count": 44,
   "metadata": {},
   "outputs": [
    {
     "name": "stderr",
     "output_type": "stream",
     "text": [
      "W1001 14:51:26.887183  8060 deprecation.py:323] From C:\\Users\\user\\Anaconda3\\lib\\site-packages\\tensorflow\\contrib\\layers\\python\\layers\\layers.py:2563: to_int64 (from tensorflow.python.ops.math_ops) is deprecated and will be removed in a future version.\n",
      "Instructions for updating:\n",
      "Use `tf.cast` instead.\n"
     ]
    },
    {
     "name": "stdout",
     "output_type": "stream",
     "text": [
      "각 보상의 평균 : 3 밴딧:[0.   0.   0.25]\n",
      "각 보상의 평균 : 3 밴딧:[33.   39.25 37.  ]\n",
      "각 보상의 평균 : 3 밴딧:[74.75 78.75 64.75]\n",
      "각 보상의 평균 : 3 밴딧:[108.   120.   103.75]\n",
      "각 보상의 평균 : 3 밴딧:[140.75 156.   145.5 ]\n",
      "각 보상의 평균 : 3 밴딧:[177.25 197.5  179.5 ]\n",
      "각 보상의 평균 : 3 밴딧:[215.5  235.25 213.  ]\n",
      "각 보상의 평균 : 3 밴딧:[258.25 270.75 246.75]\n",
      "각 보상의 평균 : 3 밴딧:[298.25 308.25 281.75]\n",
      "각 보상의 평균 : 3 밴딧:[337.25 345.75 313.75]\n",
      "각 보상의 평균 : 3 밴딧:[373.75 384.5  350.5 ]\n",
      "각 보상의 평균 : 3 밴딧:[410.25 426.5  386.  ]\n",
      "각 보상의 평균 : 3 밴딧:[447.75 461.   425.  ]\n",
      "각 보상의 평균 : 3 밴딧:[481.   497.75 458.  ]\n",
      "각 보상의 평균 : 3 밴딧:[519.5  535.   494.25]\n",
      "각 보상의 평균 : 3 밴딧:[561.25 575.5  525.5 ]\n",
      "각 보상의 평균 : 3 밴딧:[597.5  613.   565.25]\n",
      "각 보상의 평균 : 3 밴딧:[635.75 648.25 600.75]\n",
      "각 보상의 평균 : 3 밴딧:[676.   685.25 637.5 ]\n",
      "각 보상의 평균 : 3 밴딧:[714.25 721.25 675.75]\n"
     ]
    }
   ],
   "source": [
    "#학습\n",
    "tf.reset_default_graph()\n",
    "cBandit=contextual_bandit() #객체 생성\n",
    "myAgent=agent(lr=0.001,s_size=cBandit.num_bandits, a_size=cBandit.num_actions) #객체 생성\n",
    "weights=tf.trainable_variables()[0]\n",
    "\n",
    "total_episodes=10000\n",
    "total_reward=np.zeros([cBandit.num_bandits, cBandit.num_actions])\n",
    "e=0.1\n",
    "init=tf.global_variables_initializer()\n",
    "\n",
    "with tf.Session() as sess:\n",
    "    sess.run(init)\n",
    "    i=0\n",
    "    while i < total_episodes:\n",
    "        s=cBandit.getBandit()\n",
    "        \n",
    "        if np.random.rand(1)<e: #exploration\n",
    "            action=np.random.randint(cBandit.num_actions)\n",
    "        else:  #exploit\n",
    "            action=sess.run(myAgent.chosen_action,feed_dict={myAgent.state_in:[s]})\n",
    "        \n",
    "        reward=cBandit.pullArm(action)\n",
    "        \n",
    "        #네트워크 업데이트\n",
    "        feed_dict={myAgent.reward_holder:[reward],myAgent.action_holder:[action],myAgent.state_in:[s]}\n",
    "        _, ww=sess.run([myAgent.update, weights], feed_dict=feed_dict)\n",
    "        \n",
    "        total_reward[s,action]+=reward\n",
    "        \n",
    "        if i%500==0:\n",
    "            print(\"각 보상의 평균 : \"+str(cBandit.num_bandits)+\" 밴딧:\"+str(np.mean(total_reward,axis=1)))\n",
    "        i+=1\n",
    "        "
   ]
  },
  {
   "cell_type": "code",
   "execution_count": null,
   "metadata": {},
   "outputs": [],
   "source": []
  },
  {
   "cell_type": "code",
   "execution_count": null,
   "metadata": {},
   "outputs": [],
   "source": []
  },
  {
   "cell_type": "code",
   "execution_count": null,
   "metadata": {},
   "outputs": [],
   "source": []
  },
  {
   "cell_type": "code",
   "execution_count": null,
   "metadata": {},
   "outputs": [],
   "source": []
  },
  {
   "cell_type": "code",
   "execution_count": null,
   "metadata": {},
   "outputs": [],
   "source": []
  },
  {
   "cell_type": "code",
   "execution_count": null,
   "metadata": {},
   "outputs": [],
   "source": []
  },
  {
   "cell_type": "code",
   "execution_count": null,
   "metadata": {},
   "outputs": [],
   "source": []
  },
  {
   "cell_type": "code",
   "execution_count": null,
   "metadata": {},
   "outputs": [],
   "source": []
  },
  {
   "cell_type": "code",
   "execution_count": null,
   "metadata": {},
   "outputs": [],
   "source": []
  },
  {
   "cell_type": "code",
   "execution_count": null,
   "metadata": {},
   "outputs": [],
   "source": []
  },
  {
   "cell_type": "code",
   "execution_count": null,
   "metadata": {},
   "outputs": [],
   "source": []
  },
  {
   "cell_type": "code",
   "execution_count": 25,
   "metadata": {},
   "outputs": [],
   "source": [
    "nnet_inputs=tf.placeholder(tf.float32,[None,None,None,1])\n",
    "net_outputs=tf.placeholder(tf.float32,[None,None,None,1])\n",
    "\n",
    "#1번째 계층\n",
    "w=tf.Variable(tf.random_normal([11,11,1,10]))\n",
    "b=tf.Variable(tf.random_normal([10]))\n",
    "net=tf.nn.conv2d(net_inputs, filter=w, strides=[1,4,4,1], padding='SAME')\n",
    "net=tf.nn.bias_add(net,b)\n",
    "net=tf.nn.relu(net)\n",
    "\n",
    "w=tf.Variable(tf.random_normal([5,5,10,20]))\n",
    "#2번째 계층\n",
    "net=tf.nn.conv2d(net, filter=w, strides=[1,2,2,1], padding='SAME')\n",
    "net=tf.nn.relu(net)\n",
    "\n",
    "#3번째 계층\n",
    "w=tf.Variable(tf.random_normal([3,3, 20,50]))\n",
    "net=tf.nn.conv2d(net, filter=w, strides=[1,2,2,1], padding='SAME')\n",
    "net=tf.nn.relu(net)"
   ]
  },
  {
   "cell_type": "code",
   "execution_count": 29,
   "metadata": {},
   "outputs": [
    {
     "name": "stdout",
     "output_type": "stream",
     "text": [
      "<tf.Variable 'Variable:0' shape=(11, 11, 1, 10) dtype=float32_ref>\n",
      "<tf.Variable 'Variable_1:0' shape=(10,) dtype=float32_ref>\n",
      "<tf.Variable 'Variable_2:0' shape=(5, 5, 10, 20) dtype=float32_ref>\n",
      "<tf.Variable 'Variable_3:0' shape=(3, 3, 20, 50) dtype=float32_ref>\n",
      "<tf.Variable 'Variable_4:0' shape=(11, 11, 1, 10) dtype=float32_ref>\n",
      "<tf.Variable 'Variable_5:0' shape=(10,) dtype=float32_ref>\n",
      "<tf.Variable 'Variable_6:0' shape=(5, 5, 10, 20) dtype=float32_ref>\n",
      "<tf.Variable 'Variable_7:0' shape=(3, 3, 20, 50) dtype=float32_ref>\n"
     ]
    }
   ],
   "source": [
    "tf.trainable_variables()[0]\n",
    "\n",
    "train_var=[var for var in tf.trainable_variables()]\n",
    "for tv in train_var:\n",
    "    print(tv)"
   ]
  },
  {
   "cell_type": "code",
   "execution_count": null,
   "metadata": {},
   "outputs": [],
   "source": []
  },
  {
   "cell_type": "code",
   "execution_count": null,
   "metadata": {},
   "outputs": [],
   "source": []
  },
  {
   "cell_type": "code",
   "execution_count": null,
   "metadata": {},
   "outputs": [],
   "source": []
  }
 ],
 "metadata": {
  "kernelspec": {
   "display_name": "Python 3",
   "language": "python",
   "name": "python3"
  },
  "language_info": {
   "codemirror_mode": {
    "name": "ipython",
    "version": 3
   },
   "file_extension": ".py",
   "mimetype": "text/x-python",
   "name": "python",
   "nbconvert_exporter": "python",
   "pygments_lexer": "ipython3",
   "version": "3.7.3"
  }
 },
 "nbformat": 4,
 "nbformat_minor": 2
}
