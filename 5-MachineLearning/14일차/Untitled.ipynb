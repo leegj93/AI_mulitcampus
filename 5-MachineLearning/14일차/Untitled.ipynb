{
 "cells": [
  {
   "cell_type": "markdown",
   "metadata": {},
   "source": [
    "# 연습문제\n",
    "\n",
    "---\n",
    "\n",
    "## 목차\n",
    "1. kaggle의 HR 데이터를 기반으로 타깃(left)을 예상할 수 있는 분류 모델기 생성\n",
    "2. 차원 축소를 수행한 후 분류 모델기 생성"
   ]
  },
  {
   "cell_type": "markdown",
   "metadata": {},
   "source": [
    "## 문제 1. kaggle의 HR 데이터를 기반으로 타깃(left)을 예상할 수 있는 분류 모델기 생성"
   ]
  },
  {
   "cell_type": "markdown",
   "metadata": {},
   "source": [
    "- 데이터 불러오기\n",
    "- 상관 계수 분석(문자열 데이터 미포함)\n",
    "- 차원 축소(문자열 데이터 미포함)\n",
    "- 문자열 원 핫 인코딩\n",
    "- 상관 계수 분석(문자열 데이터 포함)\n",
    "- 차원 축소(문자열 데이터 포함)"
   ]
  },
  {
   "cell_type": "code",
   "execution_count": 1,
   "metadata": {},
   "outputs": [
    {
     "data": {
      "text/plain": [
       "['.ipynb_checkpoints',\n",
       " '2019-08-01.md',\n",
       " 'HR_comma_sep.csv',\n",
       " 'img',\n",
       " 'ML_Day13.ipynb',\n",
       " 'PCA.ipynb',\n",
       " 'PCA_human_resource.ipynb',\n",
       " 'Untitled.ipynb']"
      ]
     },
     "execution_count": 1,
     "metadata": {},
     "output_type": "execute_result"
    }
   ],
   "source": [
    "import os\n",
    "os.listdir()"
   ]
  },
  {
   "cell_type": "code",
   "execution_count": 2,
   "metadata": {},
   "outputs": [],
   "source": [
    "import pandas as pd\n",
    "import numpy as np\n",
    "import matplotlib.pyplot as sns\n",
    "import matplotlib as mpl\n",
    "import seaborn as sns"
   ]
  },
  {
   "cell_type": "code",
   "execution_count": 112,
   "metadata": {},
   "outputs": [],
   "source": [
    "from sklearn.decomposition import PCA\n",
    "from sklearn.preprocessing import StandardScaler"
   ]
  },
  {
   "cell_type": "code",
   "execution_count": 113,
   "metadata": {},
   "outputs": [],
   "source": [
    "df = pd.read_csv('HR_comma_sep.csv')"
   ]
  },
  {
   "cell_type": "code",
   "execution_count": 114,
   "metadata": {},
   "outputs": [
    {
     "data": {
      "text/html": [
       "<div>\n",
       "<style scoped>\n",
       "    .dataframe tbody tr th:only-of-type {\n",
       "        vertical-align: middle;\n",
       "    }\n",
       "\n",
       "    .dataframe tbody tr th {\n",
       "        vertical-align: top;\n",
       "    }\n",
       "\n",
       "    .dataframe thead th {\n",
       "        text-align: right;\n",
       "    }\n",
       "</style>\n",
       "<table border=\"1\" class=\"dataframe\">\n",
       "  <thead>\n",
       "    <tr style=\"text-align: right;\">\n",
       "      <th></th>\n",
       "      <th>satisfaction_level</th>\n",
       "      <th>last_evaluation</th>\n",
       "      <th>number_project</th>\n",
       "      <th>average_montly_hours</th>\n",
       "      <th>time_spend_company</th>\n",
       "      <th>Work_accident</th>\n",
       "      <th>left</th>\n",
       "      <th>promotion_last_5years</th>\n",
       "      <th>sales</th>\n",
       "      <th>salary</th>\n",
       "    </tr>\n",
       "  </thead>\n",
       "  <tbody>\n",
       "    <tr>\n",
       "      <th>0</th>\n",
       "      <td>0.38</td>\n",
       "      <td>0.53</td>\n",
       "      <td>2</td>\n",
       "      <td>157</td>\n",
       "      <td>3</td>\n",
       "      <td>0</td>\n",
       "      <td>1</td>\n",
       "      <td>0</td>\n",
       "      <td>sales</td>\n",
       "      <td>low</td>\n",
       "    </tr>\n",
       "    <tr>\n",
       "      <th>1</th>\n",
       "      <td>0.80</td>\n",
       "      <td>0.86</td>\n",
       "      <td>5</td>\n",
       "      <td>262</td>\n",
       "      <td>6</td>\n",
       "      <td>0</td>\n",
       "      <td>1</td>\n",
       "      <td>0</td>\n",
       "      <td>sales</td>\n",
       "      <td>medium</td>\n",
       "    </tr>\n",
       "    <tr>\n",
       "      <th>2</th>\n",
       "      <td>0.11</td>\n",
       "      <td>0.88</td>\n",
       "      <td>7</td>\n",
       "      <td>272</td>\n",
       "      <td>4</td>\n",
       "      <td>0</td>\n",
       "      <td>1</td>\n",
       "      <td>0</td>\n",
       "      <td>sales</td>\n",
       "      <td>medium</td>\n",
       "    </tr>\n",
       "    <tr>\n",
       "      <th>3</th>\n",
       "      <td>0.72</td>\n",
       "      <td>0.87</td>\n",
       "      <td>5</td>\n",
       "      <td>223</td>\n",
       "      <td>5</td>\n",
       "      <td>0</td>\n",
       "      <td>1</td>\n",
       "      <td>0</td>\n",
       "      <td>sales</td>\n",
       "      <td>low</td>\n",
       "    </tr>\n",
       "    <tr>\n",
       "      <th>4</th>\n",
       "      <td>0.37</td>\n",
       "      <td>0.52</td>\n",
       "      <td>2</td>\n",
       "      <td>159</td>\n",
       "      <td>3</td>\n",
       "      <td>0</td>\n",
       "      <td>1</td>\n",
       "      <td>0</td>\n",
       "      <td>sales</td>\n",
       "      <td>low</td>\n",
       "    </tr>\n",
       "  </tbody>\n",
       "</table>\n",
       "</div>"
      ],
      "text/plain": [
       "   satisfaction_level  last_evaluation  number_project  average_montly_hours  \\\n",
       "0                0.38             0.53               2                   157   \n",
       "1                0.80             0.86               5                   262   \n",
       "2                0.11             0.88               7                   272   \n",
       "3                0.72             0.87               5                   223   \n",
       "4                0.37             0.52               2                   159   \n",
       "\n",
       "   time_spend_company  Work_accident  left  promotion_last_5years  sales  \\\n",
       "0                   3              0     1                      0  sales   \n",
       "1                   6              0     1                      0  sales   \n",
       "2                   4              0     1                      0  sales   \n",
       "3                   5              0     1                      0  sales   \n",
       "4                   3              0     1                      0  sales   \n",
       "\n",
       "   salary  \n",
       "0     low  \n",
       "1  medium  \n",
       "2  medium  \n",
       "3     low  \n",
       "4     low  "
      ]
     },
     "execution_count": 114,
     "metadata": {},
     "output_type": "execute_result"
    }
   ],
   "source": [
    "df.head()"
   ]
  },
  {
   "cell_type": "code",
   "execution_count": 117,
   "metadata": {},
   "outputs": [],
   "source": [
    "X = df.loc[:, df.columns.drop(['sales', 'salary', 'left'])]\n",
    "Y = df.loc[:, 'left']"
   ]
  },
  {
   "cell_type": "code",
   "execution_count": 118,
   "metadata": {},
   "outputs": [
    {
     "data": {
      "text/html": [
       "<div>\n",
       "<style scoped>\n",
       "    .dataframe tbody tr th:only-of-type {\n",
       "        vertical-align: middle;\n",
       "    }\n",
       "\n",
       "    .dataframe tbody tr th {\n",
       "        vertical-align: top;\n",
       "    }\n",
       "\n",
       "    .dataframe thead th {\n",
       "        text-align: right;\n",
       "    }\n",
       "</style>\n",
       "<table border=\"1\" class=\"dataframe\">\n",
       "  <thead>\n",
       "    <tr style=\"text-align: right;\">\n",
       "      <th></th>\n",
       "      <th>satisfaction_level</th>\n",
       "      <th>last_evaluation</th>\n",
       "      <th>number_project</th>\n",
       "      <th>average_montly_hours</th>\n",
       "      <th>time_spend_company</th>\n",
       "      <th>Work_accident</th>\n",
       "      <th>promotion_last_5years</th>\n",
       "    </tr>\n",
       "  </thead>\n",
       "  <tbody>\n",
       "    <tr>\n",
       "      <th>0</th>\n",
       "      <td>0.38</td>\n",
       "      <td>0.53</td>\n",
       "      <td>2</td>\n",
       "      <td>157</td>\n",
       "      <td>3</td>\n",
       "      <td>0</td>\n",
       "      <td>0</td>\n",
       "    </tr>\n",
       "    <tr>\n",
       "      <th>1</th>\n",
       "      <td>0.80</td>\n",
       "      <td>0.86</td>\n",
       "      <td>5</td>\n",
       "      <td>262</td>\n",
       "      <td>6</td>\n",
       "      <td>0</td>\n",
       "      <td>0</td>\n",
       "    </tr>\n",
       "    <tr>\n",
       "      <th>2</th>\n",
       "      <td>0.11</td>\n",
       "      <td>0.88</td>\n",
       "      <td>7</td>\n",
       "      <td>272</td>\n",
       "      <td>4</td>\n",
       "      <td>0</td>\n",
       "      <td>0</td>\n",
       "    </tr>\n",
       "    <tr>\n",
       "      <th>3</th>\n",
       "      <td>0.72</td>\n",
       "      <td>0.87</td>\n",
       "      <td>5</td>\n",
       "      <td>223</td>\n",
       "      <td>5</td>\n",
       "      <td>0</td>\n",
       "      <td>0</td>\n",
       "    </tr>\n",
       "    <tr>\n",
       "      <th>4</th>\n",
       "      <td>0.37</td>\n",
       "      <td>0.52</td>\n",
       "      <td>2</td>\n",
       "      <td>159</td>\n",
       "      <td>3</td>\n",
       "      <td>0</td>\n",
       "      <td>0</td>\n",
       "    </tr>\n",
       "  </tbody>\n",
       "</table>\n",
       "</div>"
      ],
      "text/plain": [
       "   satisfaction_level  last_evaluation  number_project  average_montly_hours  \\\n",
       "0                0.38             0.53               2                   157   \n",
       "1                0.80             0.86               5                   262   \n",
       "2                0.11             0.88               7                   272   \n",
       "3                0.72             0.87               5                   223   \n",
       "4                0.37             0.52               2                   159   \n",
       "\n",
       "   time_spend_company  Work_accident  promotion_last_5years  \n",
       "0                   3              0                      0  \n",
       "1                   6              0                      0  \n",
       "2                   4              0                      0  \n",
       "3                   5              0                      0  \n",
       "4                   3              0                      0  "
      ]
     },
     "execution_count": 118,
     "metadata": {},
     "output_type": "execute_result"
    }
   ],
   "source": [
    "X.head()"
   ]
  },
  {
   "cell_type": "code",
   "execution_count": 122,
   "metadata": {},
   "outputs": [
    {
     "data": {
      "text/plain": [
       "0    11428\n",
       "1     3571\n",
       "Name: left, dtype: int64"
      ]
     },
     "execution_count": 122,
     "metadata": {},
     "output_type": "execute_result"
    }
   ],
   "source": [
    "Y.value_counts()"
   ]
  },
  {
   "cell_type": "code",
   "execution_count": 6,
   "metadata": {},
   "outputs": [
    {
     "data": {
      "text/html": [
       "<div>\n",
       "<style scoped>\n",
       "    .dataframe tbody tr th:only-of-type {\n",
       "        vertical-align: middle;\n",
       "    }\n",
       "\n",
       "    .dataframe tbody tr th {\n",
       "        vertical-align: top;\n",
       "    }\n",
       "\n",
       "    .dataframe thead th {\n",
       "        text-align: right;\n",
       "    }\n",
       "</style>\n",
       "<table border=\"1\" class=\"dataframe\">\n",
       "  <thead>\n",
       "    <tr style=\"text-align: right;\">\n",
       "      <th></th>\n",
       "      <th>satisfaction_level</th>\n",
       "      <th>last_evaluation</th>\n",
       "      <th>number_project</th>\n",
       "      <th>average_montly_hours</th>\n",
       "      <th>time_spend_company</th>\n",
       "      <th>Work_accident</th>\n",
       "      <th>left</th>\n",
       "      <th>promotion_last_5years</th>\n",
       "    </tr>\n",
       "  </thead>\n",
       "  <tbody>\n",
       "    <tr>\n",
       "      <th>satisfaction_level</th>\n",
       "      <td>1.000000</td>\n",
       "      <td>0.105021</td>\n",
       "      <td>-0.142970</td>\n",
       "      <td>-0.020048</td>\n",
       "      <td>-0.100866</td>\n",
       "      <td>0.058697</td>\n",
       "      <td>-0.388375</td>\n",
       "      <td>0.025605</td>\n",
       "    </tr>\n",
       "    <tr>\n",
       "      <th>last_evaluation</th>\n",
       "      <td>0.105021</td>\n",
       "      <td>1.000000</td>\n",
       "      <td>0.349333</td>\n",
       "      <td>0.339742</td>\n",
       "      <td>0.131591</td>\n",
       "      <td>-0.007104</td>\n",
       "      <td>0.006567</td>\n",
       "      <td>-0.008684</td>\n",
       "    </tr>\n",
       "    <tr>\n",
       "      <th>number_project</th>\n",
       "      <td>-0.142970</td>\n",
       "      <td>0.349333</td>\n",
       "      <td>1.000000</td>\n",
       "      <td>0.417211</td>\n",
       "      <td>0.196786</td>\n",
       "      <td>-0.004741</td>\n",
       "      <td>0.023787</td>\n",
       "      <td>-0.006064</td>\n",
       "    </tr>\n",
       "    <tr>\n",
       "      <th>average_montly_hours</th>\n",
       "      <td>-0.020048</td>\n",
       "      <td>0.339742</td>\n",
       "      <td>0.417211</td>\n",
       "      <td>1.000000</td>\n",
       "      <td>0.127755</td>\n",
       "      <td>-0.010143</td>\n",
       "      <td>0.071287</td>\n",
       "      <td>-0.003544</td>\n",
       "    </tr>\n",
       "    <tr>\n",
       "      <th>time_spend_company</th>\n",
       "      <td>-0.100866</td>\n",
       "      <td>0.131591</td>\n",
       "      <td>0.196786</td>\n",
       "      <td>0.127755</td>\n",
       "      <td>1.000000</td>\n",
       "      <td>0.002120</td>\n",
       "      <td>0.144822</td>\n",
       "      <td>0.067433</td>\n",
       "    </tr>\n",
       "    <tr>\n",
       "      <th>Work_accident</th>\n",
       "      <td>0.058697</td>\n",
       "      <td>-0.007104</td>\n",
       "      <td>-0.004741</td>\n",
       "      <td>-0.010143</td>\n",
       "      <td>0.002120</td>\n",
       "      <td>1.000000</td>\n",
       "      <td>-0.154622</td>\n",
       "      <td>0.039245</td>\n",
       "    </tr>\n",
       "    <tr>\n",
       "      <th>left</th>\n",
       "      <td>-0.388375</td>\n",
       "      <td>0.006567</td>\n",
       "      <td>0.023787</td>\n",
       "      <td>0.071287</td>\n",
       "      <td>0.144822</td>\n",
       "      <td>-0.154622</td>\n",
       "      <td>1.000000</td>\n",
       "      <td>-0.061788</td>\n",
       "    </tr>\n",
       "    <tr>\n",
       "      <th>promotion_last_5years</th>\n",
       "      <td>0.025605</td>\n",
       "      <td>-0.008684</td>\n",
       "      <td>-0.006064</td>\n",
       "      <td>-0.003544</td>\n",
       "      <td>0.067433</td>\n",
       "      <td>0.039245</td>\n",
       "      <td>-0.061788</td>\n",
       "      <td>1.000000</td>\n",
       "    </tr>\n",
       "  </tbody>\n",
       "</table>\n",
       "</div>"
      ],
      "text/plain": [
       "                       satisfaction_level  last_evaluation  number_project  \\\n",
       "satisfaction_level               1.000000         0.105021       -0.142970   \n",
       "last_evaluation                  0.105021         1.000000        0.349333   \n",
       "number_project                  -0.142970         0.349333        1.000000   \n",
       "average_montly_hours            -0.020048         0.339742        0.417211   \n",
       "time_spend_company              -0.100866         0.131591        0.196786   \n",
       "Work_accident                    0.058697        -0.007104       -0.004741   \n",
       "left                            -0.388375         0.006567        0.023787   \n",
       "promotion_last_5years            0.025605        -0.008684       -0.006064   \n",
       "\n",
       "                       average_montly_hours  time_spend_company  \\\n",
       "satisfaction_level                -0.020048           -0.100866   \n",
       "last_evaluation                    0.339742            0.131591   \n",
       "number_project                     0.417211            0.196786   \n",
       "average_montly_hours               1.000000            0.127755   \n",
       "time_spend_company                 0.127755            1.000000   \n",
       "Work_accident                     -0.010143            0.002120   \n",
       "left                               0.071287            0.144822   \n",
       "promotion_last_5years             -0.003544            0.067433   \n",
       "\n",
       "                       Work_accident      left  promotion_last_5years  \n",
       "satisfaction_level          0.058697 -0.388375               0.025605  \n",
       "last_evaluation            -0.007104  0.006567              -0.008684  \n",
       "number_project             -0.004741  0.023787              -0.006064  \n",
       "average_montly_hours       -0.010143  0.071287              -0.003544  \n",
       "time_spend_company          0.002120  0.144822               0.067433  \n",
       "Work_accident               1.000000 -0.154622               0.039245  \n",
       "left                       -0.154622  1.000000              -0.061788  \n",
       "promotion_last_5years       0.039245 -0.061788               1.000000  "
      ]
     },
     "execution_count": 6,
     "metadata": {},
     "output_type": "execute_result"
    }
   ],
   "source": [
    "X.corr()"
   ]
  },
  {
   "cell_type": "code",
   "execution_count": 7,
   "metadata": {},
   "outputs": [],
   "source": [
    "corr = df.corr()"
   ]
  },
  {
   "cell_type": "code",
   "execution_count": 10,
   "metadata": {},
   "outputs": [
    {
     "data": {
      "text/plain": [
       "<matplotlib.axes._subplots.AxesSubplot at 0x1c60df75a58>"
      ]
     },
     "execution_count": 10,
     "metadata": {},
     "output_type": "execute_result"
    },
    {
     "data": {
      "image/png": "[encoded data removed]",
      "text/plain": [
       "<Figure size 432x288 with 2 Axes>"
      ]
     },
     "metadata": {
      "needs_background": "light"
     },
     "output_type": "display_data"
    }
   ],
   "source": [
    "sns.heatmap(corr, cmap='cubehelix', annot=True)"
   ]
  },
  {
   "cell_type": "markdown",
   "metadata": {},
   "source": [
    "> 차원 축소(numpy 버젼)"
   ]
  },
  {
   "cell_type": "code",
   "execution_count": 14,
   "metadata": {},
   "outputs": [
    {
     "data": {
      "text/html": [
       "<div>\n",
       "<style scoped>\n",
       "    .dataframe tbody tr th:only-of-type {\n",
       "        vertical-align: middle;\n",
       "    }\n",
       "\n",
       "    .dataframe tbody tr th {\n",
       "        vertical-align: top;\n",
       "    }\n",
       "\n",
       "    .dataframe thead th {\n",
       "        text-align: right;\n",
       "    }\n",
       "</style>\n",
       "<table border=\"1\" class=\"dataframe\">\n",
       "  <thead>\n",
       "    <tr style=\"text-align: right;\">\n",
       "      <th></th>\n",
       "      <th>satisfaction_level</th>\n",
       "      <th>last_evaluation</th>\n",
       "      <th>number_project</th>\n",
       "      <th>average_montly_hours</th>\n",
       "      <th>time_spend_company</th>\n",
       "      <th>Work_accident</th>\n",
       "      <th>left</th>\n",
       "      <th>promotion_last_5years</th>\n",
       "    </tr>\n",
       "  </thead>\n",
       "  <tbody>\n",
       "    <tr>\n",
       "      <th>satisfaction_level</th>\n",
       "      <td>1.000000</td>\n",
       "      <td>0.011029</td>\n",
       "      <td>0.020440</td>\n",
       "      <td>0.000402</td>\n",
       "      <td>0.010174</td>\n",
       "      <td>0.003445</td>\n",
       "      <td>0.150835</td>\n",
       "      <td>0.000656</td>\n",
       "    </tr>\n",
       "    <tr>\n",
       "      <th>last_evaluation</th>\n",
       "      <td>0.011029</td>\n",
       "      <td>1.000000</td>\n",
       "      <td>0.122033</td>\n",
       "      <td>0.115424</td>\n",
       "      <td>0.017316</td>\n",
       "      <td>0.000050</td>\n",
       "      <td>0.000043</td>\n",
       "      <td>0.000075</td>\n",
       "    </tr>\n",
       "    <tr>\n",
       "      <th>number_project</th>\n",
       "      <td>0.020440</td>\n",
       "      <td>0.122033</td>\n",
       "      <td>1.000000</td>\n",
       "      <td>0.174065</td>\n",
       "      <td>0.038725</td>\n",
       "      <td>0.000022</td>\n",
       "      <td>0.000566</td>\n",
       "      <td>0.000037</td>\n",
       "    </tr>\n",
       "    <tr>\n",
       "      <th>average_montly_hours</th>\n",
       "      <td>0.000402</td>\n",
       "      <td>0.115424</td>\n",
       "      <td>0.174065</td>\n",
       "      <td>1.000000</td>\n",
       "      <td>0.016321</td>\n",
       "      <td>0.000103</td>\n",
       "      <td>0.005082</td>\n",
       "      <td>0.000013</td>\n",
       "    </tr>\n",
       "    <tr>\n",
       "      <th>time_spend_company</th>\n",
       "      <td>0.010174</td>\n",
       "      <td>0.017316</td>\n",
       "      <td>0.038725</td>\n",
       "      <td>0.016321</td>\n",
       "      <td>1.000000</td>\n",
       "      <td>0.000004</td>\n",
       "      <td>0.020973</td>\n",
       "      <td>0.004547</td>\n",
       "    </tr>\n",
       "    <tr>\n",
       "      <th>Work_accident</th>\n",
       "      <td>0.003445</td>\n",
       "      <td>0.000050</td>\n",
       "      <td>0.000022</td>\n",
       "      <td>0.000103</td>\n",
       "      <td>0.000004</td>\n",
       "      <td>1.000000</td>\n",
       "      <td>0.023908</td>\n",
       "      <td>0.001540</td>\n",
       "    </tr>\n",
       "    <tr>\n",
       "      <th>left</th>\n",
       "      <td>0.150835</td>\n",
       "      <td>0.000043</td>\n",
       "      <td>0.000566</td>\n",
       "      <td>0.005082</td>\n",
       "      <td>0.020973</td>\n",
       "      <td>0.023908</td>\n",
       "      <td>1.000000</td>\n",
       "      <td>0.003818</td>\n",
       "    </tr>\n",
       "    <tr>\n",
       "      <th>promotion_last_5years</th>\n",
       "      <td>0.000656</td>\n",
       "      <td>0.000075</td>\n",
       "      <td>0.000037</td>\n",
       "      <td>0.000013</td>\n",
       "      <td>0.004547</td>\n",
       "      <td>0.001540</td>\n",
       "      <td>0.003818</td>\n",
       "      <td>1.000000</td>\n",
       "    </tr>\n",
       "  </tbody>\n",
       "</table>\n",
       "</div>"
      ],
      "text/plain": [
       "                       satisfaction_level  last_evaluation  number_project  \\\n",
       "satisfaction_level               1.000000         0.011029        0.020440   \n",
       "last_evaluation                  0.011029         1.000000        0.122033   \n",
       "number_project                   0.020440         0.122033        1.000000   \n",
       "average_montly_hours             0.000402         0.115424        0.174065   \n",
       "time_spend_company               0.010174         0.017316        0.038725   \n",
       "Work_accident                    0.003445         0.000050        0.000022   \n",
       "left                             0.150835         0.000043        0.000566   \n",
       "promotion_last_5years            0.000656         0.000075        0.000037   \n",
       "\n",
       "                       average_montly_hours  time_spend_company  \\\n",
       "satisfaction_level                 0.000402            0.010174   \n",
       "last_evaluation                    0.115424            0.017316   \n",
       "number_project                     0.174065            0.038725   \n",
       "average_montly_hours               1.000000            0.016321   \n",
       "time_spend_company                 0.016321            1.000000   \n",
       "Work_accident                      0.000103            0.000004   \n",
       "left                               0.005082            0.020973   \n",
       "promotion_last_5years              0.000013            0.004547   \n",
       "\n",
       "                       Work_accident      left  promotion_last_5years  \n",
       "satisfaction_level          0.003445  0.150835               0.000656  \n",
       "last_evaluation             0.000050  0.000043               0.000075  \n",
       "number_project              0.000022  0.000566               0.000037  \n",
       "average_montly_hours        0.000103  0.005082               0.000013  \n",
       "time_spend_company          0.000004  0.020973               0.004547  \n",
       "Work_accident               1.000000  0.023908               0.001540  \n",
       "left                        0.023908  1.000000               0.003818  \n",
       "promotion_last_5years       0.001540  0.003818               1.000000  "
      ]
     },
     "execution_count": 14,
     "metadata": {},
     "output_type": "execute_result"
    }
   ],
   "source": [
    "# 행렬 A를 만들어서 AX = lambda X 수식을 풀어줍니다.\n",
    "corr.T*corr"
   ]
  },
  {
   "cell_type": "code",
   "execution_count": 15,
   "metadata": {},
   "outputs": [],
   "source": [
    "A = corr.T * corr"
   ]
  },
  {
   "cell_type": "code",
   "execution_count": 63,
   "metadata": {},
   "outputs": [],
   "source": [
    "eigVals, eigVecs = np.linalg.eig(A)"
   ]
  },
  {
   "cell_type": "code",
   "execution_count": 85,
   "metadata": {},
   "outputs": [
    {
     "data": {
      "text/html": [
       "<div>\n",
       "<style scoped>\n",
       "    .dataframe tbody tr th:only-of-type {\n",
       "        vertical-align: middle;\n",
       "    }\n",
       "\n",
       "    .dataframe tbody tr th {\n",
       "        vertical-align: top;\n",
       "    }\n",
       "\n",
       "    .dataframe thead th {\n",
       "        text-align: right;\n",
       "    }\n",
       "</style>\n",
       "<table border=\"1\" class=\"dataframe\">\n",
       "  <thead>\n",
       "    <tr style=\"text-align: right;\">\n",
       "      <th></th>\n",
       "      <th>0</th>\n",
       "      <th>1</th>\n",
       "      <th>2</th>\n",
       "      <th>3</th>\n",
       "      <th>4</th>\n",
       "      <th>5</th>\n",
       "      <th>6</th>\n",
       "      <th>7</th>\n",
       "      <th>8</th>\n",
       "    </tr>\n",
       "  </thead>\n",
       "  <tbody>\n",
       "    <tr>\n",
       "      <th>0</th>\n",
       "      <td>-0.113401</td>\n",
       "      <td>-0.679470</td>\n",
       "      <td>-0.295260</td>\n",
       "      <td>0.628996</td>\n",
       "      <td>-0.038882</td>\n",
       "      <td>0.138602</td>\n",
       "      <td>-0.099880</td>\n",
       "      <td>0.109302</td>\n",
       "      <td>1.285345</td>\n",
       "    </tr>\n",
       "    <tr>\n",
       "      <th>1</th>\n",
       "      <td>-0.506170</td>\n",
       "      <td>0.083436</td>\n",
       "      <td>-0.025797</td>\n",
       "      <td>-0.088384</td>\n",
       "      <td>-0.845307</td>\n",
       "      <td>0.102194</td>\n",
       "      <td>-0.043891</td>\n",
       "      <td>-0.037941</td>\n",
       "      <td>1.153403</td>\n",
       "    </tr>\n",
       "    <tr>\n",
       "      <th>2</th>\n",
       "      <td>-0.600836</td>\n",
       "      <td>0.074927</td>\n",
       "      <td>0.664668</td>\n",
       "      <td>0.302478</td>\n",
       "      <td>0.316286</td>\n",
       "      <td>0.004970</td>\n",
       "      <td>-0.006186</td>\n",
       "      <td>-0.002203</td>\n",
       "      <td>0.818497</td>\n",
       "    </tr>\n",
       "    <tr>\n",
       "      <th>3</th>\n",
       "      <td>-0.581836</td>\n",
       "      <td>0.112075</td>\n",
       "      <td>-0.619185</td>\n",
       "      <td>-0.268199</td>\n",
       "      <td>0.423082</td>\n",
       "      <td>0.100420</td>\n",
       "      <td>-0.042541</td>\n",
       "      <td>-0.051886</td>\n",
       "      <td>0.852516</td>\n",
       "    </tr>\n",
       "    <tr>\n",
       "      <th>4</th>\n",
       "      <td>-0.155808</td>\n",
       "      <td>-0.100945</td>\n",
       "      <td>-0.098976</td>\n",
       "      <td>0.009512</td>\n",
       "      <td>-0.050314</td>\n",
       "      <td>-0.848685</td>\n",
       "      <td>0.381432</td>\n",
       "      <td>0.295565</td>\n",
       "      <td>0.898104</td>\n",
       "    </tr>\n",
       "    <tr>\n",
       "      <th>5</th>\n",
       "      <td>-0.008763</td>\n",
       "      <td>-0.124154</td>\n",
       "      <td>-0.030473</td>\n",
       "      <td>0.090972</td>\n",
       "      <td>-0.009974</td>\n",
       "      <td>-0.236711</td>\n",
       "      <td>0.158124</td>\n",
       "      <td>-0.945606</td>\n",
       "      <td>0.990727</td>\n",
       "    </tr>\n",
       "    <tr>\n",
       "      <th>6</th>\n",
       "      <td>-0.083816</td>\n",
       "      <td>-0.697841</td>\n",
       "      <td>0.276138</td>\n",
       "      <td>-0.651611</td>\n",
       "      <td>0.047705</td>\n",
       "      <td>0.043862</td>\n",
       "      <td>-0.030417</td>\n",
       "      <td>0.004244</td>\n",
       "      <td>1.001986</td>\n",
       "    </tr>\n",
       "    <tr>\n",
       "      <th>7</th>\n",
       "      <td>-0.004149</td>\n",
       "      <td>-0.024442</td>\n",
       "      <td>-0.002085</td>\n",
       "      <td>0.012821</td>\n",
       "      <td>0.001318</td>\n",
       "      <td>0.426631</td>\n",
       "      <td>0.902680</td>\n",
       "      <td>0.048683</td>\n",
       "      <td>0.999421</td>\n",
       "    </tr>\n",
       "  </tbody>\n",
       "</table>\n",
       "</div>"
      ],
      "text/plain": [
       "          0         1         2         3         4         5         6  \\\n",
       "0 -0.113401 -0.679470 -0.295260  0.628996 -0.038882  0.138602 -0.099880   \n",
       "1 -0.506170  0.083436 -0.025797 -0.088384 -0.845307  0.102194 -0.043891   \n",
       "2 -0.600836  0.074927  0.664668  0.302478  0.316286  0.004970 -0.006186   \n",
       "3 -0.581836  0.112075 -0.619185 -0.268199  0.423082  0.100420 -0.042541   \n",
       "4 -0.155808 -0.100945 -0.098976  0.009512 -0.050314 -0.848685  0.381432   \n",
       "5 -0.008763 -0.124154 -0.030473  0.090972 -0.009974 -0.236711  0.158124   \n",
       "6 -0.083816 -0.697841  0.276138 -0.651611  0.047705  0.043862 -0.030417   \n",
       "7 -0.004149 -0.024442 -0.002085  0.012821  0.001318  0.426631  0.902680   \n",
       "\n",
       "          7         8  \n",
       "0  0.109302  1.285345  \n",
       "1 -0.037941  1.153403  \n",
       "2 -0.002203  0.818497  \n",
       "3 -0.051886  0.852516  \n",
       "4  0.295565  0.898104  \n",
       "5 -0.945606  0.990727  \n",
       "6  0.004244  1.001986  \n",
       "7  0.048683  0.999421  "
      ]
     },
     "execution_count": 85,
     "metadata": {},
     "output_type": "execute_result"
    }
   ],
   "source": [
    "# 고유 벡터와 고유 값을 합친 행렬을 생성\n",
    "dfEig = pd.concat([pd.DataFrame(eigVecs),pd.Series(eigVals)], ignore_index=True, axis=1)\n",
    "dfEig"
   ]
  },
  {
   "cell_type": "code",
   "execution_count": 104,
   "metadata": {},
   "outputs": [
    {
     "data": {
      "text/html": [
       "<div>\n",
       "<style scoped>\n",
       "    .dataframe tbody tr th:only-of-type {\n",
       "        vertical-align: middle;\n",
       "    }\n",
       "\n",
       "    .dataframe tbody tr th {\n",
       "        vertical-align: top;\n",
       "    }\n",
       "\n",
       "    .dataframe thead th {\n",
       "        text-align: right;\n",
       "    }\n",
       "</style>\n",
       "<table border=\"1\" class=\"dataframe\">\n",
       "  <thead>\n",
       "    <tr style=\"text-align: right;\">\n",
       "      <th></th>\n",
       "      <th>0</th>\n",
       "      <th>1</th>\n",
       "      <th>2</th>\n",
       "      <th>3</th>\n",
       "      <th>4</th>\n",
       "      <th>5</th>\n",
       "      <th>6</th>\n",
       "      <th>7</th>\n",
       "      <th>8</th>\n",
       "    </tr>\n",
       "  </thead>\n",
       "  <tbody>\n",
       "    <tr>\n",
       "      <th>0</th>\n",
       "      <td>-0.113401</td>\n",
       "      <td>-0.679470</td>\n",
       "      <td>-0.295260</td>\n",
       "      <td>0.628996</td>\n",
       "      <td>-0.038882</td>\n",
       "      <td>0.138602</td>\n",
       "      <td>-0.099880</td>\n",
       "      <td>0.109302</td>\n",
       "      <td>1.285345</td>\n",
       "    </tr>\n",
       "    <tr>\n",
       "      <th>1</th>\n",
       "      <td>-0.506170</td>\n",
       "      <td>0.083436</td>\n",
       "      <td>-0.025797</td>\n",
       "      <td>-0.088384</td>\n",
       "      <td>-0.845307</td>\n",
       "      <td>0.102194</td>\n",
       "      <td>-0.043891</td>\n",
       "      <td>-0.037941</td>\n",
       "      <td>1.153403</td>\n",
       "    </tr>\n",
       "    <tr>\n",
       "      <th>2</th>\n",
       "      <td>-0.083816</td>\n",
       "      <td>-0.697841</td>\n",
       "      <td>0.276138</td>\n",
       "      <td>-0.651611</td>\n",
       "      <td>0.047705</td>\n",
       "      <td>0.043862</td>\n",
       "      <td>-0.030417</td>\n",
       "      <td>0.004244</td>\n",
       "      <td>1.001986</td>\n",
       "    </tr>\n",
       "    <tr>\n",
       "      <th>3</th>\n",
       "      <td>-0.004149</td>\n",
       "      <td>-0.024442</td>\n",
       "      <td>-0.002085</td>\n",
       "      <td>0.012821</td>\n",
       "      <td>0.001318</td>\n",
       "      <td>0.426631</td>\n",
       "      <td>0.902680</td>\n",
       "      <td>0.048683</td>\n",
       "      <td>0.999421</td>\n",
       "    </tr>\n",
       "    <tr>\n",
       "      <th>4</th>\n",
       "      <td>-0.008763</td>\n",
       "      <td>-0.124154</td>\n",
       "      <td>-0.030473</td>\n",
       "      <td>0.090972</td>\n",
       "      <td>-0.009974</td>\n",
       "      <td>-0.236711</td>\n",
       "      <td>0.158124</td>\n",
       "      <td>-0.945606</td>\n",
       "      <td>0.990727</td>\n",
       "    </tr>\n",
       "    <tr>\n",
       "      <th>5</th>\n",
       "      <td>-0.155808</td>\n",
       "      <td>-0.100945</td>\n",
       "      <td>-0.098976</td>\n",
       "      <td>0.009512</td>\n",
       "      <td>-0.050314</td>\n",
       "      <td>-0.848685</td>\n",
       "      <td>0.381432</td>\n",
       "      <td>0.295565</td>\n",
       "      <td>0.898104</td>\n",
       "    </tr>\n",
       "    <tr>\n",
       "      <th>6</th>\n",
       "      <td>-0.581836</td>\n",
       "      <td>0.112075</td>\n",
       "      <td>-0.619185</td>\n",
       "      <td>-0.268199</td>\n",
       "      <td>0.423082</td>\n",
       "      <td>0.100420</td>\n",
       "      <td>-0.042541</td>\n",
       "      <td>-0.051886</td>\n",
       "      <td>0.852516</td>\n",
       "    </tr>\n",
       "    <tr>\n",
       "      <th>7</th>\n",
       "      <td>-0.600836</td>\n",
       "      <td>0.074927</td>\n",
       "      <td>0.664668</td>\n",
       "      <td>0.302478</td>\n",
       "      <td>0.316286</td>\n",
       "      <td>0.004970</td>\n",
       "      <td>-0.006186</td>\n",
       "      <td>-0.002203</td>\n",
       "      <td>0.818497</td>\n",
       "    </tr>\n",
       "  </tbody>\n",
       "</table>\n",
       "</div>"
      ],
      "text/plain": [
       "          0         1         2         3         4         5         6  \\\n",
       "0 -0.113401 -0.679470 -0.295260  0.628996 -0.038882  0.138602 -0.099880   \n",
       "1 -0.506170  0.083436 -0.025797 -0.088384 -0.845307  0.102194 -0.043891   \n",
       "2 -0.083816 -0.697841  0.276138 -0.651611  0.047705  0.043862 -0.030417   \n",
       "3 -0.004149 -0.024442 -0.002085  0.012821  0.001318  0.426631  0.902680   \n",
       "4 -0.008763 -0.124154 -0.030473  0.090972 -0.009974 -0.236711  0.158124   \n",
       "5 -0.155808 -0.100945 -0.098976  0.009512 -0.050314 -0.848685  0.381432   \n",
       "6 -0.581836  0.112075 -0.619185 -0.268199  0.423082  0.100420 -0.042541   \n",
       "7 -0.600836  0.074927  0.664668  0.302478  0.316286  0.004970 -0.006186   \n",
       "\n",
       "          7         8  \n",
       "0  0.109302  1.285345  \n",
       "1 -0.037941  1.153403  \n",
       "2  0.004244  1.001986  \n",
       "3  0.048683  0.999421  \n",
       "4 -0.945606  0.990727  \n",
       "5  0.295565  0.898104  \n",
       "6 -0.051886  0.852516  \n",
       "7 -0.002203  0.818497  "
      ]
     },
     "execution_count": 104,
     "metadata": {},
     "output_type": "execute_result"
    }
   ],
   "source": [
    "# 고유값(8번째 컬럼)에 의해서 고유벡터들을 정렬합니다.\n",
    "dfEigSorted = dfEig.sort_values(by=8, ascending=False).reset_index(drop=True)\n",
    "dfEigSorted"
   ]
  },
  {
   "cell_type": "code",
   "execution_count": 105,
   "metadata": {},
   "outputs": [
    {
     "data": {
      "text/plain": [
       "0    0.160668\n",
       "1    0.144175\n",
       "2    0.125248\n",
       "3    0.124928\n",
       "4    0.123841\n",
       "5    0.112263\n",
       "6    0.106564\n",
       "7    0.102312\n",
       "Name: 8, dtype: float64"
      ]
     },
     "execution_count": 105,
     "metadata": {},
     "output_type": "execute_result"
    }
   ],
   "source": [
    "dfEigSorted[8]/8 # "
   ]
  },
  {
   "cell_type": "code",
   "execution_count": 106,
   "metadata": {},
   "outputs": [
    {
     "data": {
      "text/plain": [
       "0    1.285345\n",
       "1    2.438749\n",
       "2    3.440734\n",
       "3    4.440156\n",
       "4    5.430883\n",
       "5    6.328987\n",
       "6    7.181503\n",
       "7    8.000000\n",
       "Name: 8, dtype: float64"
      ]
     },
     "execution_count": 106,
     "metadata": {},
     "output_type": "execute_result"
    }
   ],
   "source": [
    "dfEigSorted[8].cumsum()"
   ]
  },
  {
   "cell_type": "code",
   "execution_count": 107,
   "metadata": {},
   "outputs": [
    {
     "data": {
      "text/plain": [
       "array([1.2853455 , 1.15340328, 1.00198554, 0.99942148, 0.99072678,\n",
       "       0.89810438, 0.85251558, 0.81849747])"
      ]
     },
     "execution_count": 107,
     "metadata": {},
     "output_type": "execute_result"
    }
   ],
   "source": [
    "sorted_vecs = np.matrix(dfEigSorted.iloc[:, :8], dtype=np.float)\n",
    "sorted_vecs\n",
    "sorted_vals = np.array(dfEigSorted.iloc[:, 8])\n",
    "sorted_vals"
   ]
  },
  {
   "cell_type": "code",
   "execution_count": 111,
   "metadata": {},
   "outputs": [
    {
     "data": {
      "text/plain": [
       "matrix([[-0.113401  , -0.67947019, -0.29526049,  0.62899637, -0.03888184,\n",
       "          0.13860196, -0.09987994,  0.10930225],\n",
       "        [-0.50616965,  0.08343598, -0.02579719, -0.08838371, -0.84530701,\n",
       "          0.10219445, -0.0438909 , -0.03794074],\n",
       "        [-0.08381643, -0.69784137,  0.2761375 , -0.65161145,  0.04770458,\n",
       "          0.04386216, -0.03041717,  0.00424368],\n",
       "        [-0.004149  , -0.02444184, -0.00208464,  0.01282073,  0.00131817,\n",
       "          0.42663139,  0.90267963,  0.04868325],\n",
       "        [-0.00876333, -0.1241537 , -0.03047259,  0.09097213, -0.00997419,\n",
       "         -0.23671052,  0.15812441, -0.94560556],\n",
       "        [-0.15580756, -0.10094469, -0.09897614,  0.0095124 , -0.05031435,\n",
       "         -0.84868532,  0.38143218,  0.29556488],\n",
       "        [-0.58183586,  0.11207458, -0.61918541, -0.26819936,  0.42308244,\n",
       "          0.1004202 , -0.04254127, -0.05188566],\n",
       "        [-0.60083636,  0.07492681,  0.66466838,  0.30247765,  0.31628632,\n",
       "          0.00496991, -0.00618589, -0.00220336]])"
      ]
     },
     "execution_count": 111,
     "metadata": {},
     "output_type": "execute_result"
    }
   ],
   "source": [
    "sorted_vecs"
   ]
  },
  {
   "cell_type": "code",
   "execution_count": 109,
   "metadata": {},
   "outputs": [
    {
     "data": {
      "text/plain": [
       "matrix([[-0.50640472]])"
      ]
     },
     "execution_count": 109,
     "metadata": {},
     "output_type": "execute_result"
    }
   ],
   "source": [
    "sorted_vecs[0].dot(sorted_vals.T)"
   ]
  },
  {
   "cell_type": "code",
   "execution_count": 54,
   "metadata": {},
   "outputs": [
    {
     "data": {
      "text/plain": [
       "array([[-0.67947019, -0.29526049, -0.113401  , -0.09987994, -0.03888184,\n",
       "         0.10930225,  0.13860196,  0.62899637],\n",
       "       [-0.84530701, -0.50616965, -0.08838371, -0.0438909 , -0.03794074,\n",
       "        -0.02579719,  0.08343598,  0.10219445],\n",
       "       [-0.60083636, -0.00618589, -0.00220336,  0.00496991,  0.07492681,\n",
       "         0.30247765,  0.31628632,  0.66466838],\n",
       "       [-0.61918541, -0.58183586, -0.26819936, -0.05188566, -0.04254127,\n",
       "         0.1004202 ,  0.11207458,  0.42308244],\n",
       "       [-0.84868532, -0.15580756, -0.10094469, -0.09897614, -0.05031435,\n",
       "         0.0095124 ,  0.29556488,  0.38143218],\n",
       "       [-0.94560556, -0.23671052, -0.1241537 , -0.03047259, -0.00997419,\n",
       "        -0.00876333,  0.09097213,  0.15812441],\n",
       "       [-0.69784137, -0.65161145, -0.08381643, -0.03041717,  0.00424368,\n",
       "         0.04386216,  0.04770458,  0.2761375 ],\n",
       "       [-0.02444184, -0.004149  , -0.00208464,  0.00131817,  0.01282073,\n",
       "         0.04868325,  0.42663139,  0.90267963]])"
      ]
     },
     "execution_count": 54,
     "metadata": {},
     "output_type": "execute_result"
    }
   ],
   "source": [
    "eigLst[2]"
   ]
  },
  {
   "cell_type": "code",
   "execution_count": 61,
   "metadata": {},
   "outputs": [
    {
     "ename": "AttributeError",
     "evalue": "'int' object has no attribute 'any'",
     "output_type": "error",
     "traceback": [
      "\u001b[1;31m---------------------------------------------------------------------------\u001b[0m",
      "\u001b[1;31mAttributeError\u001b[0m                            Traceback (most recent call last)",
      "\u001b[1;32m<ipython-input-61-bc3ca8582aae>\u001b[0m in \u001b[0;36m<module>\u001b[1;34m\u001b[0m\n\u001b[1;32m----> 1\u001b[1;33m \u001b[0msorted\u001b[0m\u001b[1;33m(\u001b[0m\u001b[0meigLst\u001b[0m\u001b[1;33m,\u001b[0m \u001b[0mkey\u001b[0m\u001b[1;33m=\u001b[0m\u001b[1;32mlambda\u001b[0m \u001b[0mx\u001b[0m\u001b[1;33m:\u001b[0m\u001b[0mx\u001b[0m\u001b[1;33m[\u001b[0m\u001b[1;36m1\u001b[0m\u001b[1;33m]\u001b[0m\u001b[1;33m.\u001b[0m\u001b[0many\u001b[0m\u001b[1;33m(\u001b[0m\u001b[1;33m)\u001b[0m\u001b[1;33m)\u001b[0m\u001b[1;33m\u001b[0m\u001b[1;33m\u001b[0m\u001b[0m\n\u001b[0m",
      "\u001b[1;32m<ipython-input-61-bc3ca8582aae>\u001b[0m in \u001b[0;36m<lambda>\u001b[1;34m(x)\u001b[0m\n\u001b[1;32m----> 1\u001b[1;33m \u001b[0msorted\u001b[0m\u001b[1;33m(\u001b[0m\u001b[0meigLst\u001b[0m\u001b[1;33m,\u001b[0m \u001b[0mkey\u001b[0m\u001b[1;33m=\u001b[0m\u001b[1;32mlambda\u001b[0m \u001b[0mx\u001b[0m\u001b[1;33m:\u001b[0m\u001b[0mx\u001b[0m\u001b[1;33m[\u001b[0m\u001b[1;36m1\u001b[0m\u001b[1;33m]\u001b[0m\u001b[1;33m.\u001b[0m\u001b[0many\u001b[0m\u001b[1;33m(\u001b[0m\u001b[1;33m)\u001b[0m\u001b[1;33m)\u001b[0m\u001b[1;33m\u001b[0m\u001b[1;33m\u001b[0m\u001b[0m\n\u001b[0m",
      "\u001b[1;31mAttributeError\u001b[0m: 'int' object has no attribute 'any'"
     ]
    }
   ],
   "source": []
  },
  {
   "cell_type": "code",
   "execution_count": 27,
   "metadata": {},
   "outputs": [
    {
     "data": {
      "text/plain": [
       "array([[-0.67947019, -0.29526049, -0.113401  , -0.09987994, -0.03888184,\n",
       "         0.10930225,  0.13860196,  0.62899637],\n",
       "       [-0.84530701, -0.50616965, -0.08838371, -0.0438909 , -0.03794074,\n",
       "        -0.02579719,  0.08343598,  0.10219445],\n",
       "       [-0.60083636, -0.00618589, -0.00220336,  0.00496991,  0.07492681,\n",
       "         0.30247765,  0.31628632,  0.66466838],\n",
       "       [-0.61918541, -0.58183586, -0.26819936, -0.05188566, -0.04254127,\n",
       "         0.1004202 ,  0.11207458,  0.42308244],\n",
       "       [-0.84868532, -0.15580756, -0.10094469, -0.09897614, -0.05031435,\n",
       "         0.0095124 ,  0.29556488,  0.38143218],\n",
       "       [-0.94560556, -0.23671052, -0.1241537 , -0.03047259, -0.00997419,\n",
       "        -0.00876333,  0.09097213,  0.15812441],\n",
       "       [-0.69784137, -0.65161145, -0.08381643, -0.03041717,  0.00424368,\n",
       "         0.04386216,  0.04770458,  0.2761375 ],\n",
       "       [-0.02444184, -0.004149  , -0.00208464,  0.00131817,  0.01282073,\n",
       "         0.04868325,  0.42663139,  0.90267963]])"
      ]
     },
     "execution_count": 27,
     "metadata": {},
     "output_type": "execute_result"
    }
   ],
   "source": [
    "eigLst[1]"
   ]
  },
  {
   "cell_type": "code",
   "execution_count": 46,
   "metadata": {},
   "outputs": [],
   "source": [
    "eigLst[0] = np.sort(eigLst[0])[::-1]"
   ]
  },
  {
   "cell_type": "code",
   "execution_count": 37,
   "metadata": {},
   "outputs": [
    {
     "data": {
      "text/plain": [
       "array([0.16066819, 0.3048436 , 0.40715578, 0.51372023, 0.62598327,\n",
       "       0.74982412, 0.87507232, 1.        ])"
      ]
     },
     "execution_count": 37,
     "metadata": {},
     "output_type": "execute_result"
    }
   ],
   "source": [
    "explained_variance = eigLst[0].cumsum()\n",
    "explained_variance_ratio_ = explained_variance / max(explained_variance)\n",
    "explained_variance_ratio_"
   ]
  },
  {
   "cell_type": "code",
   "execution_count": null,
   "metadata": {},
   "outputs": [],
   "source": []
  }
 ],
 "metadata": {
  "kernelspec": {
   "display_name": "Python 3",
   "language": "python",
   "name": "python3"
  },
  "language_info": {
   "codemirror_mode": {
    "name": "ipython",
    "version": 3
   },
   "file_extension": ".py",
   "mimetype": "text/x-python",
   "name": "python",
   "nbconvert_exporter": "python",
   "pygments_lexer": "ipython3",
   "version": "3.7.3"
  }
 },
 "nbformat": 4,
 "nbformat_minor": 2
}
