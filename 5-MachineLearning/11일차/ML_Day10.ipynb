{
 "cells": [
  {
   "cell_type": "code",
   "execution_count": 1,
   "metadata": {},
   "outputs": [
    {
     "data": {
      "text/plain": [
       "<tf.Tensor 'range:0' shape=(5,) dtype=int32>"
      ]
     },
     "execution_count": 1,
     "metadata": {},
     "output_type": "execute_result"
    }
   ],
   "source": [
    "import tensorflow as tf\n",
    "tf.range(5)"
   ]
  },
  {
   "cell_type": "code",
   "execution_count": 3,
   "metadata": {},
   "outputs": [
    {
     "data": {
      "text/plain": [
       "<tf.Tensor 'LinSpace_1:0' shape=(11,) dtype=float32>"
      ]
     },
     "execution_count": 3,
     "metadata": {},
     "output_type": "execute_result"
    }
   ],
   "source": [
    "tf.linspace(0.0, 5, 11)"
   ]
  },
  {
   "cell_type": "code",
   "execution_count": 4,
   "metadata": {},
   "outputs": [
    {
     "data": {
      "text/plain": [
       "<tf.Tensor 'zeros:0' shape=(2, 3) dtype=float32>"
      ]
     },
     "execution_count": 4,
     "metadata": {},
     "output_type": "execute_result"
    }
   ],
   "source": [
    "tf.zeros((2,3)) #상수 텐서"
   ]
  },
  {
   "cell_type": "code",
   "execution_count": 5,
   "metadata": {},
   "outputs": [
    {
     "data": {
      "text/plain": [
       "<tf.Tensor 'ones:0' shape=(2, 3) dtype=float32>"
      ]
     },
     "execution_count": 5,
     "metadata": {},
     "output_type": "execute_result"
    }
   ],
   "source": [
    "tf.ones((2,3))"
   ]
  },
  {
   "cell_type": "code",
   "execution_count": 6,
   "metadata": {},
   "outputs": [
    {
     "data": {
      "text/plain": [
       "<tf.Tensor 'Fill:0' shape=(3, 3) dtype=int32>"
      ]
     },
     "execution_count": 6,
     "metadata": {},
     "output_type": "execute_result"
    }
   ],
   "source": [
    "tf.fill([3,3], 5) #모두 5로 채움"
   ]
  },
  {
   "cell_type": "code",
   "execution_count": 7,
   "metadata": {},
   "outputs": [
    {
     "data": {
      "text/plain": [
       "<tf.Tensor 'zeros_like:0' shape=(2, 3) dtype=int32>"
      ]
     },
     "execution_count": 7,
     "metadata": {},
     "output_type": "execute_result"
    }
   ],
   "source": [
    "tf.zeros_like([[3,4,5],[0,0,1]])\n",
    "#2행 3열에 0이 모두 채워진채로 배열이 생성"
   ]
  },
  {
   "cell_type": "code",
   "execution_count": 14,
   "metadata": {},
   "outputs": [
    {
     "data": {
      "text/plain": [
       "<tf.Tensor 'RandomShuffle_3:0' shape=(4,) dtype=int32>"
      ]
     },
     "execution_count": 14,
     "metadata": {},
     "output_type": "execute_result"
    }
   ],
   "source": [
    "#tf.random.set_random_seed(777)\n",
    "tf.set_random_seed(777)\n",
    "tf.random.shuffle([1,2,3,4])\n",
    "#tensorflow.org 사이트 참고 api 확인"
   ]
  },
  {
   "cell_type": "code",
   "execution_count": null,
   "metadata": {},
   "outputs": [],
   "source": [
    "# tf.reshape(x, (3,2))#x가 1차원 벡터 -> 3행2열\n",
    "# tf.transpose(x) #전치행렬\n"
   ]
  },
  {
   "cell_type": "code",
   "execution_count": 31,
   "metadata": {},
   "outputs": [
    {
     "name": "stdout",
     "output_type": "stream",
     "text": [
      "[[1 2 3]\n",
      " [5 6 7]]\n",
      "Tensor(\"split_7:0\", shape=(3, 2), dtype=int32)\n",
      "Tensor(\"split_7:1\", shape=(3, 2), dtype=int32)\n",
      "[[ 0  1  2  3]\n",
      " [ 4  5  6  7]\n",
      " [ 8  9 10 11]]\n",
      "[[0 1]\n",
      " [4 5]\n",
      " [8 9]]\n",
      "[[ 2  3]\n",
      " [ 6  7]\n",
      " [10 11]]\n"
     ]
    }
   ],
   "source": [
    "r0=tf.reshape(tf.range(12), (3,4))\n",
    "r0\n",
    "sess=tf.Session()\n",
    "sess.run(r0)\n",
    "r1=tf.slice(r0, [0,1], [2,3])\n",
    "print(sess.run(r1))\n",
    "s1,s2=tf.split(r0, num_or_size_splits=2, axis=1)\n",
    "print(s1)\n",
    "print(s2)\n",
    "print(sess.run(r0))\n",
    "print(sess.run(s1))\n",
    "print(sess.run(s2))"
   ]
  },
  {
   "cell_type": "code",
   "execution_count": 39,
   "metadata": {},
   "outputs": [
    {
     "name": "stdout",
     "output_type": "stream",
     "text": [
      "[2 3 4 5 6 7]\n",
      "[-2 -1  0  1  2  3]\n",
      "[ 0  2  4  6  8 10]\n",
      "[0.  0.5 1.  1.5 2.  2.5]\n"
     ]
    }
   ],
   "source": [
    "a=tf.range(6, dtype=tf.int32)\n",
    "b=2*tf.ones(6, dtype=tf.int32)\n",
    "#sess.run(a)\n",
    "#sess.run(b)\n",
    "print(sess.run(tf.add(a,b)))\n",
    "print(sess.run(tf.subtract(a,b)))\n",
    "print(sess.run(tf.multiply(a,b)))\n",
    "print(sess.run(tf.divide(a,b)))"
   ]
  },
  {
   "cell_type": "code",
   "execution_count": 40,
   "metadata": {},
   "outputs": [
    {
     "name": "stdout",
     "output_type": "stream",
     "text": [
      "Tensor(\"add_5:0\", shape=(6,), dtype=int32)\n"
     ]
    }
   ],
   "source": [
    "print(a+b) #tf.add(a,b)"
   ]
  },
  {
   "cell_type": "code",
   "execution_count": null,
   "metadata": {},
   "outputs": [],
   "source": [
    "# tf.abs()\n",
    "# tf.square()\n",
    "# tf.cumsum()\n",
    "# tf.sqrt()\n",
    "# tf.maximum, minimum()\n",
    "\n",
    "# tf.reduce_mean():axis설정된 축 기준으로 평균\n",
    "# tf.reduce_sum():\n",
    "# tf.reduce_min()\n",
    "# tf.reduce_max()"
   ]
  },
  {
   "cell_type": "code",
   "execution_count": 44,
   "metadata": {},
   "outputs": [
    {
     "name": "stdout",
     "output_type": "stream",
     "text": [
      "[[2. 2.]\n",
      " [1. 1.]]\n",
      "[[0.5 0. ]\n",
      " [0.  1. ]]\n"
     ]
    }
   ],
   "source": [
    "x=tf.constant([[2,0], [0,1]], dtype=tf.float32)\n",
    "y=tf.constant([[1,1], [1,1]], dtype=tf.float32)\n",
    "z=tf.matmul(x,y)\n",
    "print(sess.run(z))\n",
    "xinv=tf.linalg.inv(x) #역행렬\n",
    "print(sess.run(xinv))"
   ]
  },
  {
   "cell_type": "code",
   "execution_count": null,
   "metadata": {},
   "outputs": [],
   "source": [
    "#tf.nn.sigmoid():로지스틱 함수"
   ]
  },
  {
   "cell_type": "code",
   "execution_count": 46,
   "metadata": {},
   "outputs": [],
   "source": [
    "#회귀모델(hf=wx+b), hf 예측값, 오류:hf-ytrain"
   ]
  },
  {
   "cell_type": "code",
   "execution_count": 70,
   "metadata": {},
   "outputs": [
    {
     "name": "stdout",
     "output_type": "stream",
     "text": [
      "0 3.6927404 1.9066666 -0.04\n",
      "20 0.05091986 1.225077 -0.31920844\n",
      "40 0.016299928 1.1536561 -0.33097196\n",
      "60 0.01453234 1.1406416 -0.3179661\n",
      "80 0.01319603 1.1334801 -0.3032655\n",
      "100 0.011984825 1.1271546 -0.2890362\n",
      "120 0.010884817 1.1211737 -0.27545485\n",
      "140 0.009885769 1.1154785 -0.26250967\n",
      "160 0.008978414 1.1100514 -0.2501727\n",
      "180 0.008154345 1.1048795 -0.23841552\n",
      "200 0.007405887 1.0999503 -0.22721079\n",
      "220 0.006726151 1.0952532 -0.21653274\n",
      "240 0.0061088055 1.0907767 -0.20635657\n",
      "260 0.00554811 1.0865105 -0.1966586\n",
      "280 0.0050388915 1.0824448 -0.18741637\n",
      "300 0.00457639 1.07857 -0.17860837\n",
      "320 0.004156348 1.0748775 -0.17021438\n",
      "340 0.0037748616 1.0713587 -0.16221493\n",
      "360 0.0034283816 1.068005 -0.15459144\n",
      "380 0.0031137203 1.0648091 -0.1473262\n",
      "400 0.002827934 1.0617633 -0.14040242\n",
      "420 0.0025683732 1.0588604 -0.13380395\n",
      "440 0.0023326322 1.0560943 -0.12751558\n",
      "460 0.0021185277 1.0534581 -0.12152282\n",
      "480 0.0019240867 1.0509459 -0.11581172\n",
      "500 0.0017474879 1.0485516 -0.110369004\n",
      "520 0.0015870914 1.0462698 -0.105182104\n",
      "540 0.001441428 1.0440953 -0.10023891\n",
      "560 0.0013091238 1.042023 -0.09552805\n",
      "580 0.0011889687 1.040048 -0.091038704\n",
      "600 0.0010798388 1.0381659 -0.086760096\n",
      "620 0.0009807277 1.0363722 -0.08268267\n",
      "640 0.00089071365 1.0346628 -0.07879688\n",
      "660 0.00080895796 1.0330338 -0.0750937\n",
      "680 0.0007347082 1.0314815 -0.07156457\n",
      "700 0.0006672777 1.030002 -0.06820139\n",
      "720 0.0006060296 1.028592 -0.064996205\n",
      "740 0.00055040646 1.0272483 -0.061941635\n",
      "760 0.00049989333 1.0259677 -0.059030622\n",
      "780 0.00045400698 1.0247474 -0.056256436\n",
      "800 0.00041233478 1.0235842 -0.05361262\n",
      "820 0.00037449214 1.022476 -0.05109305\n",
      "840 0.00034012043 1.0214199 -0.048691947\n",
      "860 0.00030890244 1.0204129 -0.046403594\n",
      "880 0.00028054643 1.0194534 -0.044222616\n",
      "900 0.00025479656 1.0185392 -0.042144224\n",
      "920 0.00023141096 1.0176679 -0.040163506\n",
      "940 0.00021017158 1.0168377 -0.03827594\n",
      "960 0.00019087951 1.0160463 -0.0364771\n",
      "980 0.00017335922 1.0152922 -0.03476279\n",
      "1000 0.00015744746 1.0145735 -0.03312904\n",
      "1020 0.00014299677 1.0138886 -0.031572085\n",
      "1040 0.00012987104 1.0132359 -0.030088354\n",
      "1060 0.00011795252 1.0126139 -0.028674329\n",
      "1080 0.00010712567 1.0120211 -0.027326752\n",
      "1100 9.729469e-05 1.0114561 -0.026042497\n",
      "1120 8.836424e-05 1.0109178 -0.024818627\n",
      "1140 8.0253805e-05 1.0104048 -0.023652263\n",
      "1160 7.28886e-05 1.0099158 -0.022540813\n",
      "1180 6.619789e-05 1.0094497 -0.021481432\n",
      "1200 6.0122944e-05 1.0090057 -0.020471865\n",
      "1220 5.4603956e-05 1.0085824 -0.019509783\n",
      "1240 4.9591923e-05 1.0081791 -0.018592868\n",
      "1260 4.5040466e-05 1.0077946 -0.017719068\n",
      "1280 4.090716e-05 1.0074283 -0.016886339\n",
      "1300 3.715199e-05 1.0070792 -0.016092729\n",
      "1320 3.3741562e-05 1.0067466 -0.015336479\n",
      "1340 3.064481e-05 1.0064294 -0.014615743\n",
      "1360 2.7832226e-05 1.0061274 -0.013928847\n",
      "1380 2.5277894e-05 1.0058393 -0.013274228\n",
      "1400 2.295726e-05 1.0055649 -0.012650378\n",
      "1420 2.0850954e-05 1.0053035 -0.012055871\n",
      "1440 1.8936991e-05 1.0050544 -0.011489377\n",
      "1460 1.7199665e-05 1.0048167 -0.010949464\n",
      "1480 1.5620488e-05 1.0045904 -0.010434897\n",
      "1500 1.4187273e-05 1.0043746 -0.009944525\n",
      "1520 1.2885236e-05 1.0041691 -0.009477176\n",
      "1540 1.1702607e-05 1.0039731 -0.00903181\n",
      "1560 1.0627995e-05 1.0037863 -0.008607347\n",
      "1580 9.652602e-06 1.0036085 -0.008202821\n",
      "1600 8.76654e-06 1.0034388 -0.007817308\n",
      "1620 7.962201e-06 1.0032773 -0.007449938\n",
      "1640 7.2313874e-06 1.0031233 -0.007099847\n",
      "1660 6.5676886e-06 1.0029765 -0.006766218\n",
      "1680 5.9650024e-06 1.0028367 -0.0064482717\n",
      "1700 5.417773e-06 1.0027033 -0.006145274\n",
      "1720 4.920277e-06 1.0025764 -0.005856478\n",
      "1740 4.4686026e-06 1.0024552 -0.0055812867\n",
      "1760 4.058765e-06 1.0023398 -0.0053189974\n",
      "1780 3.6861786e-06 1.00223 -0.0050690616\n",
      "1800 3.3480767e-06 1.0021253 -0.0048309085\n",
      "1820 3.0408382e-06 1.0020254 -0.0046039303\n",
      "1840 2.7617564e-06 1.0019302 -0.004387597\n",
      "1860 2.5082259e-06 1.0018395 -0.004181442\n",
      "1880 2.278223e-06 1.001753 -0.0039849808\n",
      "1900 2.0690097e-06 1.0016707 -0.0037977495\n",
      "1920 1.8794308e-06 1.0015923 -0.003619312\n",
      "1940 1.7070101e-06 1.0015174 -0.0034493152\n",
      "1960 1.550231e-06 1.0014462 -0.003287262\n",
      "1980 1.4080846e-06 1.0013783 -0.0031328748\n",
      "2000 1.278887e-06 1.0013133 -0.0029856954\n"
     ]
    }
   ],
   "source": [
    "xtrain=[1,2,3] #입력값\n",
    "ytrain=[1,2,3] #실제 결과값\n",
    "b=tf.Variable(0.0)\n",
    "w=tf.Variable(2.0)\n",
    "\n",
    "hf=xtrain*w+b\n",
    "cost= tf.reduce_mean(tf.square(hf-ytrain))\n",
    "# opt=tf.train.GradientDescentOptimizer(0.01)\n",
    "# train=opt.minimize(cost)\n",
    "train=tf.train.GradientDescentOptimizer(0.01).minimize(cost)\n",
    "\n",
    "###여기까지 그래프 정의 부분###\n",
    "\n",
    "#여기서부터 그래프 실행 부분#\n",
    "sess=tf.Session() #세션생성\n",
    "sess.run(tf.global_variables_initializer())#변수초기화\n",
    "#트레이닝(머신러닝)\n",
    "for step in range(2001):\n",
    "    sess.run(train)\n",
    "    if step % 20==0:\n",
    "        print(step, sess.run(cost), sess.run(w))\n",
    "    \n",
    "    \n",
    "# print(\"step 1: \")\n",
    "# #x=1, y=1\n",
    "# #-0.04*1+1.059=>1.019\n",
    "# print(\"w=\",sess.run(w),\"b=\",sess.run(b))\n",
    "# print(\"cost=\", sess.run(cost))\n",
    "\n",
    "# sess.run(train)\n",
    "# print(\"step 2: \")\n",
    "# print(\"w=\",sess.run(w),\"b=\",sess.run(b))\n",
    "# print(\"cost=\", sess.run(cost))\n",
    "\n",
    "# sess.run(train)\n",
    "# print(\"step 3: \")\n",
    "# print(\"w=\",sess.run(w),\"b=\",sess.run(b))\n",
    "# print(\"cost=\", sess.run(cost))\n",
    "# #반복문 변경\n"
   ]
  },
  {
   "cell_type": "code",
   "execution_count": 71,
   "metadata": {},
   "outputs": [],
   "source": [
    "#placeholder를 사용한 학습"
   ]
  },
  {
   "cell_type": "code",
   "execution_count": 72,
   "metadata": {},
   "outputs": [],
   "source": [
    "w=tf.Variable(tf.random_normal([1]), name='weight')\n",
    "b=tf.Variable(tf.random_normal([1]), name='bias')"
   ]
  },
  {
   "cell_type": "code",
   "execution_count": 74,
   "metadata": {},
   "outputs": [],
   "source": [
    "x=tf.placeholder(tf.float32, shape=[None])\n",
    "y=tf.placeholder(tf.float32, shape=[None])\n",
    "hf=x*w+b\n",
    "cost=tf.reduce_mean(tf.square(hf-y))\n",
    "train=tf.train.GradientDescentOptimizer(0.01).minimize(cost)"
   ]
  },
  {
   "cell_type": "code",
   "execution_count": 79,
   "metadata": {},
   "outputs": [
    {
     "name": "stdout",
     "output_type": "stream",
     "text": [
      "0 13.170853 [-0.84387577] [0.82424265]\n",
      "20 0.36275855 [0.30739045] [1.2538304]\n",
      "40 0.22429632 [0.44131204] [1.2394985]\n",
      "60 0.20275599 [0.4772208] [1.1854929]\n",
      "80 0.18413751 [0.5027086] [1.1301832]\n",
      "100 0.16723664 [0.5261671] [1.0771073]\n",
      "120 0.15188698 [0.54844385] [1.0264909]\n",
      "140 0.13794611 [0.569666] [0.97824985]\n",
      "160 0.12528488 [0.5898902] [0.9322758]\n",
      "180 0.11378574 [0.6091639] [0.8884623]\n",
      "200 0.10334205 [0.62753177] [0.8467079]\n",
      "220 0.0938569 [0.6450364] [0.80691564]\n",
      "240 0.08524234 [0.66171837] [0.76899356]\n",
      "260 0.077418484 [0.6776164] [0.7328537]\n",
      "280 0.070312686 [0.69276726] [0.69841224]\n",
      "300 0.06385911 [0.707206] [0.66558933]\n",
      "320 0.057997864 [0.72096634] [0.63430905]\n",
      "340 0.052674588 [0.7340799] [0.604499]\n",
      "360 0.047839865 [0.74657714] [0.57608974]\n",
      "380 0.043448966 [0.75848716] [0.5490156]\n",
      "400 0.03946106 [0.7698373] [0.52321386]\n",
      "420 0.035839126 [0.7806542] [0.49862465]\n",
      "440 0.032549676 [0.79096264] [0.47519112]\n",
      "460 0.029562132 [0.8007866] [0.45285887]\n",
      "480 0.026848802 [0.81014884] [0.43157622]\n",
      "500 0.024384508 [0.8190712] [0.41129372]\n",
      "520 0.022146413 [0.8275742] [0.39196447]\n",
      "540 0.020113723 [0.8356775] [0.37354353]\n",
      "560 0.018267604 [0.84340006] [0.35598838]\n",
      "580 0.016590936 [0.85075974] [0.33925828]\n",
      "600 0.015068145 [0.8577735] [0.3233144]\n",
      "620 0.013685147 [0.86445755] [0.30811977]\n",
      "640 0.012429069 [0.87082756] [0.29363933]\n",
      "660 0.011288268 [0.87689817] [0.2798394]\n",
      "680 0.010252184 [0.8826835] [0.26668793]\n",
      "700 0.009311202 [0.888197] [0.25415462]\n",
      "720 0.008456581 [0.8934513] [0.2422103]\n",
      "740 0.0076804035 [0.89845866] [0.23082733]\n",
      "760 0.006975481 [0.9032307] [0.21997932]\n",
      "780 0.006335242 [0.9077785] [0.2096411]\n",
      "800 0.0057537537 [0.9121126] [0.19978872]\n",
      "820 0.005225664 [0.91624296] [0.1903994]\n",
      "840 0.0047460175 [0.92017937] [0.18145129]\n",
      "860 0.004310418 [0.9239306] [0.17292371]\n",
      "880 0.0039147916 [0.92750555] [0.16479692]\n",
      "900 0.003555474 [0.93091255] [0.15705206]\n",
      "920 0.0032291345 [0.9341594] [0.1496712]\n",
      "940 0.0029327527 [0.93725365] [0.1426372]\n",
      "960 0.0026635758 [0.94020253] [0.13593377]\n",
      "980 0.0024190939 [0.9430128] [0.12954538]\n",
      "1000 0.0021970624 [0.945691] [0.12345722]\n",
      "1020 0.0019954091 [0.94824326] [0.11765516]\n",
      "1040 0.0018122587 [0.9506757] [0.1121258]\n",
      "1060 0.0016459188 [0.95299375] [0.10685626]\n",
      "1080 0.0014948525 [0.9552028] [0.1018344]\n",
      "1100 0.0013576556 [0.9573081] [0.09704859]\n",
      "1120 0.0012330437 [0.9593146] [0.09248769]\n",
      "1140 0.0011198695 [0.96122664] [0.08814105]\n",
      "1160 0.0010170798 [0.9630488] [0.08399873]\n",
      "1180 0.00092372665 [0.9647854] [0.08005112]\n",
      "1200 0.0008389459 [0.9664403] [0.076289]\n",
      "1220 0.0007619409 [0.9680175] [0.07270369]\n",
      "1240 0.00069200946 [0.9695204] [0.06928693]\n",
      "1260 0.00062849646 [0.97095305] [0.06603068]\n",
      "1280 0.0005708086 [0.9723181] [0.06292748]\n",
      "1300 0.00051841926 [0.97361904] [0.05997012]\n",
      "1320 0.00047083493 [0.9748588] [0.05715176]\n",
      "1340 0.00042762022 [0.97604036] [0.05446585]\n",
      "1360 0.00038836987 [0.9771664] [0.05190615]\n",
      "1380 0.00035272585 [0.9782395] [0.04946675]\n",
      "1400 0.00032035125 [0.9792621] [0.04714203]\n",
      "1420 0.0002909477 [0.9802369] [0.04492652]\n",
      "1440 0.0002642434 [0.9811655] [0.0428151]\n",
      "1460 0.00023999096 [0.9820507] [0.04080295]\n",
      "1480 0.0002179616 [0.9828943] [0.03888536]\n",
      "1500 0.00019795656 [0.9836982] [0.03705786]\n",
      "1520 0.00017978872 [0.98446435] [0.03531628]\n",
      "1540 0.00016328465 [0.98519444] [0.03365652]\n",
      "1560 0.00014829791 [0.98589027] [0.03207477]\n",
      "1580 0.00013468695 [0.9865534] [0.03056736]\n",
      "1600 0.00012232458 [0.9871853] [0.02913081]\n",
      "1620 0.0001110972 [0.98778754] [0.02776177]\n",
      "1640 0.00010090105 [0.98836154] [0.02645708]\n",
      "1660 9.1638205e-05 [0.9889084] [0.02521369]\n",
      "1680 8.3229e-05 [0.98942965] [0.02402878]\n",
      "1700 7.5591146e-05 [0.98992634] [0.02289963]\n",
      "1720 6.865172e-05 [0.9903999] [0.02182342]\n",
      "1740 6.2351464e-05 [0.99085104] [0.02079779]\n",
      "1760 5.6627894e-05 [0.99128103] [0.01982035]\n",
      "1780 5.1430743e-05 [0.9916908] [0.01888882]\n",
      "1800 4.6709305e-05 [0.9920813] [0.01800111]\n",
      "1820 4.242272e-05 [0.99245346] [0.01715512]\n",
      "1840 3.8528786e-05 [0.9928081] [0.01634888]\n",
      "1860 3.4992845e-05 [0.99314606] [0.01558057]\n",
      "1880 3.1781023e-05 [0.9934682] [0.01484833]\n",
      "1900 2.8863562e-05 [0.9937752] [0.0141505]\n",
      "1920 2.6214433e-05 [0.9940677] [0.01348548]\n",
      "1940 2.3808223e-05 [0.9943465] [0.01285169]\n",
      "1960 2.1623144e-05 [0.99461216] [0.01224774]\n",
      "1980 1.9638466e-05 [0.9948655] [0.01167214]\n",
      "2000 1.7836466e-05 [0.99510676] [0.01112357]\n"
     ]
    }
   ],
   "source": [
    "sess=tf.Session()\n",
    "sess.run(tf.global_variables_initializer())\n",
    "for step in range(2001):\n",
    "    cv, wv, bv, _=sess.run([cost, w, b, train], feed_dict={x:[1,2,3], y:[1,2,3]})\n",
    "    if step%20==0:\n",
    "        print(step, cv, wv, bv)"
   ]
  },
  {
   "cell_type": "code",
   "execution_count": 82,
   "metadata": {},
   "outputs": [
    {
     "data": {
      "image/png": "[encoded data removed]",
      "text/plain": [
       "<Figure size 432x288 with 1 Axes>"
      ]
     },
     "metadata": {
      "needs_background": "light"
     },
     "output_type": "display_data"
    }
   ],
   "source": [
    "import matplotlib.pyplot as plt\n",
    "xtrain=[1,2,3] #입력값\n",
    "ytrain=[1,2,3] #실제 결과값\n",
    "w=tf.placeholder(tf.float32)\n",
    "hf=xtrain*w\n",
    "cost= tf.reduce_mean(tf.square(hf-ytrain))\n",
    "sess=tf.Session() #세션생성\n",
    "sess.run(tf.global_variables_initializer())#변수초기화\n",
    "wvList=[]\n",
    "cvList=[]\n",
    "for step in range(-50,50):\n",
    "    fw=step*0.1\n",
    "    cv, wv=sess.run([cost,w], feed_dict={w:fw})\n",
    "    wvList.append(wv)\n",
    "    cvList.append(cv)\n",
    "plt.plot(wvList, cvList)\n",
    "plt.show()"
   ]
  },
  {
   "cell_type": "code",
   "execution_count": 90,
   "metadata": {},
   "outputs": [
    {
     "name": "stdout",
     "output_type": "stream",
     "text": [
      "w:[100.] b:[-0.30000022] loss:303410.75\n",
      "w:[100.] b:[-0.3000044] loss:303410.75\n",
      "w:[100.] b:[-0.30000857] loss:303410.75\n",
      "w:[100.] b:[-0.30001274] loss:303410.75\n",
      "w:[100.] b:[-0.3000169] loss:303410.75\n",
      "w:[100.] b:[-0.30002108] loss:303410.75\n",
      "w:[100.] b:[-0.30002525] loss:303410.75\n",
      "w:[100.] b:[-0.30002943] loss:303410.72\n",
      "w:[100.] b:[-0.3000336] loss:303410.7\n",
      "w:[100.] b:[-0.30003777] loss:303410.7\n",
      "w:[100.] b:[-0.30004194] loss:303410.66\n",
      "w:[100.] b:[-0.30004612] loss:303410.66\n",
      "w:[100.] b:[-0.3000503] loss:303410.66\n",
      "w:[100.] b:[-0.30005446] loss:303410.66\n",
      "w:[100.] b:[-0.30005863] loss:303410.66\n",
      "w:[100.] b:[-0.3000628] loss:303410.66\n",
      "w:[100.] b:[-0.30006698] loss:303410.62\n",
      "w:[100.] b:[-0.30007115] loss:303410.6\n",
      "w:[100.] b:[-0.30007532] loss:303410.6\n",
      "w:[100.] b:[-0.3000795] loss:303410.6\n",
      "w:[100.] b:[-0.30008367] loss:303410.6\n",
      "w:[100.] b:[-0.30008784] loss:303410.6\n",
      "w:[100.] b:[-0.300092] loss:303410.6\n",
      "w:[100.] b:[-0.30009618] loss:303410.56\n",
      "w:[100.] b:[-0.30010036] loss:303410.56\n",
      "w:[100.] b:[-0.30010453] loss:303410.56\n",
      "w:[100.] b:[-0.3001087] loss:303410.56\n",
      "w:[100.] b:[-0.30011287] loss:303410.56\n",
      "w:[100.] b:[-0.30011705] loss:303410.53\n",
      "w:[100.] b:[-0.30012122] loss:303410.53\n",
      "w:[100.] b:[-0.3001254] loss:303410.5\n",
      "w:[100.] b:[-0.30012956] loss:303410.5\n",
      "w:[100.] b:[-0.30013373] loss:303410.47\n",
      "w:[100.] b:[-0.3001379] loss:303410.47\n",
      "w:[100.] b:[-0.30014208] loss:303410.47\n",
      "w:[100.] b:[-0.30014625] loss:303410.47\n",
      "w:[100.] b:[-0.30015042] loss:303410.44\n",
      "w:[100.] b:[-0.3001546] loss:303410.44\n",
      "w:[100.] b:[-0.30015877] loss:303410.44\n",
      "w:[100.] b:[-0.30016294] loss:303410.44\n",
      "w:[100.] b:[-0.3001671] loss:303410.44\n",
      "w:[100.] b:[-0.3001713] loss:303410.44\n",
      "w:[100.] b:[-0.30017546] loss:303410.44\n",
      "w:[100.] b:[-0.30017963] loss:303410.4\n",
      "w:[100.] b:[-0.3001838] loss:303410.4\n",
      "w:[100.] b:[-0.30018798] loss:303410.38\n",
      "w:[100.] b:[-0.30019215] loss:303410.38\n",
      "w:[100.] b:[-0.30019632] loss:303410.34\n",
      "w:[100.] b:[-0.3002005] loss:303410.34\n",
      "w:[100.] b:[-0.30020466] loss:303410.34\n",
      "w:[100.] b:[-0.30020884] loss:303410.34\n",
      "w:[100.] b:[-0.300213] loss:303410.34\n",
      "w:[100.] b:[-0.30021718] loss:303410.3\n",
      "w:[100.] b:[-0.30022135] loss:303410.3\n",
      "w:[100.] b:[-0.30022553] loss:303410.3\n",
      "w:[100.] b:[-0.3002297] loss:303410.3\n",
      "w:[100.] b:[-0.30023387] loss:303410.3\n",
      "w:[100.] b:[-0.30023804] loss:303410.3\n",
      "w:[100.] b:[-0.30024222] loss:303410.3\n",
      "w:[100.] b:[-0.3002464] loss:303410.3\n",
      "w:[100.] b:[-0.30025056] loss:303410.25\n",
      "w:[100.] b:[-0.30025473] loss:303410.25\n",
      "w:[100.] b:[-0.3002589] loss:303410.25\n",
      "w:[100.] b:[-0.30026308] loss:303410.25\n",
      "w:[100.] b:[-0.30026725] loss:303410.25\n",
      "w:[100.] b:[-0.30027142] loss:303410.25\n",
      "w:[100.] b:[-0.3002756] loss:303410.25\n",
      "w:[100.] b:[-0.30027977] loss:303410.2\n",
      "w:[100.] b:[-0.30028394] loss:303410.2\n",
      "w:[100.] b:[-0.3002881] loss:303410.2\n",
      "w:[100.] b:[-0.30029228] loss:303410.16\n",
      "w:[100.] b:[-0.30029646] loss:303410.16\n",
      "w:[100.] b:[-0.30030063] loss:303410.16\n",
      "w:[100.] b:[-0.3003048] loss:303410.16\n",
      "w:[100.] b:[-0.30030897] loss:303410.12\n",
      "w:[100.] b:[-0.30031314] loss:303410.12\n",
      "w:[100.] b:[-0.30031732] loss:303410.12\n",
      "w:[100.] b:[-0.3003215] loss:303410.12\n",
      "w:[100.] b:[-0.30032566] loss:303410.12\n",
      "w:[100.] b:[-0.30032983] loss:303410.12\n",
      "w:[100.] b:[-0.300334] loss:303410.12\n",
      "w:[100.] b:[-0.30033818] loss:303410.12\n",
      "w:[100.] b:[-0.30034235] loss:303410.06\n",
      "w:[100.] b:[-0.30034652] loss:303410.06\n",
      "w:[100.] b:[-0.3003507] loss:303410.06\n",
      "w:[100.] b:[-0.30035487] loss:303410.06\n",
      "w:[100.] b:[-0.30035904] loss:303410.06\n",
      "w:[100.] b:[-0.3003632] loss:303410.03\n",
      "w:[100.] b:[-0.3003674] loss:303410.03\n",
      "w:[100.] b:[-0.30037156] loss:303410.0\n",
      "w:[100.] b:[-0.30037573] loss:303410.0\n",
      "w:[100.] b:[-0.3003799] loss:303410.0\n",
      "w:[100.] b:[-0.30038407] loss:303410.0\n",
      "w:[100.] b:[-0.30038825] loss:303410.0\n",
      "w:[100.] b:[-0.30039242] loss:303410.0\n",
      "w:[100.] b:[-0.3003966] loss:303410.0\n",
      "w:[100.] b:[-0.30040076] loss:303409.94\n",
      "w:[100.] b:[-0.30040494] loss:303409.94\n",
      "w:[100.] b:[-0.3004091] loss:303409.94\n",
      "w:[100.] b:[-0.30041328] loss:303409.94\n",
      "w:[100.] b:[-0.30041745] loss:303409.94\n"
     ]
    }
   ],
   "source": [
    "x=tf.placeholder(tf.float32)\n",
    "y=tf.placeholder(tf.float32)\n",
    "b=tf.Variable([-.3], tf.float32)\n",
    "w=tf.Variable([100.], tf.float32)\n",
    "\n",
    "hf=x*w+b\n",
    "loss= tf.reduce_sum(tf.square(hf-y))\n",
    "# opt=tf.train.GradientDescentOptimizer(0.01)\n",
    "# train=opt.minimize(cost)\n",
    "train=tf.train.GradientDescentOptimizer(1e-10).minimize(loss)\n",
    "xtrain=[1,2,3,4]\n",
    "ytrain=[0,-1,-2,-3]\n",
    "\n",
    "###여기까지 그래프 정의 부분###\n",
    "\n",
    "#여기서부터 그래프 실행 부분#\n",
    "sess=tf.Session() #세션생성\n",
    "sess.run(tf.global_variables_initializer())#변수초기화\n",
    "#트레이닝(머신러닝)\n",
    "for step in range(2001):\n",
    "    sess.run(train, feed_dict={x:xtrain, y:ytrain})\n",
    "    if step % 20==0:\n",
    "        wv,bv,lv=sess.run([w, b, loss], feed_dict={x:xtrain, y:ytrain})\n",
    "        print(\"w:%s b:%s loss:%s\" % (wv, bv, lv))\n",
    "#wv,bv,lv=sess.run([w, b, loss], feed_dict={x:xtrain, y:ytrain})\n",
    "\n",
    "100->?"
   ]
  },
  {
   "cell_type": "code",
   "execution_count": null,
   "metadata": {},
   "outputs": [],
   "source": []
  },
  {
   "cell_type": "code",
   "execution_count": null,
   "metadata": {},
   "outputs": [],
   "source": []
  },
  {
   "cell_type": "code",
   "execution_count": 99,
   "metadata": {},
   "outputs": [],
   "source": [
    "xtrain=[1,2,3]\n",
    "ytrain=[2,4,7]\n",
    "w=tf.Variable(5.0)\n",
    "x=tf.placeholder(tf.float32)\n",
    "y=tf.placeholder(tf.float32)"
   ]
  },
  {
   "cell_type": "code",
   "execution_count": 100,
   "metadata": {},
   "outputs": [],
   "source": [
    "hf=x*w\n",
    "cost= tf.reduce_mean(tf.square(hf-y))"
   ]
  },
  {
   "cell_type": "code",
   "execution_count": 101,
   "metadata": {},
   "outputs": [
    {
     "name": "stdout",
     "output_type": "stream",
     "text": [
      "0 33.032196\n",
      "1 30.031977\n",
      "2 27.305252\n",
      "3 24.827078\n",
      "4 22.5748\n",
      "5 20.52783\n",
      "6 18.667458\n",
      "7 16.976671\n",
      "8 15.440003\n",
      "9 14.043416\n",
      "10 12.774129\n",
      "11 11.620548\n",
      "12 10.572125\n",
      "13 9.619267\n",
      "14 8.753268\n",
      "15 7.966211\n",
      "16 7.250899\n",
      "17 6.600792\n",
      "18 6.0099435\n",
      "19 5.472954\n"
     ]
    }
   ],
   "source": [
    "#train=tf.train.GradientDescentOptimizer(0.01).minimize(cost)\n",
    "lr=0.01\n",
    "gradient=tf.reduce_mean((w*x-y)*x)\n",
    "descent=w-lr*gradient\n",
    "update=w.assign(descent)\n",
    "#train=tf.train.GradientDescentOptimizer(0.01).minimize(cost)\n",
    "sess=tf.Session()\n",
    "sess.run(tf.global_variables_initializer())\n",
    "for step in range(20):\n",
    "    sess.run(update, feed_dict={x:xtrain, y:ytrain})\n",
    "    print(step, sess.run(cost, feed_dict={x:xtrain, y:ytrain}))\n"
   ]
  },
  {
   "cell_type": "code",
   "execution_count": 96,
   "metadata": {},
   "outputs": [
    {
     "name": "stdout",
     "output_type": "stream",
     "text": [
      "0 5.0\n",
      "1 4.74\n",
      "2 4.5042663\n",
      "3 4.290535\n",
      "4 4.0967517\n",
      "5 3.9210548\n",
      "6 3.7617564\n",
      "7 3.6173258\n",
      "8 3.4863753\n",
      "9 3.367647\n",
      "10 3.26\n",
      "11 3.1624\n",
      "12 3.0739093\n",
      "13 2.9936779\n",
      "14 2.9209347\n",
      "15 2.8549807\n",
      "16 2.7951825\n",
      "17 2.7409654\n",
      "18 2.6918087\n",
      "19 2.64724\n",
      "20 2.6068308\n",
      "21 2.5701933\n",
      "22 2.5369751\n",
      "23 2.5068574\n",
      "24 2.4795506\n",
      "25 2.4547925\n",
      "26 2.4323452\n",
      "27 2.411993\n",
      "28 2.3935404\n",
      "29 2.3768098\n",
      "30 2.361641\n",
      "31 2.3478878\n",
      "32 2.3354182\n",
      "33 2.3241124\n",
      "34 2.3138618\n",
      "35 2.304568\n",
      "36 2.2961416\n",
      "37 2.2885017\n",
      "38 2.281575\n",
      "39 2.2752945\n",
      "40 2.2696004\n",
      "41 2.2644377\n",
      "42 2.2597568\n",
      "43 2.255513\n",
      "44 2.251665\n",
      "45 2.2481763\n",
      "46 2.2450132\n",
      "47 2.2421453\n",
      "48 2.239545\n",
      "49 2.2371876\n",
      "50 2.2350502\n",
      "51 2.233112\n",
      "52 2.231355\n",
      "53 2.2297618\n",
      "54 2.2283175\n",
      "55 2.2270079\n",
      "56 2.2258205\n",
      "57 2.2247438\n",
      "58 2.2237678\n",
      "59 2.2228827\n",
      "60 2.2220805\n",
      "61 2.221353\n",
      "62 2.2206933\n",
      "63 2.2200954\n",
      "64 2.2195532\n",
      "65 2.2190616\n",
      "66 2.2186158\n",
      "67 2.2182117\n",
      "68 2.2178452\n",
      "69 2.217513\n",
      "70 2.217212\n",
      "71 2.2169387\n",
      "72 2.216691\n",
      "73 2.2164664\n",
      "74 2.2162628\n",
      "75 2.2160783\n",
      "76 2.215911\n",
      "77 2.2157593\n",
      "78 2.2156217\n",
      "79 2.215497\n",
      "80 2.215384\n",
      "81 2.2152815\n",
      "82 2.2151885\n",
      "83 2.2151043\n",
      "84 2.215028\n",
      "85 2.2149587\n",
      "86 2.214896\n",
      "87 2.214839\n",
      "88 2.2147872\n",
      "89 2.2147405\n",
      "90 2.214698\n",
      "91 2.2146597\n",
      "92 2.214625\n",
      "93 2.2145932\n",
      "94 2.2145646\n",
      "95 2.2145386\n",
      "96 2.214515\n",
      "97 2.2144935\n",
      "98 2.2144742\n",
      "99 2.2144566\n"
     ]
    }
   ],
   "source": [
    "for step in range(100):\n",
    "    print(step, sess.run(w))\n",
    "    sess.run(train)"
   ]
  },
  {
   "cell_type": "code",
   "execution_count": null,
   "metadata": {},
   "outputs": [],
   "source": []
  },
  {
   "cell_type": "code",
   "execution_count": 124,
   "metadata": {},
   "outputs": [],
   "source": [
    "import numpy as np\n",
    "num_points=200\n",
    "vectors_set=[]\n",
    "for i in range(num_points):\n",
    "    x=np.random.normal(5,5)+15\n",
    "    y=x*1000+np.random.normal(0,3)*1000\n",
    "    vectors_set.append([x,y])\n",
    "xdata=[v[0] for v in vectors_set]\n",
    "ydata=[v[1] for v in vectors_set]"
   ]
  },
  {
   "cell_type": "code",
   "execution_count": 125,
   "metadata": {},
   "outputs": [
    {
     "name": "stderr",
     "output_type": "stream",
     "text": [
      "W0729 14:59:06.157494 12184 legend.py:1289] No handles with labels found to put in legend.\n"
     ]
    },
    {
     "data": {
      "text/plain": [
       "<matplotlib.legend.Legend at 0x2dde08d0588>"
      ]
     },
     "execution_count": 125,
     "metadata": {},
     "output_type": "execute_result"
    },
    {
     "data": {
      "image/png": "[encoded data removed]",
      "text/plain": [
       "<Figure size 432x288 with 1 Axes>"
      ]
     },
     "metadata": {
      "needs_background": "light"
     },
     "output_type": "display_data"
    }
   ],
   "source": [
    "plt.plot(xdata,ydata,'ro')\n",
    "plt.xlabel('x')\n",
    "plt.ylabel('y')\n",
    "plt.xlim([0,40])\n",
    "plt.ylim([0,40000])\n",
    "plt.legend()"
   ]
  },
  {
   "cell_type": "code",
   "execution_count": 126,
   "metadata": {},
   "outputs": [],
   "source": [
    "w=tf.Variable(tf.random_uniform([1], -1.0, 1.0))\n",
    "b=tf.Variable(tf.zeros([1]))\n",
    "y=w*xdata+b\n",
    "loss=tf.reduce_mean(tf.square(y-ydata)) #0.001"
   ]
  },
  {
   "cell_type": "code",
   "execution_count": 127,
   "metadata": {},
   "outputs": [],
   "source": [
    "train=tf.train.GradientDescentOptimizer(1).minimize(loss)\n",
    "sess.run(tf.initialize_all_variables())"
   ]
  },
  {
   "cell_type": "code",
   "execution_count": 128,
   "metadata": {},
   "outputs": [
    {
     "name": "stdout",
     "output_type": "stream",
     "text": [
      "0 [900164.7] [40976.598]\n",
      "0 362236070000000.0\n"
     ]
    },
    {
     "data": {
      "image/png": "[encoded data removed]",
      "text/plain": [
       "<Figure size 432x288 with 1 Axes>"
      ]
     },
     "metadata": {
      "needs_background": "light"
     },
     "output_type": "display_data"
    },
    {
     "name": "stdout",
     "output_type": "stream",
     "text": [
      "1 [-8.0315155e+08] [-36686188.]\n",
      "1 2.890166e+20\n"
     ]
    },
    {
     "data": {
      "image/png": "[encoded data removed]",
      "text/plain": [
       "<Figure size 432x288 with 1 Axes>"
      ]
     },
     "metadata": {
      "needs_background": "light"
     },
     "output_type": "display_data"
    },
    {
     "name": "stdout",
     "output_type": "stream",
     "text": [
      "2 [7.174038e+11] [3.2769178e+10]\n",
      "2 2.3059721e+26\n"
     ]
    },
    {
     "data": {
      "image/png": "[encoded data removed]",
      "text/plain": [
       "<Figure size 432x288 with 1 Axes>"
      ]
     },
     "metadata": {
      "needs_background": "light"
     },
     "output_type": "display_data"
    },
    {
     "name": "stdout",
     "output_type": "stream",
     "text": [
      "3 [-6.4081006e+14] [-2.9270571e+13]\n",
      "3 1.8398625e+32\n"
     ]
    },
    {
     "data": {
      "image/png": "[encoded data removed]",
      "text/plain": [
       "<Figure size 432x288 with 1 Axes>"
      ]
     },
     "metadata": {
      "needs_background": "light"
     },
     "output_type": "display_data"
    },
    {
     "name": "stdout",
     "output_type": "stream",
     "text": [
      "4 [5.7239373e+17] [2.6145493e+16]\n",
      "4 inf\n"
     ]
    },
    {
     "data": {
      "image/png": "[encoded data removed]",
      "text/plain": [
       "<Figure size 432x288 with 1 Axes>"
      ]
     },
     "metadata": {
      "needs_background": "light"
     },
     "output_type": "display_data"
    },
    {
     "name": "stdout",
     "output_type": "stream",
     "text": [
      "5 [-5.11282e+20] [-2.335406e+19]\n",
      "5 inf\n"
     ]
    },
    {
     "data": {
      "image/png": "[encoded data removed]",
      "text/plain": [
       "<Figure size 432x288 with 1 Axes>"
      ]
     },
     "metadata": {
      "needs_background": "light"
     },
     "output_type": "display_data"
    },
    {
     "name": "stdout",
     "output_type": "stream",
     "text": [
      "6 [4.5669483e+23] [2.086066e+22]\n",
      "6 inf\n"
     ]
    },
    {
     "data": {
      "image/png": "[encoded data removed]",
      "text/plain": [
       "<Figure size 432x288 with 1 Axes>"
      ]
     },
     "metadata": {
      "needs_background": "light"
     },
     "output_type": "display_data"
    },
    {
     "name": "stdout",
     "output_type": "stream",
     "text": [
      "7 [-4.079357e+26] [-1.8633464e+25]\n",
      "7 inf\n"
     ]
    },
    {
     "data": {
      "image/png": "[encoded data removed]",
      "text/plain": [
       "<Figure size 432x288 with 1 Axes>"
      ]
     },
     "metadata": {
      "needs_background": "light"
     },
     "output_type": "display_data"
    },
    {
     "name": "stdout",
     "output_type": "stream",
     "text": [
      "8 [3.6438233e+29] [1.6644057e+28]\n",
      "8 inf\n"
     ]
    },
    {
     "data": {
      "image/png": "[encoded data removed]",
      "text/plain": [
       "<Figure size 432x288 with 1 Axes>"
      ]
     },
     "metadata": {
      "needs_background": "light"
     },
     "output_type": "display_data"
    },
    {
     "name": "stdout",
     "output_type": "stream",
     "text": [
      "9 [-3.2547896e+32] [-1.486705e+31]\n",
      "9 inf\n"
     ]
    },
    {
     "data": {
      "image/png": "[encoded data removed]",
      "text/plain": [
       "<Figure size 432x288 with 1 Axes>"
      ]
     },
     "metadata": {
      "needs_background": "light"
     },
     "output_type": "display_data"
    }
   ],
   "source": [
    "for step in range(10):\n",
    "    sess.run(train)\n",
    "    print(step, sess.run(w), sess.run(b))\n",
    "    print(step, sess.run(loss))\n",
    "    plt.plot(xdata, ydata, 'ro')\n",
    "    plt.plot(xdata, sess.run(w)*xdata+sess.run(b)) \n",
    "    plt.show()"
   ]
  },
  {
   "cell_type": "code",
   "execution_count": 133,
   "metadata": {},
   "outputs": [],
   "source": [
    "from tensorflow import keras\n",
    "#keras패키지:텐서플로우를 엔진으로 사용하는 파이썬 패키지\n",
    "#신경망을 쉽게 구현\n",
    "#연습용 데이터셋 제공(CIFAR10, CIFAR100,영화, 뉴스, MNIST,보스턴)\n",
    "mnist=keras.datasets.mnist\n",
    "(xtrain, ytrain), (xtest, ytest)=mnist.load_data()"
   ]
  },
  {
   "cell_type": "code",
   "execution_count": 135,
   "metadata": {},
   "outputs": [
    {
     "data": {
      "image/png": "[encoded data removed]",
      "text/plain": [
       "<Figure size 576x72 with 36 Axes>"
      ]
     },
     "metadata": {
      "needs_background": "light"
     },
     "output_type": "display_data"
    }
   ],
   "source": [
    "plt.figure(figsize=(8,1))\n",
    "for i in range(36):\n",
    "    plt.subplot(3,12,i+1)\n",
    "    plt.imshow(xtrain[i], cmap='gray')\n",
    "    plt.axis(\"off\")\n",
    "plt.show()\n",
    "#[5 0 4 1 9 2 1 3 1 4]"
   ]
  },
  {
   "cell_type": "code",
   "execution_count": 137,
   "metadata": {},
   "outputs": [
    {
     "name": "stdout",
     "output_type": "stream",
     "text": [
      "(60000, 28, 28)\n",
      "(60000,)\n",
      "(10000, 28, 28)\n",
      "(10000,)\n"
     ]
    }
   ],
   "source": [
    "print(xtrain.shape)\n",
    "print(ytrain.shape)#5->0000010000\n",
    "print(xtest.shape)\n",
    "print(ytest.shape)\n"
   ]
  },
  {
   "cell_type": "code",
   "execution_count": 144,
   "metadata": {},
   "outputs": [
    {
     "name": "stdout",
     "output_type": "stream",
     "text": [
      "(60000, 784) float32\n",
      "(10000, 784) float32\n",
      "[5 0 4 1 9 2 1 3 1 4]\n"
     ]
    }
   ],
   "source": [
    "xtrain=xtrain.reshape(60000, 28*28).astype('float32')/255.0\n",
    "xtest=xtest.reshape(10000, 28*28).astype('float32')/255.0\n",
    "print(xtrain.shape, xtrain.dtype)\n",
    "print(xtest.shape, xtest.dtype)\n",
    "print(ytrain[:10])"
   ]
  },
  {
   "cell_type": "code",
   "execution_count": 145,
   "metadata": {},
   "outputs": [
    {
     "data": {
      "text/plain": [
       "array([[0., 0., 0., 0., 0., 1., 0., 0., 0., 0.],\n",
       "       [1., 0., 0., 0., 0., 0., 0., 0., 0., 0.],\n",
       "       [0., 0., 0., 0., 1., 0., 0., 0., 0., 0.],\n",
       "       [0., 1., 0., 0., 0., 0., 0., 0., 0., 0.],\n",
       "       [0., 0., 0., 0., 0., 0., 0., 0., 0., 1.],\n",
       "       [0., 0., 1., 0., 0., 0., 0., 0., 0., 0.],\n",
       "       [0., 1., 0., 0., 0., 0., 0., 0., 0., 0.],\n",
       "       [0., 0., 0., 1., 0., 0., 0., 0., 0., 0.],\n",
       "       [0., 1., 0., 0., 0., 0., 0., 0., 0., 0.],\n",
       "       [0., 0., 0., 0., 1., 0., 0., 0., 0., 0.]], dtype=float32)"
      ]
     },
     "execution_count": 145,
     "metadata": {},
     "output_type": "execute_result"
    }
   ],
   "source": [
    "from tensorflow.keras.utils import to_categorical\n",
    "ytrain=to_categorical(ytrain, 10)\n",
    "ytest=to_categorical(ytest, 10)\n",
    "ytrain[:10]"
   ]
  },
  {
   "cell_type": "code",
   "execution_count": null,
   "metadata": {},
   "outputs": [],
   "source": [
    "#keras로 신경망 구성하는 순서\n",
    "# 1)Sequential클래스-> 객체 생성\n",
    "# 2)add메서드 -> 층(레이어)을 추가\n",
    "# -입력부터 순서대로 추가\n",
    "# -shape 체크\n",
    "# -activation 활성화 설정\n",
    "# # 2개 변수-> 4개입, 10개출 -> 10개입, 20개출 -> 20개입...\n",
    "# #        2*4\n",
    "# 3)compile메서드 -> 모델 생성\n",
    "# -loss, optimizer(알고리즘), 성능기준설정\n",
    "# 4)fit메서드 -> 트레이닝\n",
    "# -에폭 설정(6만개data가 있다면 1에폭=6만개 training)\n",
    "# -배치크기설정(분할 모델링, 큐러너 등 사용)"
   ]
  },
  {
   "cell_type": "code",
   "execution_count": 147,
   "metadata": {},
   "outputs": [],
   "source": [
    "from tensorflow.keras.models import Sequential\n",
    "from tensorflow.keras.layers import Dense\n",
    "from tensorflow.keras.optimizers import SGD\n",
    "np.random.seed(0)\n",
    "#from tensorflow.keras import *"
   ]
  },
  {
   "cell_type": "code",
   "execution_count": 149,
   "metadata": {},
   "outputs": [],
   "source": [
    "model=Sequential()\n",
    "model.add(Dense(15, input_dim=784, activation='sigmoid'))\n",
    "model.add(Dense(10, activation='sigmoid'))\n",
    "model.compile(optimizer=SGD(lr=0.1), \n",
    "              loss='mean_squared_error', \n",
    "              metrics=['accuracy'])"
   ]
  },
  {
   "cell_type": "code",
   "execution_count": 150,
   "metadata": {},
   "outputs": [
    {
     "name": "stdout",
     "output_type": "stream",
     "text": [
      "Model: \"sequential_1\"\n",
      "_________________________________________________________________\n",
      "Layer (type)                 Output Shape              Param #   \n",
      "=================================================================\n",
      "dense_2 (Dense)              (None, 15)                11775     \n",
      "_________________________________________________________________\n",
      "dense_3 (Dense)              (None, 10)                160       \n",
      "=================================================================\n",
      "Total params: 11,935\n",
      "Trainable params: 11,935\n",
      "Non-trainable params: 0\n",
      "_________________________________________________________________\n"
     ]
    }
   ],
   "source": [
    "model.summary()"
   ]
  },
  {
   "cell_type": "code",
   "execution_count": null,
   "metadata": {},
   "outputs": [],
   "source": []
  },
  {
   "cell_type": "code",
   "execution_count": null,
   "metadata": {},
   "outputs": [],
   "source": []
  },
  {
   "cell_type": "code",
   "execution_count": null,
   "metadata": {},
   "outputs": [],
   "source": []
  }
 ],
 "metadata": {
  "kernelspec": {
   "display_name": "Python 3",
   "language": "python",
   "name": "python3"
  },
  "language_info": {
   "codemirror_mode": {
    "name": "ipython",
    "version": 3
   },
   "file_extension": ".py",
   "mimetype": "text/x-python",
   "name": "python",
   "nbconvert_exporter": "python",
   "pygments_lexer": "ipython3",
   "version": "3.7.3"
  }
 },
 "nbformat": 4,
 "nbformat_minor": 2
}
